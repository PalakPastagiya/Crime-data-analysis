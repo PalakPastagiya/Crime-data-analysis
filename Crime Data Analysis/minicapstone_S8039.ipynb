{
 "cells": [
  {
   "cell_type": "markdown",
   "id": "deacc879-71e8-4702-a742-9f9be8c561a7",
   "metadata": {},
   "source": [
    "### Database Connection"
   ]
  },
  {
   "cell_type": "code",
   "execution_count": 10,
   "id": "2c5933ac-2e25-4a75-a490-47cee26d019a",
   "metadata": {},
   "outputs": [],
   "source": [
    "#Importing all required libraries for the project if it is not available install and then import it\n",
    "import pymysql\n",
    "import pandas as pd\n",
    "import matplotlib.pyplot as plt\n",
    "import seaborn as sns\n",
    "import plotly.express as px\n",
    "import folium"
   ]
  },
  {
   "cell_type": "code",
   "execution_count": 11,
   "id": "69d2846a-8baf-42d5-a4ae-8a73cb2f5953",
   "metadata": {},
   "outputs": [
    {
     "name": "stdout",
     "output_type": "stream",
     "text": [
      "<pymysql.connections.Connection object at 0x000002578AEB4050>\n"
     ]
    }
   ],
   "source": [
    "# Connecting with MYSQL database of crime_dataset \n",
    "conn = pymysql.connect(\n",
    "        host='localhost',\n",
    "        user='root',\n",
    "        password=\"iamsoul@1991\",\n",
    "        db='project',\n",
    ")\n",
    "\n",
    "print(conn)\n"
   ]
  },
  {
   "cell_type": "markdown",
   "id": "4e5f1d6e-7a39-4b52-a0e3-0808ec8a2916",
   "metadata": {},
   "source": [
    "### Data Exploration\n"
   ]
  },
  {
   "cell_type": "code",
   "execution_count": 12,
   "id": "803abf34-d004-4d44-abeb-804380a628cd",
   "metadata": {},
   "outputs": [
    {
     "name": "stdout",
     "output_type": "stream",
     "text": [
      "<pymysql.cursors.Cursor object at 0x0000025788A6C810>\n",
      "select * from crime_dataset\n",
      "((10304468, datetime.date(2020, 1, 8), datetime.date(2020, 1, 8), 'Southwest', 624, 'BATTERY - SIMPLE ASSAULT', 36, 'F', 'SINGLE FAMILY DWELLING', 'AO', '1100 W 39TH PL', 34.01, -118.3), (190101086, datetime.date(2020, 1, 2), datetime.date(2020, 1, 1), 'Central', 624, 'BATTERY - SIMPLE ASSAULT', 25, 'M', 'SIDEWALK', 'IC', '700 S HILL ST', 34.05, -118.25), (191501505, datetime.date(2020, 1, 1), datetime.date(2020, 1, 1), 'N Hollywood', 745, 'VANDALISM - MISDEAMEANOR ($399 OR UNDER)', 76, 'F', 'MULTI-UNIT DWELLING (APARTMENT, DUPLEX, ETC)', 'IC', '5400 CORTEEN PL', 34.17, -118.4), (191921269, datetime.date(2020, 1, 1), datetime.date(2020, 1, 1), 'Mission', 740, 'VANDALISM - FELONY ($400 & OVER, ALL CHURCH VANDALISMS)', 31, 'X', 'BEAUTY SUPPLY STORE', 'IC', '14400 TITUS ST', 34.22, -118.45), (200100502, datetime.date(2020, 1, 2), datetime.date(2020, 1, 2), 'Central', 442, 'SHOPLIFTING - PETTY THEFT ($950 & UNDER)', 23, 'M', 'DEPARTMENT STORE', 'IC', '700 S FIGUEROA ST', 34.05, -118.26), (200100504, datetime.date(2020, 1, 4), datetime.date(2020, 1, 4), 'Central', 946, 'OTHER MISCELLANEOUS CRIME', 0, 'X', 'POLICE FACILITY', 'IC', '200 E 6TH ST', 34.04, -118.25), (200100507, datetime.date(2020, 1, 4), datetime.date(2020, 1, 4), 'Central', 341, 'THEFT-GRAND ($950.01 & OVER)EXCPT,GUNS,FOWL,LIVESTK,PROD', 23, 'M', 'MULTI-UNIT DWELLING (APARTMENT, DUPLEX, ETC)', 'IC', '700 BERNARD ST', 34.07, -118.24), (200100509, datetime.date(2020, 1, 4), datetime.date(2020, 1, 4), 'Central', 330, 'BURGLARY FROM VEHICLE', 29, 'M', 'STREET', 'IC', '800 N ALAMEDA ST', 34.04, -118.26), (200100510, datetime.date(2020, 1, 5), datetime.date(2020, 1, 5), 'Central', 930, 'CRIMINAL THREATS - NO WEAPON DISPLAYED', 35, 'M', 'PARKING LOT', 'IC', '800 S OLIVE ST', 34.06, -118.24), (200100514, datetime.date(2020, 1, 5), datetime.date(2020, 1, 5), 'Central', 341, 'THEFT-GRAND ($950.01 & OVER)EXCPT,GUNS,FOWL,LIVESTK,PROD', 41, 'M', 'HOTEL', 'AA', '700 W 7TH ST', 34.05, -118.26), (200100515, datetime.date(2020, 1, 7), datetime.date(2020, 1, 7), 'Central', 648, 'ARSON', 0, 'X', 'DEPARTMENT STORE', 'IC', '100 S LOS ANGELES ST', 34.05, -118.26), (200100520, datetime.date(2020, 1, 8), datetime.date(2020, 1, 8), 'Central', 442, 'SHOPLIFTING - PETTY THEFT ($950 & UNDER)', 24, 'F', \"COFFEE SHOP (STARBUCKS, COFFEE BEAN, PEET'S, ETC.)\", 'IC', '13600 LEADWELL ST', 34.05, -118.24), (200914517, datetime.date(2020, 9, 10), datetime.date(2020, 9, 9), 'Van Nuys', 354, 'THEFT OF IDENTITY', 40, 'M', 'CONDOMINIUM/TOWNHOUSE', 'IC', '8TH', 34.2, -118.43), (200716724, datetime.date(2020, 12, 4), datetime.date(2020, 12, 3), 'Wilshire', 442, 'SHOPLIFTING - PETTY THEFT ($950 & UNDER)', 19, 'M', 'OTHER BUSINESS', 'IC', 'WALL', 34.08, -118.37), (200100583, datetime.date(2020, 2, 4), datetime.date(2020, 2, 4), 'Central', 230, 'ASSAULT WITH DEADLY WEAPON, AGGRAVATED ASSAULT', 38, 'F', 'OTHER BUSINESS', 'AA', '800 N BROADWAY', 34.05, -118.25), (200100584, datetime.date(2020, 2, 4), datetime.date(2020, 2, 4), 'Central', 442, 'SHOPLIFTING - PETTY THEFT ($950 & UNDER)', 55, 'M', 'DEPARTMENT STORE', 'IC', '400 S SPRING ST', 34.05, -118.26), (200100587, datetime.date(2020, 2, 6), datetime.date(2020, 2, 6), 'Central', 740, 'VANDALISM - FELONY ($400 & OVER, ALL CHURCH VANDALISMS)', 66, 'F', 'VEHICLE, PASSENGER/TRUCK', 'IC', '300 W 5TH ST', 34.04, -118.25), (200218458, datetime.date(2020, 12, 11), datetime.date(2020, 12, 11), 'Rampart', 761, 'BRANDISH WEAPON', 34, 'M', 'PARKING LOT', 'AO', '1800 S MAIN ST', 34.07, -118.28), (200100596, datetime.date(2020, 2, 8), datetime.date(2020, 2, 8), 'Central', 442, 'SHOPLIFTING - PETTY THEFT ($950 & UNDER)', 35, 'M', 'OTHER STORE', 'IC', '600 W 7TH ST', 34.05, -118.26), (200104020, datetime.date(2020, 1, 1), datetime.date(2020, 1, 1), 'Central', 350, 'THEFT, PERSON', 44, 'M', 'SIDEWALK', 'IC', '700 ALPINE ST', 34.05, -118.25), (200104024, datetime.date(2020, 1, 1), datetime.date(2020, 1, 1), 'Central', 740, 'VANDALISM - FELONY ($400 & OVER, ALL CHURCH VANDALISMS)', 41, 'M', 'VEHICLE, PASSENGER/TRUCK', 'IC', '6200 SYLMAR AV', 34.05, -118.25), (200104027, datetime.date(2020, 1, 1), datetime.date(2020, 1, 1), 'Central', 930, 'CRIMINAL THREATS - NO WEAPON DISPLAYED', 57, 'M', 'PARKING LOT', 'IC', '100 E 5TH ST', 34.05, -118.26), (200104035, datetime.date(2020, 1, 1), datetime.date(2020, 1, 1), 'Central', 310, 'BURGLARY', 34, 'F', 'MULTI-UNIT DWELLING (APARTMENT, DUPLEX, ETC)', 'IC', '1200 E 7TH ST', 34.06, -118.24), (200104038, datetime.date(2020, 1, 1), datetime.date(2020, 1, 1), 'Central', 230, 'ASSAULT WITH DEADLY WEAPON, AGGRAVATED ASSAULT', 57, 'M', 'SIDEWALK', 'IC', '700 S FLOWER ST', 34.04, -118.25), (200104039, datetime.date(2020, 1, 1), datetime.date(2020, 1, 1), 'Central', 745, 'VANDALISM - MISDEAMEANOR ($399 OR UNDER)', 55, 'M', 'OTHER BUSINESS', 'IC', '300 E 3RD ST', 34.05, -118.26), (200104041, datetime.date(2020, 1, 1), datetime.date(2020, 1, 1), 'Central', 480, 'BIKE - STOLEN', 23, 'M', 'RESTAURANT/FAST FOOD', 'IC', '1ST', 34.03, -118.27), (200104043, datetime.date(2020, 1, 1), datetime.date(2020, 1, 1), 'Central', 745, 'VANDALISM - MISDEAMEANOR ($399 OR UNDER)', 55, 'M', 'VEHICLE, PASSENGER/TRUCK', 'IC', '1200 S GRAND AV', 34.06, -118.24), (200104047, datetime.date(2020, 1, 1), datetime.date(2020, 1, 1), 'Central', 623, 'BATTERY POLICE (SIMPLE)', 0, 'X', 'MTA - RED LINE - PERSHING SQUARE', 'IC', '300 S GRAND AV', 34.05, -118.25), (200104048, datetime.date(2020, 1, 1), datetime.date(2020, 1, 1), 'Central', 623, 'BATTERY POLICE (SIMPLE)', 0, 'X', 'MTA - RED LINE - PERSHING SQUARE', 'IC', '600 S CENTRAL AV', 34.05, -118.25), (200104051, datetime.date(2020, 1, 1), datetime.date(2020, 1, 1), 'Central', 440, 'THEFT PLAIN - PETTY ($950 & UNDER)', 22, 'F', 'NIGHT CLUB (OPEN EVENINGS ONLY)', 'IC', '600 N BROADWAY', 34.05, -118.26), (200104054, datetime.date(2020, 1, 2), datetime.date(2020, 1, 1), 'Central', 624, 'BATTERY - SIMPLE ASSAULT', 28, 'M', 'MULTI-UNIT DWELLING (APARTMENT, DUPLEX, ETC)', 'IC', '800 W 7TH ST', 34.05, -118.25), (200104057, datetime.date(2020, 1, 2), datetime.date(2020, 1, 1), 'Central', 230, 'ASSAULT WITH DEADLY WEAPON, AGGRAVATED ASSAULT', 43, 'M', 'STREET', 'IC', '7TH ST', 34.04, -118.25), (200104058, datetime.date(2020, 1, 2), datetime.date(2020, 1, 1), 'Central', 624, 'BATTERY - SIMPLE ASSAULT', 46, 'M', 'SIDEWALK', 'IC', '23400 PRESIDENT AV', 34.05, -118.24), (200104060, datetime.date(2020, 1, 2), datetime.date(2020, 1, 1), 'Central', 624, 'BATTERY - SIMPLE ASSAULT', 56, 'F', 'STREET', 'IC', '700 W 7TH ST', 34.05, -118.25), (200104063, datetime.date(2020, 1, 1), datetime.date(2020, 1, 1), 'Central', 341, 'THEFT-GRAND ($950.01 & OVER)EXCPT,GUNS,FOWL,LIVESTK,PROD', 55, 'F', 'PARKING LOT', 'IC', '13100 LAKE ST', 34.05, -118.26), (200104065, datetime.date(2020, 1, 1), datetime.date(2020, 1, 1), 'Central', 745, 'VANDALISM - MISDEAMEANOR ($399 OR UNDER)', 55, 'M', 'MULTI-UNIT DWELLING (APARTMENT, DUPLEX, ETC)', 'IC', '100 W 1ST ST', 34.06, -118.23), (200104066, datetime.date(2020, 1, 1), datetime.date(2020, 1, 1), 'Central', 745, 'VANDALISM - MISDEAMEANOR ($399 OR UNDER)', 0, 'X', 'VEHICLE, PASSENGER/TRUCK', 'IC', '3RD', 34.04, -118.26), (200104069, datetime.date(2020, 1, 2), datetime.date(2020, 1, 2), 'Central', 310, 'BURGLARY', 0, 'X', 'RESTAURANT/FAST FOOD', 'IC', '6TH', 34.06, -118.24), (200104073, datetime.date(2020, 1, 2), datetime.date(2020, 1, 2), 'Central', 510, 'VEHICLE - STOLEN', 0, '', 'PARKING LOT', 'IC', '1ST', 34.05, -118.25), (200104075, datetime.date(2020, 1, 2), datetime.date(2020, 1, 1), 'Central', 440, 'THEFT PLAIN - PETTY ($950 & UNDER)', 67, 'M', 'MULTI-UNIT DWELLING (APARTMENT, DUPLEX, ETC)', 'IC', '1600 S HOPE ST', 34.04, -118.25), (200104076, datetime.date(2020, 1, 1), datetime.date(2020, 1, 1), 'Central', 341, 'THEFT-GRAND ($950.01 & OVER)EXCPT,GUNS,FOWL,LIVESTK,PROD', 57, 'M', 'MULTI-UNIT DWELLING (APARTMENT, DUPLEX, ETC)', 'IC', '600 W 7TH ST', 34.05, -118.25), (200104077, datetime.date(2020, 1, 2), datetime.date(2020, 1, 1), 'Central', 330, 'BURGLARY FROM VEHICLE', 37, 'F', 'STREET', 'IC', '600 S SAN PEDRO ST', 34.03, -118.26), (200104078, datetime.date(2020, 1, 2), datetime.date(2020, 1, 2), 'Central', 210, 'ROBBERY', 0, 'X', 'DRUG STORE', 'IC', '100 W 2ND ST', 34.05, -118.26), (200104082, datetime.date(2020, 1, 2), datetime.date(2020, 1, 2), 'Central', 624, 'BATTERY - SIMPLE ASSAULT', 60, 'M', 'STREET', 'IC', '100 E 5TH ST', 34.04, -118.25), (200104090, datetime.date(2020, 1, 2), datetime.date(2020, 1, 2), 'Central', 442, 'SHOPLIFTING - PETTY THEFT ($950 & UNDER)', 0, 'M', 'DEPARTMENT STORE', 'IC', '700 W 7TH ST', 34.05, -118.26), (200104092, datetime.date(2020, 1, 2), datetime.date(2020, 1, 1), 'Central', 310, 'BURGLARY', 51, 'M', 'GARAGE/CARPORT', 'IC', '700 W 7TH ST', 34.06, -118.24), (200918185, datetime.date(2020, 12, 7), datetime.date(2020, 12, 7), 'Van Nuys', 900, 'VIOLATION OF COURT ORDER', 52, 'F', 'GOVERNMENT FACILITY (FEDERAL,STATE, COUNTY & CITY)', 'AA', '4TH', 34.18, -118.45), (200104098, datetime.date(2020, 1, 2), datetime.date(2020, 1, 2), 'Central', 210, 'ROBBERY', 61, 'M', 'MULTI-UNIT DWELLING (APARTMENT, DUPLEX, ETC)', 'AO', '700 S GRAND AV', 34.05, -118.25), (200104118, datetime.date(2020, 1, 2), datetime.date(2020, 1, 2), 'Central', 624, 'BATTERY - SIMPLE ASSAULT', 36, 'F', 'OTHER BUSINESS', 'IC', '5TH', 34.04, -118.24), (200104120, datetime.date(2020, 1, 2), datetime.date(2020, 1, 2), 'Central', 310, 'BURGLARY', 59, 'M', \"SINGLE RESIDENCE OCCUPANCY (SRO'S) LOCATIONS\", 'IC', '100 E 5TH ST', 34.04, -118.24), (200104126, datetime.date(2020, 1, 2), datetime.date(2020, 1, 2), 'Central', 442, 'SHOPLIFTING - PETTY THEFT ($950 & UNDER)', 32, 'M', 'OTHER STORE', 'IC', '100 W 2ND ST', 34.05, -118.26), (200104127, datetime.date(2020, 1, 2), datetime.date(2020, 1, 2), 'Central', 888, 'TRESPASSING', 44, 'F', 'PARKING UNDERGROUND/BUILDING', 'IC', 'PALMETTO', 34.05, -118.24), (200104129, datetime.date(2020, 1, 2), datetime.date(2020, 1, 2), 'Central', 230, 'ASSAULT WITH DEADLY WEAPON, AGGRAVATED ASSAULT', 60, 'F', 'STREET', 'IC', '800 JAMES M WOOD BL', 34.05, -118.24), (200104132, datetime.date(2020, 1, 2), datetime.date(2020, 1, 2), 'Central', 330, 'BURGLARY FROM VEHICLE', 31, 'M', 'PARKING LOT', 'IC', 'GRAND', 34.04, -118.26), (200104135, datetime.date(2020, 1, 2), datetime.date(2020, 1, 2), 'Central', 440, 'THEFT PLAIN - PETTY ($950 & UNDER)', 30, 'M', 'STREET', 'IC', 'GRAND', 34.05, -118.25), (200104136, datetime.date(2020, 1, 2), datetime.date(2020, 1, 2), 'Central', 230, 'ASSAULT WITH DEADLY WEAPON, AGGRAVATED ASSAULT', 50, 'M', 'STREET', 'AA', '200 N AVENUE 25', 34.04, -118.24), (200104138, datetime.date(2020, 1, 2), datetime.date(2020, 1, 2), 'Central', 230, 'ASSAULT WITH DEADLY WEAPON, AGGRAVATED ASSAULT', 40, 'M', 'OTHER BUSINESS', 'IC', '500 SAN JULIAN ST', 34.06, -118.24), (200104139, datetime.date(2020, 1, 2), datetime.date(2020, 1, 2), 'Central', 888, 'TRESPASSING', 34, 'M', 'RESTAURANT/FAST FOOD', 'IC', '43RD ST', 34.05, -118.26), (200104141, datetime.date(2020, 1, 2), datetime.date(2020, 1, 2), 'Central', 624, 'BATTERY - SIMPLE ASSAULT', 45, 'M', 'OTHER BUSINESS', 'IC', '100 PASEO DE LA PLAZA', 34.05, -118.26), (200104150, datetime.date(2020, 1, 3), datetime.date(2020, 1, 2), 'Central', 624, 'BATTERY - SIMPLE ASSAULT', 62, 'M', 'SIDEWALK', 'IC', '500 S SAN PEDRO ST', 34.04, -118.24), (200516527, datetime.date(2020, 11, 12), datetime.date(2020, 11, 12), 'Harbor', 510, 'VEHICLE - STOLEN', 0, '', 'DRIVEWAY', 'IC', '1300 S LOS ANGELES ST', 33.81, -118.31), (200104187, datetime.date(2020, 1, 3), datetime.date(2020, 1, 1), 'Central', 442, 'SHOPLIFTING - PETTY THEFT ($950 & UNDER)', 20, 'F', 'DEPARTMENT STORE', 'IC', '800 S FIGUEROA ST', 34.05, -118.26), (211422362, datetime.date(2021, 12, 2), datetime.date(2020, 12, 2), 'Pacific', 354, 'THEFT OF IDENTITY', 31, 'F', 'SINGLE FAMILY DWELLING', 'IC', '800 N ALAMEDA ST', 34.01, -118.45), (200104192, datetime.date(2020, 1, 3), datetime.date(2020, 1, 3), 'Central', 745, 'VANDALISM - MISDEAMEANOR ($399 OR UNDER)', 0, 'X', 'SIDEWALK', 'IC', 'JESSE ST', 34.05, -118.24), (200104201, datetime.date(2020, 1, 3), datetime.date(2020, 1, 1), 'Central', 330, 'BURGLARY FROM VEHICLE', 51, 'M', 'STREET', 'IC', '700 W 7TH ST', 34.05, -118.25), (200104204, datetime.date(2020, 1, 3), datetime.date(2020, 1, 2), 'Central', 440, 'THEFT PLAIN - PETTY ($950 & UNDER)', 23, 'M', 'STREET', 'IC', '500 S SAN PEDRO ST', 34.04, -118.25), (200104205, datetime.date(2020, 1, 3), datetime.date(2020, 1, 3), 'Central', 440, 'THEFT PLAIN - PETTY ($950 & UNDER)', 29, 'M', 'STREET', 'IC', '700 W 7TH ST', 34.05, -118.24), (200104208, datetime.date(2020, 1, 3), datetime.date(2020, 1, 3), 'Central', 745, 'VANDALISM - MISDEAMEANOR ($399 OR UNDER)', 58, 'M', 'MULTI-UNIT DWELLING (APARTMENT, DUPLEX, ETC)', 'AO', '100 E 4TH ST', 34.04, -118.27), (200104209, datetime.date(2020, 1, 3), datetime.date(2020, 1, 3), 'Central', 624, 'BATTERY - SIMPLE ASSAULT', 24, 'M', 'SIDEWALK', 'IC', '600 S SPRING ST', 34.05, -118.26), (200104221, datetime.date(2020, 1, 3), datetime.date(2020, 1, 3), 'Central', 761, 'BRANDISH WEAPON', 51, 'F', 'MULTI-UNIT DWELLING (APARTMENT, DUPLEX, ETC)', 'IC', '700 S FLOWER ST', 34.04, -118.25), (200104222, datetime.date(2020, 1, 3), datetime.date(2020, 1, 3), 'Central', 740, 'VANDALISM - FELONY ($400 & OVER, ALL CHURCH VANDALISMS)', 41, 'F', 'MULTI-UNIT DWELLING (APARTMENT, DUPLEX, ETC)', 'AA', '800 N ALAMEDA ST', 34.05, -118.24), (200104223, datetime.date(2020, 1, 3), datetime.date(2020, 1, 3), 'Central', 745, 'VANDALISM - MISDEAMEANOR ($399 OR UNDER)', 32, 'M', 'VEHICLE, PASSENGER/TRUCK', 'IC', '600 S SPRING ST', 34.05, -118.25), (200104224, datetime.date(2020, 1, 3), datetime.date(2020, 1, 3), 'Central', 442, 'SHOPLIFTING - PETTY THEFT ($950 & UNDER)', 23, 'M', 'OTHER STORE', 'IC', '7TH', 34.05, -118.26), (200104227, datetime.date(2020, 1, 4), datetime.date(2020, 1, 3), 'Central', 442, 'SHOPLIFTING - PETTY THEFT ($950 & UNDER)', 35, 'M', 'OTHER STORE', 'IC', '900 NEW DEPOT ST', 34.05, -118.26), (200104228, datetime.date(2020, 1, 4), datetime.date(2020, 1, 3), 'Central', 210, 'ROBBERY', 28, 'M', 'STREET', 'IC', '400 CASANOVA ST', 34.04, -118.24), (200104230, datetime.date(2020, 1, 4), datetime.date(2020, 1, 3), 'Central', 420, 'THEFT FROM MOTOR VEHICLE - PETTY ($950 & UNDER)', 0, '', 'STREET', 'IC', '600 S GRAND AV', 34.05, -118.26), (200104231, datetime.date(2020, 1, 3), datetime.date(2020, 1, 3), 'Central', 230, 'ASSAULT WITH DEADLY WEAPON, AGGRAVATED ASSAULT', 58, 'M', 'STREET', 'IC', '500 S SPRING ST', 34.04, -118.24), (200104233, datetime.date(2020, 1, 3), datetime.date(2020, 1, 3), 'Central', 341, 'THEFT-GRAND ($950.01 & OVER)EXCPT,GUNS,FOWL,LIVESTK,PROD', 57, 'M', 'MULTI-UNIT DWELLING (APARTMENT, DUPLEX, ETC)', 'IC', '600 WALL ST', 34.05, -118.25), (200104234, datetime.date(2020, 1, 4), datetime.date(2020, 1, 3), 'Central', 440, 'THEFT PLAIN - PETTY ($950 & UNDER)', 27, 'F', 'RESTAURANT/FAST FOOD', 'IC', '900 N BROADWAY', 34.05, -118.24), (200104235, datetime.date(2020, 1, 4), datetime.date(2020, 1, 3), 'Central', 330, 'BURGLARY FROM VEHICLE', 30, 'F', 'STREET', 'IC', '5TH ST', 34.04, -118.23), (200104236, datetime.date(2020, 1, 3), datetime.date(2020, 1, 3), 'Central', 330, 'BURGLARY FROM VEHICLE', 30, 'M', 'STREET', 'IC', '700 S OLIVE ST', 34.05, -118.26), (200104237, datetime.date(2020, 1, 4), datetime.date(2020, 1, 4), 'Central', 330, 'BURGLARY FROM VEHICLE', 31, 'M', 'STREET', 'IC', '100 N LOS ANGELES ST', 34.04, -118.26), (200104238, datetime.date(2020, 1, 3), datetime.date(2020, 1, 3), 'Central', 330, 'BURGLARY FROM VEHICLE', 0, 'X', 'PARKING LOT', 'IC', '6TH ST', 34.04, -118.26), (200409682, datetime.date(2020, 6, 10), datetime.date(2020, 6, 10), 'Hollenbeck', 210, 'ROBBERY', 24, 'F', 'SINGLE FAMILY DWELLING', 'AA', '900 S LOS ANGELES ST', 34.08, -118.22), (200104244, datetime.date(2020, 1, 4), datetime.date(2020, 1, 4), 'Central', 624, 'BATTERY - SIMPLE ASSAULT', 48, 'F', 'SIDEWALK', 'IC', '800 N ALAMEDA ST', 34.04, -118.25), (200306227, datetime.date(2020, 2, 7), datetime.date(2020, 2, 6), 'Southwest', 510, 'VEHICLE - STOLEN', 0, '', 'STREET', 'IC', '800 N ALAMEDA ST', 34.01, -118.3), (200104268, datetime.date(2020, 1, 4), datetime.date(2020, 1, 4), 'Central', 624, 'BATTERY - SIMPLE ASSAULT', 40, 'F', 'STREET', 'IC', '800 N ALAMEDA ST', 34.06, -118.24), (200104269, datetime.date(2020, 1, 4), datetime.date(2020, 1, 4), 'Central', 624, 'BATTERY - SIMPLE ASSAULT', 57, 'F', 'SIDEWALK', 'IC', '200 N SOTO ST', 34.04, -118.25), (200104270, datetime.date(2020, 1, 4), datetime.date(2020, 1, 4), 'Central', 330, 'BURGLARY FROM VEHICLE', 32, 'M', 'PARKING LOT', 'IC', 'HILL', 34.04, -118.26), (200816200, datetime.date(2020, 11, 8), datetime.date(2020, 11, 7), 'West LA', 886, 'DISTURBING THE PEACE', 58, 'M', 'MULTI-UNIT DWELLING (APARTMENT, DUPLEX, ETC)', 'AO', '700 S BROADWAY', 34.06, -118.38), (200104275, datetime.date(2020, 1, 4), datetime.date(2020, 1, 4), 'Central', 442, 'SHOPLIFTING - PETTY THEFT ($950 & UNDER)', 0, 'X', 'MARKET', 'IC', '1800 S MAIN ST', 34.05, -118.26), (200104276, datetime.date(2020, 1, 4), datetime.date(2020, 1, 2), 'Central', 440, 'THEFT PLAIN - PETTY ($950 & UNDER)', 18, 'M', 'LA UNION STATION (NOT LINE SPECIFIC)', 'IC', '700 S FIGUEROA ST', 34.06, -118.24), (200104277, datetime.date(2020, 1, 5), datetime.date(2020, 1, 4), 'Central', 330, 'BURGLARY FROM VEHICLE', 25, 'M', 'STREET', 'IC', 'SPRING ST', 34.04, -118.23), (200104279, datetime.date(2020, 1, 4), datetime.date(2020, 1, 4), 'Central', 442, 'SHOPLIFTING - PETTY THEFT ($950 & UNDER)', 0, 'X', 'DEPARTMENT STORE', 'IC', '6TH ST', 34.05, -118.26), (200104281, datetime.date(2020, 1, 4), datetime.date(2020, 1, 4), 'Central', 440, 'THEFT PLAIN - PETTY ($950 & UNDER)', 37, 'F', 'MISSIONS/SHELTERS', 'IC', '2200 SAN YSIDRO DR', 34.04, -118.25), (200104283, datetime.date(2020, 1, 4), datetime.date(2020, 1, 4), 'Central', 442, 'SHOPLIFTING - PETTY THEFT ($950 & UNDER)', 0, 'X', 'DEPARTMENT STORE', 'IC', '600 N BROADWAY', 34.05, -118.26), (200104284, datetime.date(2020, 1, 4), datetime.date(2020, 1, 4), 'Central', 888, 'TRESPASSING', 67, 'M', 'MULTI-UNIT DWELLING (APARTMENT, DUPLEX, ETC)', 'IC', '8TH', 34.05, -118.25), (200104285, datetime.date(2020, 1, 5), datetime.date(2020, 1, 5), 'Central', 624, 'BATTERY - SIMPLE ASSAULT', 26, 'M', 'OTHER BUSINESS', 'IC', '800 N ALAMEDA ST', 34.05, -118.25), (200104286, datetime.date(2020, 1, 4), datetime.date(2020, 1, 4), 'Central', 330, 'BURGLARY FROM VEHICLE', 47, 'M', 'GARAGE/CARPORT', 'IC', '2000 E 7TH ST', 34.05, -118.26), (200104287, datetime.date(2020, 1, 4), datetime.date(2020, 1, 4), 'Central', 624, 'BATTERY - SIMPLE ASSAULT', 21, 'F', 'LA UNION STATION (NOT LINE SPECIFIC)', 'IC', '700 S FLOWER ST', 34.06, -118.24), (200104289, datetime.date(2020, 1, 5), datetime.date(2020, 1, 3), 'Central', 440, 'THEFT PLAIN - PETTY ($950 & UNDER)', 26, 'F', 'NIGHT CLUB (OPEN EVENINGS ONLY)', 'IC', '4TH', 34.05, -118.25), (200104291, datetime.date(2020, 1, 5), datetime.date(2020, 1, 4), 'Central', 210, 'ROBBERY', 64, 'M', 'SIDEWALK', 'IC', 'W 5TH ST', 34.04, -118.25), (200104292, datetime.date(2020, 1, 5), datetime.date(2020, 1, 4), 'Central', 440, 'THEFT PLAIN - PETTY ($950 & UNDER)', 26, 'F', 'MULTI-UNIT DWELLING (APARTMENT, DUPLEX, ETC)', 'IC', '800 S HILL ST', 34.07, -118.25), (200104293, datetime.date(2020, 1, 5), datetime.date(2020, 1, 3), 'Central', 420, 'THEFT FROM MOTOR VEHICLE - PETTY ($950 & UNDER)', 31, 'F', 'PARKING UNDERGROUND/BUILDING', 'IC', '6TH', 34.07, -118.23), (200104300, datetime.date(2020, 1, 5), datetime.date(2020, 1, 4), 'Central', 740, 'VANDALISM - FELONY ($400 & OVER, ALL CHURCH VANDALISMS)', 39, 'M', 'VEHICLE, PASSENGER/TRUCK', 'IC', '7TH', 34.05, -118.26), (200104302, datetime.date(2020, 1, 1), datetime.date(2020, 1, 1), 'Central', 440, 'THEFT PLAIN - PETTY ($950 & UNDER)', 25, 'F', 'BAR/COCKTAIL/NIGHTCLUB', 'IC', '100 S FIGUEROA ST', 34.05, -118.25), (200104303, datetime.date(2020, 1, 5), datetime.date(2020, 1, 4), 'Central', 510, 'VEHICLE - STOLEN', 0, '', 'PARKING LOT', 'IC', '600 S FIGUEROA ST', 34.04, -118.25), (200104310, datetime.date(2020, 1, 5), datetime.date(2020, 1, 5), 'Central', 624, 'BATTERY - SIMPLE ASSAULT', 28, 'M', 'SIDEWALK', 'IC', '100 E 17TH ST', 34.06, -118.24), (200104313, datetime.date(2020, 1, 5), datetime.date(2020, 1, 4), 'Central', 341, 'THEFT-GRAND ($950.01 & OVER)EXCPT,GUNS,FOWL,LIVESTK,PROD', 75, 'M', 'SIDEWALK', 'IC', '6100 DELPHI ST', 34.04, -118.25), (200104316, datetime.date(2020, 1, 5), datetime.date(2020, 1, 4), 'Central', 930, 'CRIMINAL THREATS - NO WEAPON DISPLAYED', 32, 'F', 'MULTI-UNIT DWELLING (APARTMENT, DUPLEX, ETC)', 'IC', '400 S BROADWAY', 34.05, -118.26), (200104319, datetime.date(2020, 1, 4), datetime.date(2020, 1, 4), 'Central', 623, 'BATTERY POLICE (SIMPLE)', 0, 'X', 'DETENTION/JAIL FACILITY', 'IC', '700 S FIGUEROA ST', 34.05, -118.24), (200104320, datetime.date(2020, 1, 5), datetime.date(2020, 1, 4), 'Central', 330, 'BURGLARY FROM VEHICLE', 0, 'M', 'STREET', 'IC', '8TH', 34.04, -118.25), (200104321, datetime.date(2020, 1, 6), datetime.date(2020, 1, 5), 'Central', 330, 'BURGLARY FROM VEHICLE', 30, 'F', 'STREET', 'IC', '14TH', 34.04, -118.25), (200104323, datetime.date(2020, 1, 5), datetime.date(2020, 1, 3), 'Central', 420, 'THEFT FROM MOTOR VEHICLE - PETTY ($950 & UNDER)', 28, 'M', 'STREET', 'IC', '7TH ST', 34.04, -118.25), (200104326, datetime.date(2020, 1, 5), datetime.date(2020, 1, 5), 'Central', 740, 'VANDALISM - FELONY ($400 & OVER, ALL CHURCH VANDALISMS)', 56, 'M', 'STREET', 'AA', '300 S BROADWAY', 34.04, -118.27), (200104327, datetime.date(2020, 1, 5), datetime.date(2020, 1, 5), 'Central', 210, 'ROBBERY', 0, 'X', 'LA UNION STATION (NOT LINE SPECIFIC)', 'AA', '300 S BROADWAY', 34.06, -118.24), (200104328, datetime.date(2020, 1, 5), datetime.date(2020, 1, 5), 'Central', 350, 'THEFT, PERSON', 35, 'F', 'SIDEWALK', 'IC', '4TH ST', 34.05, -118.25), (200104329, datetime.date(2020, 1, 5), datetime.date(2020, 1, 5), 'Central', 421, 'THEFT FROM MOTOR VEHICLE - ATTEMPT', 28, 'F', 'SIDEWALK', 'IC', '12TH', 34.05, -118.25), (200104330, datetime.date(2020, 1, 6), datetime.date(2020, 1, 5), 'Central', 888, 'TRESPASSING', 19, 'M', 'LA UNION STATION (NOT LINE SPECIFIC)', 'IC', '8TH ST', 34.06, -118.24), (200104331, datetime.date(2020, 1, 5), datetime.date(2020, 1, 5), 'Central', 624, 'BATTERY - SIMPLE ASSAULT', 43, 'F', 'OTHER PREMISE', 'IC', '11TH ST', 34.04, -118.24), (200104333, datetime.date(2020, 1, 6), datetime.date(2020, 1, 6), 'Central', 888, 'TRESPASSING', 0, 'X', 'LA UNION STATION (NOT LINE SPECIFIC)', 'IC', '300 E 5TH ST', 34.06, -118.24), (200405489, datetime.date(2020, 2, 7), datetime.date(2020, 2, 6), 'Hollenbeck', 946, 'OTHER MISCELLANEOUS CRIME', 12, 'F', 'SINGLE FAMILY DWELLING', 'AO', '6TH', 34.04, -118.21), (200104336, datetime.date(2020, 1, 6), datetime.date(2020, 1, 5), 'Central', 647, 'THROWING OBJECT AT MOVING VEHICLE', 43, 'M', 'STREET', 'IC', '1ST ST', 34.04, -118.26), (200104337, datetime.date(2020, 1, 6), datetime.date(2020, 1, 6), 'Central', 440, 'THEFT PLAIN - PETTY ($950 & UNDER)', 59, 'M', 'SIDEWALK', 'IC', '200 W WASHINGTON BL', 34.05, -118.25), (200104339, datetime.date(2020, 1, 5), datetime.date(2020, 1, 5), 'Central', 745, 'VANDALISM - MISDEAMEANOR ($399 OR UNDER)', 34, 'F', 'VEHICLE, PASSENGER/TRUCK', 'IC', '800 JAMES M WOOD BL', 34.04, -118.26), (200104340, datetime.date(2020, 1, 6), datetime.date(2020, 1, 5), 'Central', 310, 'BURGLARY', 38, 'M', 'MULTI-UNIT DWELLING (APARTMENT, DUPLEX, ETC)', 'IC', '400 W 7TH ST', 34.03, -118.26), (200104351, datetime.date(2020, 1, 1), datetime.date(2020, 1, 1), 'Central', 330, 'BURGLARY FROM VEHICLE', 37, 'M', 'PARKING LOT', 'IC', '1100 S FIGUEROA ST', 34.05, -118.26), (200104352, datetime.date(2020, 1, 6), datetime.date(2020, 1, 5), 'Central', 420, 'THEFT FROM MOTOR VEHICLE - PETTY ($950 & UNDER)', 0, '', 'STREET', 'IC', '900 W 8TH ST', 34.05, -118.25), (200104360, datetime.date(2020, 1, 6), datetime.date(2020, 1, 6), 'Central', 230, 'ASSAULT WITH DEADLY WEAPON, AGGRAVATED ASSAULT', 61, 'X', 'SIDEWALK', 'AA', '700 S FLOWER ST', 34.05, -118.25), (210804296, datetime.date(2020, 1, 8), datetime.date(2020, 1, 4), 'West LA', 940, 'EXTORTION', 49, 'M', 'SINGLE FAMILY DWELLING', 'AO', '400 SEATON ST', 34.11, -118.42), (200104369, datetime.date(2020, 1, 6), datetime.date(2020, 1, 6), 'Central', 230, 'ASSAULT WITH DEADLY WEAPON, AGGRAVATED ASSAULT', 22, 'M', 'STREET', 'IC', '1000 N BROADWAY', 34.05, -118.24), (200104372, datetime.date(2020, 1, 6), datetime.date(2020, 1, 6), 'Central', 330, 'BURGLARY FROM VEHICLE', 43, 'F', 'PARKING UNDERGROUND/BUILDING', 'IC', '1300 MAGDALENA ST', 34.06, -118.24), (200104377, datetime.date(2020, 1, 6), datetime.date(2020, 1, 5), 'Central', 624, 'BATTERY - SIMPLE ASSAULT', 71, 'M', 'STREET', 'IC', '00 GATEWAY PLAZA DR', 34.04, -118.25), (200104379, datetime.date(2020, 1, 6), datetime.date(2020, 1, 6), 'Central', 624, 'BATTERY - SIMPLE ASSAULT', 71, 'M', 'LA UNION STATION (NOT LINE SPECIFIC)', 'IC', '600 WILSHIRE BL', 34.06, -118.24), (200104381, datetime.date(2020, 1, 6), datetime.date(2020, 1, 6), 'Central', 510, 'VEHICLE - STOLEN', 0, '', 'PARKING LOT', 'IC', '1ST', 34.04, -118.23), (200104382, datetime.date(2020, 1, 6), datetime.date(2020, 1, 6), 'Central', 442, 'SHOPLIFTING - PETTY THEFT ($950 & UNDER)', 55, 'M', 'CLOTHING STORE', 'IC', '500 N FIGUEROA ST', 34.05, -118.26), (200104385, datetime.date(2020, 1, 6), datetime.date(2020, 1, 6), 'Central', 330, 'BURGLARY FROM VEHICLE', 19, 'F', 'STREET', 'IC', '5TH ST', 34.04, -118.24), (200104389, datetime.date(2020, 1, 2), datetime.date(2020, 1, 1), 'Central', 330, 'BURGLARY FROM VEHICLE', 68, 'F', 'STREET', 'IC', 'GEORGIA ST', 34.05, -118.25), (200104390, datetime.date(2020, 1, 3), datetime.date(2020, 1, 3), 'Central', 354, 'THEFT OF IDENTITY', 38, 'F', 'BANK', 'IC', '1100 S FIGUEROA ST', 34.05, -118.26), (200104392, datetime.date(2020, 1, 6), datetime.date(2020, 1, 3), 'Central', 480, 'BIKE - STOLEN', 48, 'M', 'MTA BUS', 'IC', '700 W 7TH ST', 34.05, -118.25), (200104393, datetime.date(2020, 1, 6), datetime.date(2020, 1, 6), 'Central', 624, 'BATTERY - SIMPLE ASSAULT', 69, 'F', 'SIDEWALK', 'IC', 'ALPINE ST', 34.04, -118.25), (200104406, datetime.date(2020, 1, 6), datetime.date(2020, 1, 4), 'Central', 330, 'BURGLARY FROM VEHICLE', 50, 'F', 'PARKING LOT', 'IC', '100 E 5TH ST', 34.06, -118.25), (200104408, datetime.date(2020, 1, 6), datetime.date(2020, 1, 6), 'Central', 624, 'BATTERY - SIMPLE ASSAULT', 13, 'M', 'MTA - BLUE LINE - 7TH AND METRO CENTER', 'IC', '300 E 5TH ST', 34.05, -118.26), (200104410, datetime.date(2020, 1, 6), datetime.date(2020, 1, 6), 'Central', 662, 'BUNCO, GRAND THEFT', 61, 'M', 'OTHER BUSINESS', 'IC', '500 WALL ST', 34.03, -118.26), (200104411, datetime.date(2020, 1, 7), datetime.date(2020, 1, 6), 'Central', 510, 'VEHICLE - STOLEN', 0, '', 'STREET', 'IC', 'PICO BL', 34.04, -118.26), (201106871, datetime.date(2020, 3, 4), datetime.date(2020, 3, 2), 'Northeast', 745, 'VANDALISM - MISDEAMEANOR ($399 OR UNDER)', 50, 'M', 'STREET', 'IC', '1100 S HOPE ST', 34.12, -118.19), (200104414, datetime.date(2020, 1, 6), datetime.date(2020, 1, 5), 'Central', 330, 'BURGLARY FROM VEHICLE', 26, 'M', 'PARKING LOT', 'IC', '400 S HEWITT ST', 34.05, -118.26), (200104416, datetime.date(2020, 1, 6), datetime.date(2020, 1, 6), 'Central', 930, 'CRIMINAL THREATS - NO WEAPON DISPLAYED', 26, 'F', 'DRUG STORE', 'IC', '4TH ST', 34.05, -118.25), (200104419, datetime.date(2020, 1, 6), datetime.date(2020, 1, 6), 'Central', 440, 'THEFT PLAIN - PETTY ($950 & UNDER)', 45, 'M', 'DEPARTMENT STORE', 'IC', '600 S SAN PEDRO ST', 34.05, -118.26), (200104420, datetime.date(2020, 1, 5), datetime.date(2020, 1, 5), 'Central', 745, 'VANDALISM - MISDEAMEANOR ($399 OR UNDER)', 36, 'F', 'VEHICLE, PASSENGER/TRUCK', 'IC', '1400 S FIGUEROA ST', 34.05, -118.26), (200104422, datetime.date(2020, 1, 6), datetime.date(2020, 1, 6), 'Central', 330, 'BURGLARY FROM VEHICLE', 24, 'M', 'STREET', 'IC', '300 E 5TH ST', 34.04, -118.27), (200104429, datetime.date(2020, 1, 7), datetime.date(2020, 1, 6), 'Central', 888, 'TRESPASSING', 0, 'M', 'OTHER BUSINESS', 'IC', '700 S FIGUEROA ST', 34.06, -118.24), (200104430, datetime.date(2020, 1, 2), datetime.date(2020, 1, 2), 'Central', 480, 'BIKE - STOLEN', 50, 'M', 'SIDEWALK', 'IC', 'VENICE', 34.05, -118.26), (200104431, datetime.date(2020, 1, 2), datetime.date(2020, 1, 2), 'Central', 330, 'BURGLARY FROM VEHICLE', 25, 'F', 'PARKING LOT', 'IC', '200 S SAN PEDRO ST', 34.05, -118.25), (200104432, datetime.date(2020, 1, 3), datetime.date(2020, 1, 2), 'Central', 440, 'THEFT PLAIN - PETTY ($950 & UNDER)', 27, 'M', 'MARKET', 'IC', '800 N HILL ST', 34.05, -118.25), (200104435, datetime.date(2020, 1, 2), datetime.date(2020, 1, 2), 'Central', 330, 'BURGLARY FROM VEHICLE', 33, 'M', 'STREET', 'IC', '700 S LOS ANGELES ST', 34.04, -118.24), (200104440, datetime.date(2020, 1, 4), datetime.date(2020, 1, 4), 'Central', 330, 'BURGLARY FROM VEHICLE', 53, 'M', 'PARKING LOT', 'IC', '800 S HILL ST', 34.04, -118.27), (200104443, datetime.date(2020, 1, 4), datetime.date(2020, 1, 3), 'Central', 330, 'BURGLARY FROM VEHICLE', 38, 'F', 'STREET', 'IC', '800 N ALAMEDA ST', 34.04, -118.25), (200104444, datetime.date(2020, 1, 5), datetime.date(2020, 1, 5), 'Central', 330, 'BURGLARY FROM VEHICLE', 23, 'M', 'PARKING LOT', 'IC', '500 S BROADWAY', 34.04, -118.26), (200104449, datetime.date(2020, 1, 7), datetime.date(2020, 1, 7), 'Central', 624, 'BATTERY - SIMPLE ASSAULT', 74, 'M', 'SIDEWALK', 'IC', '600 S FIGUEROA ST', 34.05, -118.24), (200104450, datetime.date(2020, 1, 7), datetime.date(2020, 1, 7), 'Central', 740, 'VANDALISM - FELONY ($400 & OVER, ALL CHURCH VANDALISMS)', 0, 'X', 'STREET', 'IC', '400 SAVOY ST', 34.04, -118.25), (200104451, datetime.date(2020, 1, 7), datetime.date(2020, 1, 7), 'Central', 740, 'VANDALISM - FELONY ($400 & OVER, ALL CHURCH VANDALISMS)', 0, 'X', 'SIDEWALK', 'IC', '800 N ALAMEDA ST', 34.05, -118.24), (200104452, datetime.date(2020, 1, 7), datetime.date(2020, 1, 7), 'Central', 624, 'BATTERY - SIMPLE ASSAULT', 23, 'M', 'PARKING LOT', 'IC', '800 N ALAMEDA ST', 34.04, -118.27), (200104455, datetime.date(2020, 1, 6), datetime.date(2020, 1, 6), 'Central', 330, 'BURGLARY FROM VEHICLE', 26, 'F', 'STREET', 'IC', '900 S HILL ST', 34.05, -118.26), (200104456, datetime.date(2020, 1, 6), datetime.date(2020, 1, 3), 'Central', 341, 'THEFT-GRAND ($950.01 & OVER)EXCPT,GUNS,FOWL,LIVESTK,PROD', 0, 'X', 'OTHER/OUTSIDE', 'IC', 'W 17TH ST', 34.05, -118.26), (200104459, datetime.date(2020, 1, 3), datetime.date(2020, 1, 3), 'Central', 330, 'BURGLARY FROM VEHICLE', 23, 'M', 'STAPLES CENTER *', 'IC', '700 S GRAND AV', 34.04, -118.27), (200104462, datetime.date(2020, 1, 7), datetime.date(2020, 1, 6), 'Central', 480, 'BIKE - STOLEN', 57, 'M', 'PARKING UNDERGROUND/BUILDING', 'IC', '200 S SAN PEDRO ST', 34.05, -118.26), (200104470, datetime.date(2020, 1, 7), datetime.date(2020, 1, 6), 'Central', 440, 'THEFT PLAIN - PETTY ($950 & UNDER)', 25, 'F', 'OTHER PREMISE', 'IC', '6500 YUCCA ST', 34.05, -118.24), (200104474, datetime.date(2020, 1, 7), datetime.date(2020, 1, 6), 'Central', 888, 'TRESPASSING', 34, 'F', 'DEPARTMENT STORE', 'IC', '3900 DENKER AV', 34.05, -118.26), (200104475, datetime.date(2020, 1, 7), datetime.date(2020, 1, 6), 'Central', 740, 'VANDALISM - FELONY ($400 & OVER, ALL CHURCH VANDALISMS)', 35, 'M', 'STREET', 'IC', '700 N MAIN ST', 34.04, -118.24), (200104476, datetime.date(2020, 1, 7), datetime.date(2020, 1, 6), 'Central', 330, 'BURGLARY FROM VEHICLE', 38, 'M', 'PARKING LOT', 'IC', '700 WILSHIRE BL', 34.07, -118.23), (200104477, datetime.date(2020, 1, 7), datetime.date(2020, 1, 6), 'Central', 930, 'CRIMINAL THREATS - NO WEAPON DISPLAYED', 29, 'F', 'SIDEWALK', 'IC', '400 W 8TH ST', 34.06, -118.23), (200104488, datetime.date(2020, 1, 7), datetime.date(2020, 1, 7), 'Central', 442, 'SHOPLIFTING - PETTY THEFT ($950 & UNDER)', 24, 'M', \"COFFEE SHOP (STARBUCKS, COFFEE BEAN, PEET'S, ETC.)\", 'IC', '700 W 7TH ST', 34.06, -118.23), (200104489, datetime.date(2020, 1, 7), datetime.date(2020, 1, 7), 'Central', 624, 'BATTERY - SIMPLE ASSAULT', 26, 'F', 'STREET', 'IC', '6TH', 34.05, -118.26), (200104498, datetime.date(2020, 1, 7), datetime.date(2020, 1, 7), 'Central', 220, 'ATTEMPTED ROBBERY', 56, 'M', 'SIDEWALK', 'IC', '1000 WILSHIRE BL', 34.05, -118.24), (200104499, datetime.date(2020, 1, 7), datetime.date(2020, 1, 6), 'Central', 330, 'BURGLARY FROM VEHICLE', 26, 'M', 'STREET', 'IC', 'E 8TH ST', 34.06, -118.25), (200104500, datetime.date(2020, 1, 7), datetime.date(2020, 1, 7), 'Central', 625, 'OTHER ASSAULT', 47, 'M', 'OTHER BUSINESS', 'IC', '8700 SUNLAND BL', 34.05, -118.25), (200104501, datetime.date(2020, 1, 8), datetime.date(2020, 1, 8), 'Central', 350, 'THEFT, PERSON', 29, 'F', 'PARKING UNDERGROUND/BUILDING', 'AA', 'ALPINE ST', 34.05, -118.27), (200104503, datetime.date(2020, 1, 8), datetime.date(2020, 1, 8), 'Central', 755, 'BOMB SCARE', 29, 'M', 'STAPLES CENTER *', 'IC', '6TH', 34.04, -118.27), (200104505, datetime.date(2020, 1, 7), datetime.date(2020, 1, 7), 'Central', 442, 'SHOPLIFTING - PETTY THEFT ($950 & UNDER)', 0, 'X', 'DEPARTMENT STORE', 'IC', '300 E 2ND ST', 34.05, -118.26), (200104513, datetime.date(2020, 1, 8), datetime.date(2020, 1, 7), 'Central', 510, 'VEHICLE - STOLEN', 0, '', 'STREET', 'IC', '1300 S HOPE ST', 34.07, -118.25), (200104522, datetime.date(2020, 1, 8), datetime.date(2020, 1, 7), 'Central', 330, 'BURGLARY FROM VEHICLE', 32, 'M', 'PARKING UNDERGROUND/BUILDING', 'IC', '700 CENTER ST', 34.05, -118.26), (200104524, datetime.date(2020, 1, 8), datetime.date(2020, 1, 8), 'Central', 624, 'BATTERY - SIMPLE ASSAULT', 30, 'M', 'SIDEWALK', 'IC', '300 E 2ND ST', 34.04, -118.26), (200104526, datetime.date(2020, 1, 8), datetime.date(2020, 1, 7), 'Central', 624, 'BATTERY - SIMPLE ASSAULT', 62, 'F', 'MULTI-UNIT DWELLING (APARTMENT, DUPLEX, ETC)', 'IC', '500 S MAIN ST', 34.05, -118.25), (200104527, datetime.date(2020, 1, 8), datetime.date(2020, 1, 6), 'Central', 440, 'THEFT PLAIN - PETTY ($950 & UNDER)', 71, 'M', 'MISSIONS/SHELTERS', 'IC', 'FACTORY PL', 34.05, -118.24), (200104534, datetime.date(2020, 1, 8), datetime.date(2020, 1, 8), 'Central', 624, 'BATTERY - SIMPLE ASSAULT', 53, 'M', 'SIDEWALK', 'IC', '400 S ALAMEDA ST', 34.04, -118.25), (200104545, datetime.date(2020, 1, 7), datetime.date(2020, 1, 2), 'Central', 341, 'THEFT-GRAND ($950.01 & OVER)EXCPT,GUNS,FOWL,LIVESTK,PROD', 31, 'M', 'VEHICLE, PASSENGER/TRUCK', 'IC', '5TH ST', 34.04, -118.26), (200104547, datetime.date(2020, 1, 8), datetime.date(2020, 1, 7), 'Central', 341, 'THEFT-GRAND ($950.01 & OVER)EXCPT,GUNS,FOWL,LIVESTK,PROD', 0, 'M', 'CONSTRUCTION SITE', 'IC', '600 CERES AV', 34.04, -118.26), (200104548, datetime.date(2020, 1, 7), datetime.date(2020, 1, 6), 'Central', 440, 'THEFT PLAIN - PETTY ($950 & UNDER)', 49, 'M', 'RESTAURANT/FAST FOOD', 'IC', '800 S OLIVE ST', 34.04, -118.24), (200104549, datetime.date(2020, 1, 8), datetime.date(2020, 1, 6), 'Central', 440, 'THEFT PLAIN - PETTY ($950 & UNDER)', 38, 'M', 'STREET', 'IC', '300 S BROADWAY', 34.05, -118.24), (200104550, datetime.date(2020, 1, 8), datetime.date(2020, 1, 8), 'Central', 740, 'VANDALISM - FELONY ($400 & OVER, ALL CHURCH VANDALISMS)', 55, 'M', 'MISSIONS/SHELTERS', 'IC', '4TH ST', 34.04, -118.25), (200104551, datetime.date(2020, 1, 8), datetime.date(2020, 1, 8), 'Central', 761, 'BRANDISH WEAPON', 43, 'M', 'CONSTRUCTION SITE', 'IC', '2ND ST', 34.04, -118.27), (211613998, datetime.date(2021, 11, 8), datetime.date(2020, 11, 1), 'Foothill', 354, 'THEFT OF IDENTITY', 64, 'F', 'SINGLE FAMILY DWELLING', 'IC', 'WESTLAKE', 34.27, -118.36), (200104556, datetime.date(2020, 1, 8), datetime.date(2020, 1, 8), 'Central', 440, 'THEFT PLAIN - PETTY ($950 & UNDER)', 56, 'M', 'SIDEWALK', 'IC', 'HEWITT', 34.05, -118.24), (200104573, datetime.date(2020, 1, 8), datetime.date(2020, 1, 8), 'Central', 330, 'BURGLARY FROM VEHICLE', 30, 'M', 'STREET', 'IC', 'HEWITT', 34.05, -118.24), (200104576, datetime.date(2020, 1, 8), datetime.date(2020, 1, 8), 'Central', 440, 'THEFT PLAIN - PETTY ($950 & UNDER)', 35, 'M', 'OTHER BUSINESS', 'IC', '800 W OLYMPIC BL', 34.05, -118.26), (200104577, datetime.date(2020, 1, 8), datetime.date(2020, 1, 8), 'Central', 510, 'VEHICLE - STOLEN', 0, '', 'STREET', 'IC', '1800 S FLOWER ST', 34.04, -118.27), (200104578, datetime.date(2020, 1, 9), datetime.date(2020, 1, 7), 'Central', 888, 'TRESPASSING', 36, 'M', 'MULTI-UNIT DWELLING (APARTMENT, DUPLEX, ETC)', 'IC', '700 S MAIN ST', 34.05, -118.24), (200104579, datetime.date(2020, 1, 9), datetime.date(2020, 1, 7), 'Central', 310, 'BURGLARY', 25, 'F', 'MEDICAL/DENTAL OFFICES', 'IC', 'OLIVE', 34.06, -118.24), (200104580, datetime.date(2020, 1, 9), datetime.date(2020, 1, 8), 'Central', 480, 'BIKE - STOLEN', 67, 'M', 'RESTAURANT/FAST FOOD', 'IC', '500 W 6TH ST', 34.05, -118.26), (200104582, datetime.date(2020, 1, 9), datetime.date(2020, 1, 6), 'Central', 341, 'THEFT-GRAND ($950.01 & OVER)EXCPT,GUNS,FOWL,LIVESTK,PROD', 37, 'M', 'SIDEWALK', 'IC', '700 N ALAMEDA ST', 34.04, -118.25), (200104584, datetime.date(2020, 1, 8), datetime.date(2020, 1, 7), 'Central', 662, 'BUNCO, GRAND THEFT', 40, 'M', 'MULTI-UNIT DWELLING (APARTMENT, DUPLEX, ETC)', 'IC', '600 E 5TH ST', 34.05, -118.26), (200104588, datetime.date(2020, 1, 9), datetime.date(2020, 1, 9), 'Central', 440, 'THEFT PLAIN - PETTY ($950 & UNDER)', 59, 'F', 'LA UNION STATION (NOT LINE SPECIFIC)', 'IC', '500 CERES AV', 34.06, -118.24), (200104590, datetime.date(2020, 1, 8), datetime.date(2020, 1, 8), 'Central', 442, 'SHOPLIFTING - PETTY THEFT ($950 & UNDER)', 34, 'M', 'DRUG STORE', 'IC', 'LOS ANGELES', 34.05, -118.25), (200104594, datetime.date(2020, 1, 8), datetime.date(2020, 1, 8), 'Central', 624, 'BATTERY - SIMPLE ASSAULT', 20, 'M', 'MTA - RED LINE - 7TH AND METRO CENTER', 'IC', '500 S SAN PEDRO ST', 34.05, -118.26), (200104598, datetime.date(2020, 1, 9), datetime.date(2020, 1, 7), 'Central', 745, 'VANDALISM - MISDEAMEANOR ($399 OR UNDER)', 69, 'F', 'SINGLE FAMILY DWELLING', 'IC', '200 S SAN PEDRO ST', 34.07, -118.23), (200104603, datetime.date(2020, 1, 9), datetime.date(2020, 1, 9), 'Central', 480, 'BIKE - STOLEN', 0, 'X', 'MTA - RED LINE - UNION STATION', 'AA', '500 S MAIN ST', 34.06, -118.24), (200104609, datetime.date(2020, 1, 9), datetime.date(2020, 1, 7), 'Central', 220, 'ATTEMPTED ROBBERY', 58, 'F', 'MTA - RED LINE - UNION STATION', 'IC', '400 CASANOVA ST', 34.06, -118.24), (200104613, datetime.date(2020, 1, 8), datetime.date(2020, 1, 6), 'Central', 330, 'BURGLARY FROM VEHICLE', 33, 'F', 'PARKING UNDERGROUND/BUILDING', 'IC', '1600 SANTEE ST', 34.04, -118.26), (200104616, datetime.date(2020, 1, 7), datetime.date(2020, 1, 7), 'Central', 330, 'BURGLARY FROM VEHICLE', 28, 'F', 'STREET', 'IC', '600 N FIGUEROA ST', 34.03, -118.27), (200104617, datetime.date(2020, 1, 9), datetime.date(2020, 1, 1), 'Central', 330, 'BURGLARY FROM VEHICLE', 31, 'M', 'GARAGE/CARPORT', 'IC', '1000 S FLOWER ST', 34.05, -118.26), (200104619, datetime.date(2020, 1, 8), datetime.date(2020, 1, 5), 'Central', 341, 'THEFT-GRAND ($950.01 & OVER)EXCPT,GUNS,FOWL,LIVESTK,PROD', 38, 'M', 'SIDEWALK', 'IC', 'CESAR E CHAVEZ', 34.05, -118.24), (200604186, datetime.date(2020, 1, 5), datetime.date(2020, 1, 5), 'Hollywood', 649, 'DOCUMENT FORGERY / STOLEN FELONY', 0, 'X', 'STREET', 'AA', '300 E 5TH ST', 34.1, -118.33), (200610130, datetime.date(2020, 5, 11), datetime.date(2020, 5, 11), 'Hollywood', 210, 'ROBBERY', 0, 'X', 'MINI-MART', 'AA', '600 S FIGUEROA ST', 34.1, -118.34), (200320020, datetime.date(2020, 11, 7), datetime.date(2020, 11, 7), 'Southwest', 901, 'VIOLATION OF RESTRAINING ORDER', 25, 'M', 'SINGLE FAMILY DWELLING', 'AO', '500 S HILL ST', 34.02, -118.3), (200104657, datetime.date(2020, 1, 9), datetime.date(2020, 1, 9), 'Central', 624, 'BATTERY - SIMPLE ASSAULT', 34, 'F', 'LIQUOR STORE', 'IC', '5TH', 34.06, -118.24), (200104658, datetime.date(2020, 1, 9), datetime.date(2020, 1, 9), 'Central', 946, 'OTHER MISCELLANEOUS CRIME', 41, 'M', 'PARKING LOT', 'IC', '500 RAMIREZ ST', 34.05, -118.26), (200104660, datetime.date(2020, 1, 9), datetime.date(2020, 1, 8), 'Central', 740, 'VANDALISM - FELONY ($400 & OVER, ALL CHURCH VANDALISMS)', 49, 'F', 'TOBACCO SHOP', 'IC', '800 N ALAMEDA ST', 34.04, -118.26), (200104663, datetime.date(2020, 1, 9), datetime.date(2020, 1, 9), 'Central', 442, 'SHOPLIFTING - PETTY THEFT ($950 & UNDER)', 20, 'F', 'OTHER STORE', 'IC', '800 N ALAMEDA ST', 34.05, -118.26), (200104670, datetime.date(2020, 1, 10), datetime.date(2020, 1, 9), 'Central', 330, 'BURGLARY FROM VEHICLE', 30, 'F', 'STREET', 'IC', '600 W 7TH ST', 34.04, -118.25), (200104673, datetime.date(2020, 1, 9), datetime.date(2020, 1, 1), 'Central', 341, 'THEFT-GRAND ($950.01 & OVER)EXCPT,GUNS,FOWL,LIVESTK,PROD', 27, 'F', 'MULTI-UNIT DWELLING (APARTMENT, DUPLEX, ETC)', 'IC', '900 N BEAUDRY AV', 34.05, -118.26), (200104682, datetime.date(2020, 1, 9), datetime.date(2020, 1, 9), 'Central', 440, 'THEFT PLAIN - PETTY ($950 & UNDER)', 32, 'M', 'HIGH-RISE BUILDING', 'IC', '500 S LOS ANGELES ST', 34.05, -118.26), (200104683, datetime.date(2020, 1, 10), datetime.date(2020, 1, 6), 'Central', 440, 'THEFT PLAIN - PETTY ($950 & UNDER)', 39, 'F', 'MULTI-UNIT DWELLING (APARTMENT, DUPLEX, ETC)', 'IC', '500 S SAN PEDRO ST', 34.04, -118.25), (201610902, datetime.date(2020, 7, 9), datetime.date(2020, 7, 9), 'Foothill', 210, 'ROBBERY', 35, 'F', 'RESTAURANT/FAST FOOD', 'AA', '1100 S FIGUEROA ST', 34.23, -118.37), (200104691, datetime.date(2020, 1, 9), datetime.date(2020, 1, 8), 'Central', 350, 'THEFT, PERSON', 64, 'F', 'STREET', 'IC', '600 N SPRING ST', 34.06, -118.24), (200104696, datetime.date(2020, 1, 10), datetime.date(2020, 1, 10), 'Central', 624, 'BATTERY - SIMPLE ASSAULT', 57, 'M', 'STREET', 'IC', '100 E 5TH ST', 34.04, -118.25), (200104697, datetime.date(2020, 1, 10), datetime.date(2020, 1, 9), 'Central', 330, 'BURGLARY FROM VEHICLE', 34, 'F', 'PARKING LOT', 'IC', '400 COLYTON ST', 34.05, -118.24), (200104700, datetime.date(2020, 1, 10), datetime.date(2020, 1, 8), 'Central', 330, 'BURGLARY FROM VEHICLE', 29, 'M', 'PARKING LOT', 'IC', 'FLOWER', 34.04, -118.26), (200104702, datetime.date(2020, 1, 10), datetime.date(2020, 1, 10), 'Central', 745, 'VANDALISM - MISDEAMEANOR ($399 OR UNDER)', 0, 'X', 'HOSPITAL', 'IC', '600 S SPRING ST', 34.04, -118.27), (200104703, datetime.date(2020, 1, 1), datetime.date(2020, 1, 1), 'Central', 330, 'BURGLARY FROM VEHICLE', 27, 'M', 'PARKING LOT', 'IC', '1100 S FIGUEROA ST', 34.05, -118.23), (200104704, datetime.date(2020, 1, 9), datetime.date(2020, 1, 9), 'Central', 330, 'BURGLARY FROM VEHICLE', 0, 'X', 'PARKING LOT', 'IC', '1200 S MAIN ST', 34.05, -118.24), (200104713, datetime.date(2020, 1, 10), datetime.date(2020, 1, 10), 'Central', 900, 'VIOLATION OF COURT ORDER', 53, 'M', 'MULTI-UNIT DWELLING (APARTMENT, DUPLEX, ETC)', 'IC', '600 N ALAMEDA ST', 34.05, -118.25), (200104715, datetime.date(2020, 1, 10), datetime.date(2020, 1, 10), 'Central', 510, 'VEHICLE - STOLEN', 0, '', 'STREET', 'IC', '14600 VANOWEN ST', 34.04, -118.24), (200104717, datetime.date(2020, 1, 10), datetime.date(2020, 1, 9), 'Central', 330, 'BURGLARY FROM VEHICLE', 46, 'F', 'PARKING LOT', 'IC', '100 JUDGE JOHN AISO ST', 34.04, -118.24), (200104718, datetime.date(2020, 1, 10), datetime.date(2020, 1, 10), 'Central', 624, 'BATTERY - SIMPLE ASSAULT', 55, 'F', 'STREET', 'IC', '19500 INGOMAR ST', 34.05, -118.25), (200104719, datetime.date(2020, 1, 10), datetime.date(2020, 1, 8), 'Central', 341, 'THEFT-GRAND ($950.01 & OVER)EXCPT,GUNS,FOWL,LIVESTK,PROD', 33, 'M', 'MUNICIPAL BUS LINE INCLUDES LADOT/DASH', 'IC', '700 S GRAND AV', 34.04, -118.26), (200104721, datetime.date(2020, 1, 10), datetime.date(2020, 1, 10), 'Central', 510, 'VEHICLE - STOLEN', 0, '', 'STREET', 'IC', '200 E 6TH ST', 34.04, -118.24), (200104726, datetime.date(2020, 1, 10), datetime.date(2020, 1, 10), 'Central', 310, 'BURGLARY', 27, 'M', 'MULTI-UNIT DWELLING (APARTMENT, DUPLEX, ETC)', 'AA', '800 S HILL ST', 34.05, -118.26), (200104727, datetime.date(2020, 1, 10), datetime.date(2020, 1, 10), 'Central', 624, 'BATTERY - SIMPLE ASSAULT', 48, 'M', 'SIDEWALK', 'IC', '200 W 7TH ST', 34.05, -118.25), (200104734, datetime.date(2020, 1, 11), datetime.date(2020, 1, 10), 'Central', 510, 'VEHICLE - STOLEN', 0, '', 'STREET', 'IC', '600 S OLIVE ST', 34.04, -118.23), (200104735, datetime.date(2020, 1, 11), datetime.date(2020, 1, 10), 'Central', 220, 'ATTEMPTED ROBBERY', 30, 'M', 'SIDEWALK', 'AA', '600 S SPRING ST', 34.05, -118.24), (200205570, datetime.date(2020, 2, 1), datetime.date(2020, 2, 1), 'Rampart', 510, 'VEHICLE - STOLEN', 0, '', 'STREET', 'IC', '7TH ST', 34.06, -118.27), (200104737, datetime.date(2020, 1, 11), datetime.date(2020, 1, 11), 'Central', 230, 'ASSAULT WITH DEADLY WEAPON, AGGRAVATED ASSAULT', 26, 'M', 'SIDEWALK', 'IC', '700 S GRAND AV', 34.05, -118.24), (200104738, datetime.date(2020, 1, 11), datetime.date(2020, 1, 11), 'Central', 230, 'ASSAULT WITH DEADLY WEAPON, AGGRAVATED ASSAULT', 26, 'M', 'SIDEWALK', 'IC', '700 W 7TH ST', 34.05, -118.24), (200104739, datetime.date(2020, 1, 11), datetime.date(2020, 1, 10), 'Central', 624, 'BATTERY - SIMPLE ASSAULT', 28, 'F', 'SIDEWALK', 'IC', '900 W OLYMPIC BL', 34.05, -118.26), (200104740, datetime.date(2020, 1, 11), datetime.date(2020, 1, 10), 'Central', 230, 'ASSAULT WITH DEADLY WEAPON, AGGRAVATED ASSAULT', 36, 'M', 'SINGLE FAMILY DWELLING', 'IC', '800 S FIGUEROA ST', 34.04, -118.27), (200104741, datetime.date(2020, 1, 11), datetime.date(2020, 1, 10), 'Central', 330, 'BURGLARY FROM VEHICLE', 0, 'M', 'PARKING LOT', 'IC', '200 BOYD ST', 34.04, -118.25), (200104742, datetime.date(2020, 1, 11), datetime.date(2020, 1, 10), 'Central', 740, 'VANDALISM - FELONY ($400 & OVER, ALL CHURCH VANDALISMS)', 33, 'F', 'VEHICLE, PASSENGER/TRUCK', 'IC', '5TH', 34.04, -118.26), (200104743, datetime.date(2020, 1, 11), datetime.date(2020, 1, 9), 'Central', 341, 'THEFT-GRAND ($950.01 & OVER)EXCPT,GUNS,FOWL,LIVESTK,PROD', 27, 'M', 'STREET', 'IC', '200 E 11TH ST', 34.05, -118.25), (200104744, datetime.date(2020, 1, 11), datetime.date(2020, 1, 11), 'Central', 320, 'BURGLARY, ATTEMPTED', 0, 'M', 'OTHER RESIDENCE', 'IC', '600 N BROADWAY', 34.06, -118.24), (200104745, datetime.date(2020, 1, 11), datetime.date(2020, 1, 10), 'Central', 740, 'VANDALISM - FELONY ($400 & OVER, ALL CHURCH VANDALISMS)', 0, 'M', 'HOSPITAL', 'AA', '1000 S HOPE ST', 34.04, -118.27), (200104749, datetime.date(2020, 1, 11), datetime.date(2020, 1, 10), 'Central', 440, 'THEFT PLAIN - PETTY ($950 & UNDER)', 48, 'M', 'MULTI-UNIT DWELLING (APARTMENT, DUPLEX, ETC)', 'IC', '1000 S FIGUEROA ST', 34.04, -118.24), (200104750, datetime.date(2020, 1, 11), datetime.date(2020, 1, 11), 'Central', 740, 'VANDALISM - FELONY ($400 & OVER, ALL CHURCH VANDALISMS)', 0, 'M', 'BUS STOP', 'IC', '600 W 7TH ST', 34.05, -118.25), (200104752, datetime.date(2020, 1, 11), datetime.date(2020, 1, 11), 'Central', 440, 'THEFT PLAIN - PETTY ($950 & UNDER)', 28, 'F', 'MULTI-UNIT DWELLING (APARTMENT, DUPLEX, ETC)', 'IC', '800 S OLIVE ST', 34.04, -118.24), (200104754, datetime.date(2020, 1, 11), datetime.date(2020, 1, 11), 'Central', 624, 'BATTERY - SIMPLE ASSAULT', 58, 'F', 'SIDEWALK', 'IC', 'FRIGATE', 34.05, -118.25), (200104755, datetime.date(2020, 1, 11), datetime.date(2020, 1, 11), 'Central', 624, 'BATTERY - SIMPLE ASSAULT', 51, 'M', 'SIDEWALK', 'IC', '1000 S ALVARADO ST', 34.04, -118.25), (200104759, datetime.date(2020, 1, 11), datetime.date(2020, 1, 2), 'Central', 354, 'THEFT OF IDENTITY', 64, 'F', 'MULTI-UNIT DWELLING (APARTMENT, DUPLEX, ETC)', 'IC', '6TH', 34.05, -118.24), (200104761, datetime.date(2020, 1, 11), datetime.date(2020, 1, 10), 'Central', 330, 'BURGLARY FROM VEHICLE', 32, 'M', 'PARKING LOT', 'IC', '1100 S FIGUEROA ST', 34.05, -118.25), (200104762, datetime.date(2020, 1, 11), datetime.date(2020, 1, 11), 'Central', 330, 'BURGLARY FROM VEHICLE', 32, 'M', 'PARKING UNDERGROUND/BUILDING', 'IC', '600 W 5TH ST', 34.04, -118.27), (200104763, datetime.date(2020, 1, 11), datetime.date(2020, 1, 11), 'Central', 510, 'VEHICLE - STOLEN', 0, '', 'STREET', 'IC', '300 S BROADWAY', 34.07, -118.23), (200104765, datetime.date(2020, 1, 11), datetime.date(2020, 1, 11), 'Central', 330, 'BURGLARY FROM VEHICLE', 39, 'M', 'ALLEY', 'IC', 'ORD', 34.03, -118.26), (200104766, datetime.date(2020, 1, 11), datetime.date(2020, 1, 6), 'Central', 740, 'VANDALISM - FELONY ($400 & OVER, ALL CHURCH VANDALISMS)', 38, 'M', 'VEHICLE, PASSENGER/TRUCK', 'IC', '200 N MAIN ST', 34.06, -118.25), (200104768, datetime.date(2020, 1, 11), datetime.date(2020, 1, 10), 'Central', 662, 'BUNCO, GRAND THEFT', 29, 'M', 'MULTI-UNIT DWELLING (APARTMENT, DUPLEX, ETC)', 'IC', 'SUNSET', 34.04, -118.26), (200104769, datetime.date(2020, 1, 11), datetime.date(2020, 1, 11), 'Central', 440, 'THEFT PLAIN - PETTY ($950 & UNDER)', 38, 'M', 'SIDEWALK', 'IC', '700 S MAIN ST', 34.06, -118.24), (200104770, datetime.date(2020, 1, 11), datetime.date(2020, 1, 11), 'Central', 350, 'THEFT, PERSON', 20, 'M', 'STREET', 'IC', '300 E 5TH ST', 34.05, -118.24), (200104772, datetime.date(2020, 1, 11), datetime.date(2020, 1, 11), 'Central', 624, 'BATTERY - SIMPLE ASSAULT', 57, 'M', 'MTA - RED LINE - 7TH AND METRO CENTER', 'IC', '2600 S CABRILLO AV', 34.05, -118.26), (200104774, datetime.date(2020, 1, 11), datetime.date(2020, 1, 11), 'Central', 624, 'BATTERY - SIMPLE ASSAULT', 65, 'F', 'MTA - PURPLE LINE - PERSHING SQUARE', 'IC', '100 S GRAND AV', 34.05, -118.25), (200104775, datetime.date(2020, 1, 11), datetime.date(2020, 1, 11), 'Central', 440, 'THEFT PLAIN - PETTY ($950 & UNDER)', 22, 'F', 'STREET', 'IC', '1200 S GRAND AV', 34.05, -118.25), (200104800, datetime.date(2020, 1, 11), datetime.date(2020, 1, 11), 'Central', 761, 'BRANDISH WEAPON', 22, 'M', 'PARKING LOT', 'IC', '600 S LOS ANGELES ST', 34.06, -118.23), (200104806, datetime.date(2020, 1, 12), datetime.date(2020, 1, 10), 'Central', 888, 'TRESPASSING', 0, 'M', 'LA UNION STATION (NOT LINE SPECIFIC)', 'IC', '800 W 255TH ST', 34.06, -118.24), (200104808, datetime.date(2020, 1, 12), datetime.date(2020, 1, 11), 'Central', 442, 'SHOPLIFTING - PETTY THEFT ($950 & UNDER)', 30, 'M', 'LA UNION STATION (NOT LINE SPECIFIC)', 'IC', '6300 6TH AV', 34.06, -118.24), (200104810, datetime.date(2020, 1, 9), datetime.date(2020, 1, 9), 'Central', 624, 'BATTERY - SIMPLE ASSAULT', 30, 'F', 'MTA - RED LINE - 7TH AND METRO CENTER', 'IC', '7800 BEEMAN AV', 34.05, -118.26), (200104813, datetime.date(2020, 1, 11), datetime.date(2020, 1, 11), 'Central', 624, 'BATTERY - SIMPLE ASSAULT', 65, 'M', 'SINGLE FAMILY DWELLING', 'IC', '300 N VERMONT AV', 34.07, -118.25), (200104814, datetime.date(2020, 1, 11), datetime.date(2020, 1, 11), 'Central', 624, 'BATTERY - SIMPLE ASSAULT', 28, 'M', 'OTHER STORE', 'IC', '3300 SAN MARINO ST', 34.05, -118.25), (200104815, datetime.date(2020, 1, 11), datetime.date(2020, 1, 11), 'Central', 624, 'BATTERY - SIMPLE ASSAULT', 41, 'F', 'MISSIONS/SHELTERS', 'IC', '15600 SIMONDS ST', 34.04, -118.24), (200104817, datetime.date(2020, 1, 11), datetime.date(2020, 1, 11), 'Central', 624, 'BATTERY - SIMPLE ASSAULT', 28, 'F', 'STAPLES CENTER *', 'IC', '800 S TREMAINE AV', 34.04, -118.27), (200104818, datetime.date(2020, 1, 12), datetime.date(2020, 1, 12), 'Central', 624, 'BATTERY - SIMPLE ASSAULT', 35, 'F', 'SIDEWALK', 'IC', '2400 COLORADO BL', 34.06, -118.24), (200104819, datetime.date(2020, 1, 11), datetime.date(2020, 1, 11), 'Central', 330, 'BURGLARY FROM VEHICLE', 35, 'M', 'SIDEWALK', 'IC', '3500 E 7TH ST', 34.05, -118.25), (200104820, datetime.date(2020, 1, 12), datetime.date(2020, 1, 11), 'Central', 330, 'BURGLARY FROM VEHICLE', 38, 'M', 'SIDEWALK', 'IC', '200 S WESTLAKE AV', 34.04, -118.24), (200104821, datetime.date(2020, 1, 11), datetime.date(2020, 1, 11), 'Central', 341, 'THEFT-GRAND ($950.01 & OVER)EXCPT,GUNS,FOWL,LIVESTK,PROD', 32, 'F', 'SIDEWALK', 'IC', '300 E 1ST ST', 34.04, -118.26), (200104822, datetime.date(2020, 1, 11), datetime.date(2020, 1, 11), 'Central', 480, 'BIKE - STOLEN', 39, 'F', 'SIDEWALK', 'IC', '400 HARTFORD AV', 34.05, -118.25), (200104823, datetime.date(2020, 1, 11), datetime.date(2020, 1, 9), 'Central', 350, 'THEFT, PERSON', 57, 'M', 'STAPLES CENTER *', 'IC', '1000 WILSHIRE BL', 34.04, -118.27), (200104826, datetime.date(2020, 1, 11), datetime.date(2020, 1, 11), 'Central', 341, 'THEFT-GRAND ($950.01 & OVER)EXCPT,GUNS,FOWL,LIVESTK,PROD', 56, 'M', 'OTHER BUSINESS', 'IC', '1600 W 204TH ST', 34.04, -118.26), (200104829, datetime.date(2020, 1, 12), datetime.date(2020, 1, 12), 'Central', 740, 'VANDALISM - FELONY ($400 & OVER, ALL CHURCH VANDALISMS)', 29, 'M', 'VEHICLE, PASSENGER/TRUCK', 'IC', '7900 BOTHWELL RD', 34.05, -118.24), (200918367, datetime.date(2020, 12, 12), datetime.date(2020, 12, 12), 'Van Nuys', 230, 'ASSAULT WITH DEADLY WEAPON, AGGRAVATED ASSAULT', 45, 'M', 'SIDEWALK', 'IC', '1500 VINE ST', 34.2, -118.46), (200104835, datetime.date(2020, 1, 11), datetime.date(2020, 1, 11), 'Central', 901, 'VIOLATION OF RESTRAINING ORDER', 47, 'F', 'MULTI-UNIT DWELLING (APARTMENT, DUPLEX, ETC)', 'IC', '100 AVENUE 56', 34.06, -118.24), (200104836, datetime.date(2020, 1, 12), datetime.date(2020, 1, 11), 'Central', 740, 'VANDALISM - FELONY ($400 & OVER, ALL CHURCH VANDALISMS)', 30, 'M', 'VEHICLE, PASSENGER/TRUCK', 'IC', '1100 S FIGUEROA ST', 34.05, -118.24), (201007153, datetime.date(2020, 3, 12), datetime.date(2020, 3, 12), 'West Valley', 888, 'TRESPASSING', 45, 'F', 'SINGLE FAMILY DWELLING', 'AA', '900 S GRAND AV', 34.21, -118.56), (200104842, datetime.date(2020, 1, 12), datetime.date(2020, 1, 8), 'Central', 330, 'BURGLARY FROM VEHICLE', 34, 'F', 'PARKING LOT', 'IC', '6600 BRYNHURST AV', 34.05, -118.26), (200104843, datetime.date(2020, 1, 12), datetime.date(2020, 1, 11), 'Central', 330, 'BURGLARY FROM VEHICLE', 57, 'F', 'PARKING LOT', 'IC', '1600 W 54TH ST', 34.04, -118.25), (200104844, datetime.date(2020, 1, 12), datetime.date(2020, 1, 12), 'Central', 230, 'ASSAULT WITH DEADLY WEAPON, AGGRAVATED ASSAULT', 45, 'M', 'STREET', 'IC', '6200 MT ANGELUS DR', 34.04, -118.24), (200104847, datetime.date(2020, 1, 12), datetime.date(2020, 1, 11), 'Central', 740, 'VANDALISM - FELONY ($400 & OVER, ALL CHURCH VANDALISMS)', 28, 'F', 'VEHICLE, PASSENGER/TRUCK', 'IC', '1600 W 54TH ST', 34.05, -118.26), (200104848, datetime.date(2020, 1, 12), datetime.date(2020, 1, 11), 'Central', 930, 'CRIMINAL THREATS - NO WEAPON DISPLAYED', 62, 'M', 'STREET', 'IC', '200 WOODRUFF AV', 34.05, -118.25), (200104849, datetime.date(2020, 1, 12), datetime.date(2020, 1, 12), 'Central', 442, 'SHOPLIFTING - PETTY THEFT ($950 & UNDER)', 21, 'F', 'DRUG STORE', 'IC', '2200 MARICOPA DR', 34.05, -118.26), (200104850, datetime.date(2020, 1, 12), datetime.date(2020, 1, 12), 'Central', 310, 'BURGLARY', 27, 'M', 'DEPARTMENT STORE', 'IC', '3900 URSULA AV', 34.05, -118.25), (200104851, datetime.date(2020, 1, 12), datetime.date(2020, 1, 11), 'Central', 350, 'THEFT, PERSON', 26, 'F', 'NIGHT CLUB (OPEN EVENINGS ONLY)', 'IC', '5TH', 34.05, -118.25), (200104853, datetime.date(2020, 1, 12), datetime.date(2020, 1, 11), 'Central', 440, 'THEFT PLAIN - PETTY ($950 & UNDER)', 26, 'F', 'RESTAURANT/FAST FOOD', 'IC', '300 E 5TH ST', 34.05, -118.26), (200104857, datetime.date(2020, 1, 12), datetime.date(2020, 1, 5), 'Central', 420, 'THEFT FROM MOTOR VEHICLE - PETTY ($950 & UNDER)', 0, '', 'PARKING LOT', 'IC', '1400 W HILL DR', 34.04, -118.27), (200104860, datetime.date(2020, 1, 12), datetime.date(2020, 1, 10), 'Central', 341, 'THEFT-GRAND ($950.01 & OVER)EXCPT,GUNS,FOWL,LIVESTK,PROD', 29, 'M', 'PARKING LOT', 'IC', '00 OLVERA ST', 34.05, -118.26), (200104861, datetime.date(2020, 1, 12), datetime.date(2020, 1, 12), 'Central', 210, 'ROBBERY', 23, 'M', 'DEPARTMENT STORE', 'AO', '400 W 8TH ST', 34.05, -118.26), (200104863, datetime.date(2020, 1, 12), datetime.date(2020, 1, 11), 'Central', 330, 'BURGLARY FROM VEHICLE', 38, 'F', 'PARKING LOT', 'IC', '600 W SUNSET BL', 34.05, -118.27), (200104865, datetime.date(2020, 1, 12), datetime.date(2020, 1, 12), 'Central', 330, 'BURGLARY FROM VEHICLE', 27, 'M', 'PARKING LOT', 'IC', '700 W 7TH ST', 34.05, -118.26), (200104868, datetime.date(2020, 1, 12), datetime.date(2020, 1, 8), 'Central', 624, 'BATTERY - SIMPLE ASSAULT', 35, 'M', 'MULTI-UNIT DWELLING (APARTMENT, DUPLEX, ETC)', 'IC', 'BOYD ST', 34.05, -118.25), (200104869, datetime.date(2020, 1, 12), datetime.date(2020, 1, 12), 'Central', 624, 'BATTERY - SIMPLE ASSAULT', 60, 'M', 'MTA BUS', 'IC', '500 WALL ST', 34.05, -118.25), (200104872, datetime.date(2020, 1, 12), datetime.date(2020, 1, 12), 'Central', 330, 'BURGLARY FROM VEHICLE', 26, 'M', 'STREET', 'IC', '800 FRANCISCO ST', 34.04, -118.26), (200104873, datetime.date(2020, 1, 12), datetime.date(2020, 1, 12), 'Central', 330, 'BURGLARY FROM VEHICLE', 36, 'M', 'MULTI-UNIT DWELLING (APARTMENT, DUPLEX, ETC)', 'IC', '600 N SPRING ST', 34.06, -118.24), (200104874, datetime.date(2020, 1, 12), datetime.date(2020, 1, 11), 'Central', 740, 'VANDALISM - FELONY ($400 & OVER, ALL CHURCH VANDALISMS)', 45, 'M', 'VEHICLE, PASSENGER/TRUCK', 'IC', 'ALPINE', 34.04, -118.26), (200104875, datetime.date(2020, 1, 12), datetime.date(2020, 1, 12), 'Central', 888, 'TRESPASSING', 0, 'X', 'BAR/SPORTS BAR (OPEN DAY & NIGHT)', 'IC', 'LOS ANGELES', 34.05, -118.27), (200104879, datetime.date(2020, 1, 12), datetime.date(2020, 1, 12), 'Central', 210, 'ROBBERY', 0, 'X', 'OTHER STORE', 'IC', '800 N ALAMEDA ST', 34.05, -118.26), (200104880, datetime.date(2020, 1, 12), datetime.date(2020, 1, 12), 'Central', 440, 'THEFT PLAIN - PETTY ($950 & UNDER)', 20, 'F', 'SIDEWALK', 'IC', '800 W OLYMPIC BL', 34.05, -118.26), (200508173, datetime.date(2020, 4, 12), datetime.date(2020, 4, 12), 'Harbor', 890, 'FAILURE TO YIELD', 0, 'X', 'STREET', 'AA', '800 W OLYMPIC BL', 33.78, -118.28), (200204368, datetime.date(2020, 1, 8), datetime.date(2020, 1, 8), 'Rampart', 888, 'TRESPASSING', 19, 'X', 'LIBRARY', 'IC', '800 W OLYMPIC BL', 34.05, -118.28), (200106568, datetime.date(2020, 2, 6), datetime.date(2020, 2, 5), 'Central', 351, 'PURSE SNATCHING', 54, 'F', 'STREET', 'IC', '600 S OLIVE ST', 34.04, -118.25), (200104884, datetime.date(2020, 1, 12), datetime.date(2020, 1, 11), 'Central', 341, 'THEFT-GRAND ($950.01 & OVER)EXCPT,GUNS,FOWL,LIVESTK,PROD', 44, 'M', 'STAPLES CENTER *', 'IC', '800 S FIGUEROA ST', 34.04, -118.27), (200104885, datetime.date(2020, 1, 12), datetime.date(2020, 1, 12), 'Central', 480, 'BIKE - STOLEN', 26, 'M', 'LIBRARY', 'IC', '400 W 8TH ST', 34.05, -118.25), (200104886, datetime.date(2020, 1, 12), datetime.date(2020, 1, 12), 'Central', 440, 'THEFT PLAIN - PETTY ($950 & UNDER)', 22, 'F', 'MARKET', 'IC', '800 S GRAND AV', 34.05, -118.25), (200104887, datetime.date(2020, 1, 12), datetime.date(2020, 1, 12), 'Central', 946, 'OTHER MISCELLANEOUS CRIME', 32, 'M', 'STREET', 'AO', '7TH ST', 34.06, -118.24), (200104896, datetime.date(2020, 1, 8), datetime.date(2020, 1, 3), 'Central', 956, 'LETTERS, LEWD  -  TELEPHONE CALLS, LEWD', 0, 'X', 'GOVERNMENT FACILITY (FEDERAL,STATE, COUNTY & CITY)', 'IC', '700 S SPRING ST', 34.05, -118.24), (200610092, datetime.date(2020, 5, 10), datetime.date(2020, 5, 10), 'Hollywood', 330, 'BURGLARY FROM VEHICLE', 22, 'F', 'STREET', 'AO', '1200 S OLIVE ST', 34.1, -118.33), (200104955, datetime.date(2020, 1, 12), datetime.date(2020, 1, 12), 'Central', 624, 'BATTERY - SIMPLE ASSAULT', 21, 'M', 'MULTI-UNIT DWELLING (APARTMENT, DUPLEX, ETC)', 'IC', '400 WITMER ST', 34.04, -118.25), (200104997, datetime.date(2020, 1, 10), datetime.date(2020, 1, 6), 'Central', 624, 'BATTERY - SIMPLE ASSAULT', 32, 'F', 'STREET', 'IC', '700 W 7TH ST', 34.04, -118.25), (200510203, datetime.date(2020, 6, 4), datetime.date(2020, 6, 4), 'Harbor', 510, 'VEHICLE - STOLEN', 0, '', 'STREET', 'IC', '600 S SPRING ST', 33.72, -118.29), (200105023, datetime.date(2020, 1, 12), datetime.date(2020, 1, 11), 'Central', 330, 'BURGLARY FROM VEHICLE', 28, 'M', 'UNDERPASS/BRIDGE*', 'IC', '1200 S MAIN ST', 34.05, -118.23), (200105026, datetime.date(2020, 1, 6), datetime.date(2020, 1, 5), 'Central', 341, 'THEFT-GRAND ($950.01 & OVER)EXCPT,GUNS,FOWL,LIVESTK,PROD', 22, 'M', 'SIDEWALK', 'IC', '700 YALE ST', 34.06, -118.25), (200105030, datetime.date(2020, 1, 8), datetime.date(2020, 1, 7), 'Central', 330, 'BURGLARY FROM VEHICLE', 31, 'M', 'TRANSPORTATION FACILITY (AIRPORT)', 'IC', '1600 S HOPE ST', 34.04, -118.26), (201115511, datetime.date(2020, 11, 7), datetime.date(2020, 11, 7), 'Northeast', 740, 'VANDALISM - FELONY ($400 & OVER, ALL CHURCH VANDALISMS)', 0, 'M', 'VEHICLE, PASSENGER/TRUCK', 'AA', 'HILL', 34.08, -118.26), (200105074, datetime.date(2020, 1, 11), datetime.date(2020, 1, 10), 'Central', 330, 'BURGLARY FROM VEHICLE', 30, 'M', 'STREET', 'IC', 'BROADWAY', 34.04, -118.25), (200105090, datetime.date(2020, 1, 11), datetime.date(2020, 1, 10), 'Central', 330, 'BURGLARY FROM VEHICLE', 22, 'F', 'SIDEWALK', 'IC', '500 S SAN PEDRO ST', 34.04, -118.25), (200500577, datetime.date(2020, 3, 10), datetime.date(2020, 3, 10), 'Harbor', 888, 'TRESPASSING', 53, 'M', 'SINGLE FAMILY DWELLING', 'IC', '2ND', 33.79, -118.29), (201200943, datetime.date(2020, 10, 11), datetime.date(2020, 10, 11), '77th Street', 820, 'ORAL COPULATION', 8, 'F', 'SINGLE FAMILY DWELLING', 'AO', '800 N ALAMEDA ST', 33.98, -118.32), (211507896, datetime.date(2021, 4, 11), datetime.date(2020, 11, 7), 'N Hollywood', 354, 'THEFT OF IDENTITY', 31, 'M', 'SINGLE FAMILY DWELLING', 'IC', '100 W WASHINGTON BL', 34.21, -118.41), (200616504, datetime.date(2020, 10, 10), datetime.date(2020, 10, 9), 'Hollywood', 210, 'ROBBERY', 29, 'F', 'GARAGE/CARPORT', 'IC', '900 S FIGUEROA ST', 34.1, -118.32), (200204372, datetime.date(2020, 1, 9), datetime.date(2020, 1, 8), 'Rampart', 510, 'VEHICLE - STOLEN', 0, '', 'STREET', 'IC', '500 S FLOWER ST', 34.08, -118.3), (222013040, datetime.date(2022, 8, 6), datetime.date(2020, 6, 4), 'Olympic', 354, 'THEFT OF IDENTITY', 60, 'M', 'SINGLE FAMILY DWELLING', 'IC', '2200 W SUNSET BL', 34.05, -118.3), (211715638, datetime.date(2021, 12, 1), datetime.date(2020, 12, 9), 'Devonshire', 354, 'THEFT OF IDENTITY', 56, 'F', 'SINGLE FAMILY DWELLING', 'IC', 'BURLINGTON', 34.28, -118.47), (200516317, datetime.date(2020, 11, 7), datetime.date(2020, 11, 7), 'Harbor', 886, 'DISTURBING THE PEACE', 38, 'M', 'SINGLE FAMILY DWELLING', 'AO', '1700 W 6TH ST', 33.71, -118.29), (220705246, datetime.date(2022, 2, 3), datetime.date(2020, 2, 11), 'Wilshire', 341, 'THEFT-GRAND ($950.01 & OVER)EXCPT,GUNS,FOWL,LIVESTK,PROD', 57, 'F', 'SINGLE FAMILY DWELLING', 'IC', '7900 WOODMAN AV', 34.06, -118.34), (201104052, datetime.date(2020, 1, 1), datetime.date(2020, 1, 1), 'Northeast', 740, 'VANDALISM - FELONY ($400 & OVER, ALL CHURCH VANDALISMS)', 0, 'X', 'MULTI-UNIT DWELLING (APARTMENT, DUPLEX, ETC)', 'AA', '2100 JAMES M WOOD BL', 34.14, -118.22), (200408506, datetime.date(2020, 5, 4), datetime.date(2020, 5, 4), 'Hollenbeck', 510, 'VEHICLE - STOLEN', 0, '', 'STREET', 'IC', 'NORMAL AV', 34.02, -118.2), (200204446, datetime.date(2020, 1, 9), datetime.date(2020, 1, 8), 'Rampart', 420, 'THEFT FROM MOTOR VEHICLE - PETTY ($950 & UNDER)', 0, '', 'STREET', 'IC', '400 LOMA DR', 34.06, -118.27), (200106255, datetime.date(2020, 2, 2), datetime.date(2020, 2, 2), 'Central', 648, 'ARSON', 54, 'F', 'OTHER BUSINESS', 'IC', 'JAMES M WOOD', 34.05, -118.24), (210206385, datetime.date(2021, 3, 1), datetime.date(2020, 9, 1), 'Rampart', 812, 'CRM AGNST CHLD (13 OR UNDER) (14-15 & SUSP 10 YRS OLDER)', 9, 'F', 'MULTI-UNIT DWELLING (APARTMENT, DUPLEX, ETC)', 'AO', '1400 COURTLAND AV', 34.06, -118.26), (200218310, datetime.date(2020, 12, 7), datetime.date(2020, 12, 5), 'Rampart', 510, 'VEHICLE - STOLEN', 0, '', 'PARKING LOT', 'AO', '8TH ST', 34.05, -118.26), (200504370, datetime.date(2020, 1, 9), datetime.date(2020, 1, 8), 'Harbor', 510, 'VEHICLE - STOLEN', 0, '', 'STREET', 'IC', '500 BRITTANIA ST', 33.85, -118.31), (201011914, datetime.date(2020, 8, 10), datetime.date(2020, 8, 2), 'West Valley', 330, 'BURGLARY FROM VEHICLE', 0, 'M', 'STREET', 'IC', 'CONNECTICUT', 34.21, -118.56), (200404158, datetime.date(2020, 1, 5), datetime.date(2020, 1, 4), 'Hollenbeck', 510, 'VEHICLE - STOLEN', 0, '', 'STREET', 'IC', '7TH ST', 34.07, -118.22), (200613614, datetime.date(2020, 8, 6), datetime.date(2020, 8, 6), 'Hollywood', 624, 'BATTERY - SIMPLE ASSAULT', 19, 'F', 'SINGLE FAMILY DWELLING', 'IC', 'ADDISON', 34.1, -118.33), (200508100, datetime.date(2020, 4, 9), datetime.date(2020, 4, 8), 'Harbor', 330, 'BURGLARY FROM VEHICLE', 48, 'M', 'STREET', 'IC', 'PICO', 33.78, -118.31), (201110303, datetime.date(2020, 6, 11), datetime.date(2020, 6, 8), 'Northeast', 310, 'BURGLARY', 0, 'M', 'OTHER BUSINESS', 'IC', '600 S UNION AV', 34.11, -118.19), (200105788, datetime.date(2020, 1, 5), datetime.date(2020, 1, 5), 'Central', 341, 'THEFT-GRAND ($950.01 & OVER)EXCPT,GUNS,FOWL,LIVESTK,PROD', 37, 'M', 'STAPLES CENTER *', 'IC', '2300 KENT ST', 34.04, -118.27), (200504494, datetime.date(2020, 1, 11), datetime.date(2020, 1, 11), 'Harbor', 930, 'CRIMINAL THREATS - NO WEAPON DISPLAYED', 33, 'F', 'OTHER BUSINESS', 'AA', '3800 DUBLIN AV', 33.74, -118.29), (201214500, datetime.date(2020, 6, 11), datetime.date(2020, 6, 11), '77th Street', 624, 'BATTERY - SIMPLE ASSAULT', 30, 'F', 'MULTI-UNIT DWELLING (APARTMENT, DUPLEX, ETC)', 'JO', 'SANTO TOMAS DR', 33.98, -118.33), (201226353, datetime.date(2020, 12, 5), datetime.date(2020, 12, 5), '77th Street', 230, 'ASSAULT WITH DEADLY WEAPON, AGGRAVATED ASSAULT', 48, 'F', 'STREET', 'AO', '700 EXPOSITION BL', 33.99, -118.31), (201110326, datetime.date(2020, 6, 12), datetime.date(2020, 6, 11), 'Northeast', 510, 'VEHICLE - STOLEN', 0, '', 'STREET', 'IC', '3900 S WESTERN AV', 34.11, -118.19), (201108104, datetime.date(2020, 4, 7), datetime.date(2020, 4, 6), 'Northeast', 510, 'VEHICLE - STOLEN', 0, '', 'STREET', 'IC', '3500 ENVILLE PL', 34.09, -118.28), (201226354, datetime.date(2020, 12, 5), datetime.date(2020, 12, 5), '77th Street', 230, 'ASSAULT WITH DEADLY WEAPON, AGGRAVATED ASSAULT', 29, 'M', 'STREET', 'AO', '48TH ST', 33.99, -118.31), (200815069, datetime.date(2020, 10, 9), datetime.date(2020, 10, 9), 'West LA', 320, 'BURGLARY, ATTEMPTED', 68, 'F', 'SINGLE FAMILY DWELLING', 'IC', '1500 EXPOSITION BL', 34.08, -118.44), (201108147, datetime.date(2020, 4, 8), datetime.date(2020, 4, 8), 'Northeast', 745, 'VANDALISM - MISDEAMEANOR ($399 OR UNDER)', 63, 'F', 'SINGLE FAMILY DWELLING', 'AO', '1100 W 20TH ST', 34.11, -118.22), (200304583, datetime.date(2020, 1, 10), datetime.date(2020, 1, 10), 'Southwest', 901, 'VIOLATION OF RESTRAINING ORDER', 37, 'F', 'MULTI-UNIT DWELLING (APARTMENT, DUPLEX, ETC)', 'AO', '3400 S LA BREA AV', 34.02, -118.35), (200106179, datetime.date(2020, 2, 1), datetime.date(2020, 2, 1), 'Central', 220, 'ATTEMPTED ROBBERY', 59, 'M', 'SIDEWALK', 'IC', '900 W 41ST DR', 34.05, -118.25), (200106182, datetime.date(2020, 2, 1), datetime.date(2020, 2, 1), 'Central', 440, 'THEFT PLAIN - PETTY ($950 & UNDER)', 45, 'M', 'MISSIONS/SHELTERS', 'IC', '1500 W 37TH ST', 34.05, -118.24), (201109103, datetime.date(2020, 5, 7), datetime.date(2020, 5, 7), 'Northeast', 888, 'TRESPASSING', 60, 'M', 'SINGLE FAMILY DWELLING', 'IC', '700 W 27TH ST', 34.14, -118.2), (200106197, datetime.date(2020, 2, 1), datetime.date(2020, 2, 1), 'Central', 745, 'VANDALISM - MISDEAMEANOR ($399 OR UNDER)', 0, 'X', 'RESTAURANT/FAST FOOD', 'IC', '4000 S WESTERN AV', 34.04, -118.25), (200106198, datetime.date(2020, 2, 1), datetime.date(2020, 2, 1), 'Central', 624, 'BATTERY - SIMPLE ASSAULT', 52, 'F', 'OTHER BUSINESS', 'IC', '3200 W VERNON AV', 34.06, -118.24), (200507056, datetime.date(2020, 3, 11), datetime.date(2020, 3, 11), 'Harbor', 740, 'VANDALISM - FELONY ($400 & OVER, ALL CHURCH VANDALISMS)', 39, 'M', 'VEHICLE, PASSENGER/TRUCK', 'AO', '1400 W 37TH PL', 33.74, -118.29), (200106208, datetime.date(2020, 2, 1), datetime.date(2020, 2, 1), 'Central', 420, 'THEFT FROM MOTOR VEHICLE - PETTY ($950 & UNDER)', 0, '', 'STREET', 'IC', '1900 W 35TH PL', 34.06, -118.24), (200106209, datetime.date(2020, 2, 1), datetime.date(2020, 2, 1), 'Central', 442, 'SHOPLIFTING - PETTY THEFT ($950 & UNDER)', 35, 'M', 'DEPARTMENT STORE', 'IC', '9300 VAN NUYS BL', 34.05, -118.26), (200106210, datetime.date(2020, 2, 1), datetime.date(2020, 2, 1), 'Central', 230, 'ASSAULT WITH DEADLY WEAPON, AGGRAVATED ASSAULT', 40, 'M', 'ALLEY', 'IC', 'W 28TH ST', 34.05, -118.25), (200106217, datetime.date(2020, 2, 1), datetime.date(2020, 2, 1), 'Central', 625, 'OTHER ASSAULT', 62, 'M', 'MULTI-UNIT DWELLING (APARTMENT, DUPLEX, ETC)', 'IC', '3700 SANTA ROSALIA DR', 34.04, -118.25), (200106560, datetime.date(2020, 2, 5), datetime.date(2020, 2, 5), 'Central', 888, 'TRESPASSING', 0, 'X', 'BAR/COCKTAIL/NIGHTCLUB', 'IC', '4000 STEVELY AV', 34.05, -118.26), (200106220, datetime.date(2020, 2, 1), datetime.date(2020, 2, 1), 'Central', 230, 'ASSAULT WITH DEADLY WEAPON, AGGRAVATED ASSAULT', 29, 'M', 'STREET', 'IC', '3600 CRENSHAW BL', 34.06, -118.24), (200106221, datetime.date(2020, 2, 1), datetime.date(2020, 2, 1), 'Central', 440, 'THEFT PLAIN - PETTY ($950 & UNDER)', 44, 'M', 'SIDEWALK', 'IC', '1200 W 30TH ST', 34.06, -118.24), (200106222, datetime.date(2020, 2, 2), datetime.date(2020, 2, 1), 'Central', 330, 'BURGLARY FROM VEHICLE', 36, 'F', 'PARKING LOT', 'IC', '4000 CRENSHAW BL', 34.04, -118.26), (200106224, datetime.date(2020, 2, 2), datetime.date(2020, 2, 1), 'Central', 230, 'ASSAULT WITH DEADLY WEAPON, AGGRAVATED ASSAULT', 26, 'M', 'LA UNION STATION (NOT LINE SPECIFIC)', 'AA', '4100 S FIGUEROA ST', 34.06, -118.24), (200106225, datetime.date(2020, 2, 2), datetime.date(2020, 2, 1), 'Central', 624, 'BATTERY - SIMPLE ASSAULT', 45, 'M', 'NIGHT CLUB (OPEN EVENINGS ONLY)', 'IC', '4900 W ADAMS BL', 34.05, -118.26), (200106226, datetime.date(2020, 2, 2), datetime.date(2020, 2, 1), 'Central', 624, 'BATTERY - SIMPLE ASSAULT', 36, 'F', 'NIGHT CLUB (OPEN EVENINGS ONLY)', 'IC', '700 W WASHINGTON BL', 34.05, -118.26), (200106227, datetime.date(2020, 2, 2), datetime.date(2020, 2, 1), 'Central', 624, 'BATTERY - SIMPLE ASSAULT', 19, 'F', 'NIGHT CLUB (OPEN EVENINGS ONLY)', 'IC', '2700 S SYCAMORE AV', 34.05, -118.26), (200106228, datetime.date(2020, 2, 2), datetime.date(2020, 2, 1), 'Central', 624, 'BATTERY - SIMPLE ASSAULT', 17, 'F', 'NIGHT CLUB (OPEN EVENINGS ONLY)', 'IC', '2100 OAK ST', 34.05, -118.26), (200106229, datetime.date(2020, 2, 1), datetime.date(2020, 2, 1), 'Central', 330, 'BURGLARY FROM VEHICLE', 24, 'M', 'PARKING LOT', 'IC', '800 W ADAMS BL', 34.05, -118.25), (200106230, datetime.date(2020, 2, 2), datetime.date(2020, 2, 1), 'Central', 341, 'THEFT-GRAND ($950.01 & OVER)EXCPT,GUNS,FOWL,LIVESTK,PROD', 23, 'F', 'RESTAURANT/FAST FOOD', 'IC', '10900 WELLWORTH AV', 34.05, -118.26), (200106231, datetime.date(2020, 2, 2), datetime.date(2020, 2, 1), 'Central', 341, 'THEFT-GRAND ($950.01 & OVER)EXCPT,GUNS,FOWL,LIVESTK,PROD', 31, 'M', 'HOTEL', 'IC', '3500 S FLOWER ST', 34.04, -118.26), (200106232, datetime.date(2020, 2, 2), datetime.date(2020, 1, 12), 'Central', 354, 'THEFT OF IDENTITY', 27, 'M', 'OTHER PREMISE', 'IC', '2400 S VERMONT AV', 34.05, -118.26), (200106236, datetime.date(2020, 2, 2), datetime.date(2020, 2, 2), 'Central', 230, 'ASSAULT WITH DEADLY WEAPON, AGGRAVATED ASSAULT', 30, 'M', 'MUNICIPAL BUS LINE INCLUDES LADOT/DASH', 'IC', '1100 W 39TH PL', 34.05, -118.26), (200106237, datetime.date(2020, 2, 2), datetime.date(2020, 2, 1), 'Central', 330, 'BURGLARY FROM VEHICLE', 25, 'F', 'STREET', 'IC', '2300 W 48TH ST', 34.04, -118.27), (200106238, datetime.date(2020, 2, 2), datetime.date(2020, 2, 1), 'Central', 330, 'BURGLARY FROM VEHICLE', 25, 'F', 'PARKING LOT', 'IC', '4600 MARTIN LUTHER KING BL', 34.04, -118.25), (200106239, datetime.date(2020, 2, 2), datetime.date(2020, 2, 2), 'Central', 350, 'THEFT, PERSON', 22, 'F', 'NIGHT CLUB (OPEN EVENINGS ONLY)', 'IC', '2000 W MARTIN LUTHER KING JR BL', 34.04, -118.26), (200106242, datetime.date(2020, 2, 2), datetime.date(2020, 2, 2), 'Central', 624, 'BATTERY - SIMPLE ASSAULT', 23, 'M', 'STREET', 'IC', '17800 MARGATE ST', 34.05, -118.23), (200106245, datetime.date(2020, 2, 2), datetime.date(2020, 2, 1), 'Central', 440, 'THEFT PLAIN - PETTY ($950 & UNDER)', 0, 'M', 'STREET', 'IC', '5000 OBAMA BL', 34.05, -118.25), (200106246, datetime.date(2020, 2, 2), datetime.date(2020, 2, 1), 'Central', 440, 'THEFT PLAIN - PETTY ($950 & UNDER)', 27, 'M', 'MULTI-UNIT DWELLING (APARTMENT, DUPLEX, ETC)', 'IC', 'ADAMS BL', 34.04, -118.26), (200106253, datetime.date(2020, 2, 2), datetime.date(2020, 2, 1), 'Central', 510, 'VEHICLE - STOLEN', 0, 'F', 'STREET', 'IC', '3900 S BUDLONG AV', 34.04, -118.26), (200106257, datetime.date(2020, 2, 2), datetime.date(2020, 2, 2), 'Central', 442, 'SHOPLIFTING - PETTY THEFT ($950 & UNDER)', 35, 'M', 'OTHER STORE', 'IC', '02900 S LA BREA AV', 34.05, -118.26), (200106266, datetime.date(2020, 2, 2), datetime.date(2020, 2, 2), 'Central', 623, 'BATTERY POLICE (SIMPLE)', 40, 'M', 'SIDEWALK', 'AA', '2500 S FIGUEROA ST', 34.05, -118.25), (200106270, datetime.date(2020, 2, 2), datetime.date(2020, 2, 2), 'Central', 440, 'THEFT PLAIN - PETTY ($950 & UNDER)', 38, 'M', 'RESTAURANT/FAST FOOD', 'IC', '3600 WATT WY', 34.06, -118.23), (200812870, datetime.date(2020, 8, 11), datetime.date(2020, 8, 2), 'West LA', 745, 'VANDALISM - MISDEAMEANOR ($399 OR UNDER)', 22, 'F', 'SINGLE FAMILY DWELLING', 'IC', '3600 S SAINT ANDREWS PL', 34.05, -118.44), (201113281, datetime.date(2020, 9, 4), datetime.date(2020, 9, 2), 'Northeast', 310, 'BURGLARY', 37, 'F', 'GARAGE/CARPORT', 'IC', '3600 S SAINT ANDREWS PL', 34.09, -118.28), (200106283, datetime.date(2020, 2, 2), datetime.date(2020, 2, 1), 'Central', 330, 'BURGLARY FROM VEHICLE', 28, 'M', 'PARKING LOT', 'IC', '4300 BRIGHTON AV', 34.04, -118.26), (200106285, datetime.date(2020, 2, 2), datetime.date(2020, 2, 2), 'Central', 888, 'TRESPASSING', 0, 'F', 'MUSEUM', 'IC', '2400 W 48TH ST', 34.05, -118.25), (200106288, datetime.date(2020, 2, 2), datetime.date(2020, 2, 1), 'Central', 420, 'THEFT FROM MOTOR VEHICLE - PETTY ($950 & UNDER)', 0, 'F', 'PARKING LOT', 'IC', '2700 S FIGUEROA ST', 34.05, -118.23), (200106289, datetime.date(2020, 2, 2), datetime.date(2020, 2, 1), 'Central', 230, 'ASSAULT WITH DEADLY WEAPON, AGGRAVATED ASSAULT', 73, 'M', 'SIDEWALK', 'AA', '4800 7TH AV', 34.04, -118.26), (200106290, datetime.date(2020, 2, 2), datetime.date(2020, 2, 2), 'Central', 920, 'KIDNAPPING - GRAND ATTEMPT', 12, 'M', 'SIDEWALK', 'IC', '4100 PALMWOOD DR', 34.05, -118.24), (201226350, datetime.date(2020, 12, 5), datetime.date(2020, 12, 5), '77th Street', 230, 'ASSAULT WITH DEADLY WEAPON, AGGRAVATED ASSAULT', 30, 'M', 'STREET', 'AO', '600 W 42ND PL', 33.99, -118.31), (200106293, datetime.date(2020, 2, 2), datetime.date(2020, 2, 2), 'Central', 330, 'BURGLARY FROM VEHICLE', 24, 'M', 'STREET', 'IC', 'OBAMA BL', 34.04, -118.27), (200218546, datetime.date(2020, 12, 12), datetime.date(2020, 12, 11), 'Rampart', 745, 'VANDALISM - MISDEAMEANOR ($399 OR UNDER)', 42, 'M', 'VEHICLE, PASSENGER/TRUCK', 'AO', 'SANTA MONICA FY', 34.06, -118.26), (200106300, datetime.date(2020, 2, 2), datetime.date(2020, 2, 2), 'Central', 440, 'THEFT PLAIN - PETTY ($950 & UNDER)', 59, 'F', 'STREET', 'IC', '3500 S LA CIENEGA BL', 34.05, -118.25), (200106301, datetime.date(2020, 2, 2), datetime.date(2020, 2, 2), 'Central', 310, 'BURGLARY', 32, 'M', 'MULTI-UNIT DWELLING (APARTMENT, DUPLEX, ETC)', 'IC', '7TH AV', 34.06, -118.25), (200106305, datetime.date(2020, 2, 3), datetime.date(2020, 2, 3), 'Central', 350, 'THEFT, PERSON', 37, 'M', 'SIDEWALK', 'IC', '2700 RAYMOND AV', 34.04, -118.25), (200106308, datetime.date(2020, 2, 3), datetime.date(2020, 2, 2), 'Central', 624, 'BATTERY - SIMPLE ASSAULT', 33, 'M', 'MTA - RED LINE - CIVIC CENTER/GRAND PARK', 'IC', '2100 W 29TH PL', 34.05, -118.25), (200106309, datetime.date(2020, 2, 3), datetime.date(2020, 2, 2), 'Central', 745, 'VANDALISM - MISDEAMEANOR ($399 OR UNDER)', 25, 'M', 'VEHICLE, PASSENGER/TRUCK', 'IC', '3500 S LA CIENEGA BL', 34.05, -118.25), (200106375, datetime.date(2020, 2, 3), datetime.date(2020, 1, 3), 'Central', 624, 'BATTERY - SIMPLE ASSAULT', 53, 'F', 'OTHER BUSINESS', 'IC', '3400 EXPOSITION BL', 34.05, -118.26), (200106443, datetime.date(2020, 2, 5), datetime.date(2020, 2, 4), 'Central', 745, 'VANDALISM - MISDEAMEANOR ($399 OR UNDER)', 50, 'M', 'LIBRARY', 'IC', '4100 PALMWOOD DR', 34.05, -118.25), (200106445, datetime.date(2020, 2, 5), datetime.date(2020, 2, 4), 'Central', 210, 'ROBBERY', 61, 'F', 'SIDEWALK', 'IC', '1100 W 39TH ST', 34.04, -118.25), (200106312, datetime.date(2020, 2, 3), datetime.date(2020, 2, 3), 'Central', 624, 'BATTERY - SIMPLE ASSAULT', 26, 'M', 'STREET', 'IC', '2500 CLYDE AV', 34.05, -118.26), (200106318, datetime.date(2020, 2, 3), datetime.date(2020, 1, 7), 'Central', 330, 'BURGLARY FROM VEHICLE', 29, 'M', 'STREET', 'IC', '5400 GEER AV', 34.04, -118.26), (200106319, datetime.date(2020, 2, 1), datetime.date(2020, 2, 1), 'Central', 480, 'BIKE - STOLEN', 44, 'M', 'OTHER/OUTSIDE', 'IC', '5500 CARLIN ST', 34.04, -118.26), (200106320, datetime.date(2020, 2, 2), datetime.date(2020, 2, 2), 'Central', 440, 'THEFT PLAIN - PETTY ($950 & UNDER)', 18, 'M', 'RESTAURANT/FAST FOOD', 'IC', '900 W JEFFERSON BL', 34.05, -118.26), (200106321, datetime.date(2020, 2, 3), datetime.date(2020, 2, 2), 'Central', 745, 'VANDALISM - MISDEAMEANOR ($399 OR UNDER)', 0, 'M', 'HORSE RACING/SANTA ANITA PARK*', 'IC', '1100 W 28TH ST', 34.05, -118.24), (200106327, datetime.date(2020, 2, 3), datetime.date(2020, 2, 2), 'Central', 330, 'BURGLARY FROM VEHICLE', 24, 'M', 'PARKING UNDERGROUND/BUILDING', 'IC', '24100 GILMORE ST', 34.04, -118.26), (201813529, datetime.date(2020, 7, 5), datetime.date(2020, 7, 5), 'Southeast', 624, 'BATTERY - SIMPLE ASSAULT', 22, 'F', 'DRIVEWAY', 'AA', '5000 OBAMA BL', 33.96, -118.26), (200106330, datetime.date(2020, 2, 3), datetime.date(2020, 2, 3), 'Central', 624, 'BATTERY - SIMPLE ASSAULT', 27, 'F', 'MTA BUS', 'IC', '1200 W 37TH PL', 34.05, -118.25), (200106331, datetime.date(2020, 2, 3), datetime.date(2020, 2, 3), 'Central', 330, 'BURGLARY FROM VEHICLE', 29, 'F', 'STREET', 'IC', '4200 S HARVARD BL', 34.05, -118.23), (200106333, datetime.date(2020, 2, 3), datetime.date(2020, 2, 3), 'Central', 480, 'BIKE - STOLEN', 42, 'M', 'GOVERNMENT FACILITY (FEDERAL,STATE, COUNTY & CITY)', 'IC', '1600 W 38TH ST', 34.05, -118.24), (200106340, datetime.date(2020, 2, 3), datetime.date(2020, 2, 1), 'Central', 442, 'SHOPLIFTING - PETTY THEFT ($950 & UNDER)', 35, 'M', 'OTHER STORE', 'IC', '2800 W 42ND ST', 34.05, -118.26), (200106343, datetime.date(2020, 2, 3), datetime.date(2020, 2, 1), 'Central', 648, 'ARSON', 56, 'F', 'DRIVEWAY', 'IC', '3700 SANTA ROSALIA DR', 34.04, -118.25), (200106345, datetime.date(2020, 2, 3), datetime.date(2020, 2, 3), 'Central', 230, 'ASSAULT WITH DEADLY WEAPON, AGGRAVATED ASSAULT', 42, 'M', 'STREET', 'AA', 'BRONSON AV', 34.06, -118.24), (200106346, datetime.date(2020, 2, 3), datetime.date(2020, 2, 3), 'Central', 850, 'INDECENT EXPOSURE', 72, 'F', 'LIBRARY', 'IC', '5300 BLACKWELDER ST', 34.05, -118.25), (200106347, datetime.date(2020, 2, 3), datetime.date(2020, 2, 3), 'Central', 850, 'INDECENT EXPOSURE', 25, 'F', 'LIBRARY', 'IC', '2600 RAYMOND AV', 34.05, -118.25), (200106350, datetime.date(2020, 2, 3), datetime.date(2020, 2, 3), 'Central', 624, 'BATTERY - SIMPLE ASSAULT', 73, 'F', 'SIDEWALK', 'IC', 'VERNON AV', 34.04, -118.25), (200106356, datetime.date(2020, 2, 3), datetime.date(2020, 2, 3), 'Central', 745, 'VANDALISM - MISDEAMEANOR ($399 OR UNDER)', 49, 'M', 'OTHER STORE', 'IC', '37TH ST', 34.05, -118.24), (200711295, datetime.date(2020, 7, 6), datetime.date(2020, 7, 5), 'Wilshire', 510, 'VEHICLE - STOLEN', 0, '', 'STREET', 'IC', '1100 W 35TH ST', 34.09, -118.35), (201108111, datetime.date(2020, 4, 7), datetime.date(2020, 4, 7), 'Northeast', 624, 'BATTERY - SIMPLE ASSAULT', 70, 'F', 'SINGLE FAMILY DWELLING', 'AO', 'JEFFERSON BL', 34.13, -118.2), (200106377, datetime.date(2020, 2, 3), datetime.date(2020, 2, 2), 'Central', 624, 'BATTERY - SIMPLE ASSAULT', 22, 'M', 'NIGHT CLUB (OPEN EVENINGS ONLY)', 'IC', '3800 LOCKLAND DR', 34.05, -118.25), (200106381, datetime.date(2020, 2, 3), datetime.date(2020, 2, 3), 'Central', 666, 'BUNCO, ATTEMPT', 28, 'M', 'MULTI-UNIT DWELLING (APARTMENT, DUPLEX, ETC)', 'IC', '4100 S HOOVER ST', 34.05, -118.25), (200106382, datetime.date(2020, 2, 3), datetime.date(2020, 2, 2), 'Central', 330, 'BURGLARY FROM VEHICLE', 26, 'M', 'TRUCK, COMMERICAL', 'IC', '3000 ALSACE AV', 34.05, -118.25), (200106383, datetime.date(2020, 2, 3), datetime.date(2020, 2, 3), 'Central', 330, 'BURGLARY FROM VEHICLE', 23, 'M', 'PARKING LOT', 'IC', '29TH', 34.04, -118.26), (200106386, datetime.date(2020, 2, 4), datetime.date(2020, 2, 3), 'Central', 440, 'THEFT PLAIN - PETTY ($950 & UNDER)', 41, 'M', 'LA UNION STATION (NOT LINE SPECIFIC)', 'IC', '1000 BAY VIEW AV', 34.06, -118.23), (200106389, datetime.date(2020, 2, 3), datetime.date(2020, 2, 1), 'Central', 440, 'THEFT PLAIN - PETTY ($950 & UNDER)', 26, 'F', 'MULTI-UNIT DWELLING (APARTMENT, DUPLEX, ETC)', 'IC', '4500 MARTIN LUTHER KING JR BL', 34.05, -118.25), (200106395, datetime.date(2020, 2, 2), datetime.date(2020, 2, 1), 'Central', 330, 'BURGLARY FROM VEHICLE', 31, 'M', 'VEHICLE, PASSENGER/TRUCK', 'IC', '4000 WEST BL', 34.04, -118.26), (200106409, datetime.date(2020, 2, 4), datetime.date(2020, 1, 4), 'Central', 662, 'BUNCO, GRAND THEFT', 67, 'M', 'OTHER RESIDENCE', 'IC', '4000 CRENSHAW BL', 34.06, -118.24), (200106410, datetime.date(2020, 2, 4), datetime.date(2020, 2, 3), 'Central', 662, 'BUNCO, GRAND THEFT', 67, 'M', 'MULTI-UNIT DWELLING (APARTMENT, DUPLEX, ETC)', 'IC', '2300 W JEFFERSON BL', 34.06, -118.24), (200106412, datetime.date(2020, 2, 4), datetime.date(2020, 2, 3), 'Central', 341, 'THEFT-GRAND ($950.01 & OVER)EXCPT,GUNS,FOWL,LIVESTK,PROD', 41, 'M', 'HEALTH SPA/GYM', 'IC', '1600 W 35TH ST', 34.05, -118.26), (200106414, datetime.date(2020, 2, 4), datetime.date(2020, 2, 4), 'Central', 956, 'LETTERS, LEWD  -  TELEPHONE CALLS, LEWD', 28, 'F', 'OTHER RESIDENCE', 'IC', '700 W 30TH ST', 34.04, -118.25), (200106420, datetime.date(2020, 2, 4), datetime.date(2020, 2, 3), 'Central', 330, 'BURGLARY FROM VEHICLE', 51, 'F', 'STREET', 'IC', '5000 EXPOSITION BL', 34.04, -118.27), (200106425, datetime.date(2020, 2, 4), datetime.date(2020, 2, 4), 'Central', 623, 'BATTERY POLICE (SIMPLE)', 0, 'M', 'STREET', 'IC', '7300 SAUSALITO AV', 34.05, -118.23), (200505554, datetime.date(2020, 2, 7), datetime.date(2020, 2, 6), 'Harbor', 510, 'VEHICLE - STOLEN', 0, 'F', 'STREET', 'IC', '16100 VANOWEN ST', 33.75, -118.3), (200915605, datetime.date(2020, 10, 6), datetime.date(2020, 10, 6), 'Van Nuys', 354, 'THEFT OF IDENTITY', 33, 'M', 'PARKING LOT', 'IC', '400 N EVERGREEN AV', 34.16, -118.44), (200106479, datetime.date(2020, 2, 4), datetime.date(2020, 2, 3), 'Central', 330, 'BURGLARY FROM VEHICLE', 46, 'M', 'PARKING LOT', 'IC', '13400 TERRA BELLA ST', 34.05, -118.25), (200106427, datetime.date(2020, 2, 4), datetime.date(2020, 2, 4), 'Central', 624, 'BATTERY - SIMPLE ASSAULT', 52, 'M', 'SIDEWALK', 'IC', '19100 JOVAN ST', 34.04, -118.25), (200106446, datetime.date(2020, 2, 4), datetime.date(2020, 2, 4), 'Central', 420, 'THEFT FROM MOTOR VEHICLE - PETTY ($950 & UNDER)', 0, 'X', 'STREET', 'IC', '1900 SELBY AV', 34.05, -118.24), (200106448, datetime.date(2020, 2, 4), datetime.date(2020, 2, 4), 'Central', 351, 'PURSE SNATCHING', 56, 'F', 'SIDEWALK', 'IC', '100 W AVENUE 44', 34.06, -118.24), (200106449, datetime.date(2020, 2, 5), datetime.date(2020, 2, 5), 'Central', 888, 'TRESPASSING', 40, 'M', 'TUNNEL', 'IC', '5900 MONTEREY RD', 34.05, -118.25), (200106450, datetime.date(2020, 2, 4), datetime.date(2020, 2, 4), 'Central', 442, 'SHOPLIFTING - PETTY THEFT ($950 & UNDER)', 35, 'M', 'DEPARTMENT STORE', 'IC', '5600 W SUNSET BL', 34.05, -118.26), (200106452, datetime.date(2020, 2, 4), datetime.date(2020, 2, 4), 'Central', 310, 'BURGLARY', 57, 'F', 'JEWELRY STORE', 'IC', '1300 MIDVALE AV', 34.05, -118.25), (200106453, datetime.date(2020, 2, 4), datetime.date(2020, 2, 4), 'Central', 440, 'THEFT PLAIN - PETTY ($950 & UNDER)', 23, 'M', 'SIDEWALK', 'IC', 'EDGEMONT', 34.05, -118.26), (200513966, datetime.date(2020, 9, 8), datetime.date(2020, 9, 4), 'Harbor', 745, 'VANDALISM - MISDEAMEANOR ($399 OR UNDER)', 0, 'M', 'CHURCH/CHAPEL (CHANGED 03-03 FROM CHURCH/TEMPLE)', 'IC', '10700 WEYBURN AV', 33.74, -118.29), (200106460, datetime.date(2020, 2, 4), datetime.date(2020, 2, 4), 'Central', 440, 'THEFT PLAIN - PETTY ($950 & UNDER)', 31, 'F', 'CLOTHING STORE', 'IC', 'WILSHIRE', 34.05, -118.26), (200107002, datetime.date(2020, 2, 12), datetime.date(2020, 2, 11), 'Central', 330, 'BURGLARY FROM VEHICLE', 28, 'M', 'STREET', 'IC', '9900 SATICOY ST', 34.05, -118.25), (200106463, datetime.date(2020, 2, 4), datetime.date(2020, 2, 4), 'Central', 310, 'BURGLARY', 26, 'M', 'BAR/SPORTS BAR (OPEN DAY & NIGHT)', 'IC', '5900 SPELTHORNE LN', 34.06, -118.24), (200516175, datetime.date(2020, 11, 4), datetime.date(2020, 11, 4), 'Harbor', 510, 'VEHICLE - STOLEN', 0, 'F', 'PARKING LOT', 'IC', 'CHEROKEE', 33.8, -118.3), (200813946, datetime.date(2020, 9, 10), datetime.date(2020, 9, 8), 'West LA', 310, 'BURGLARY', 66, 'F', 'SINGLE FAMILY DWELLING', 'IC', '600 N SAN FERNANDO RD', 34.04, -118.4), (200106478, datetime.date(2020, 2, 3), datetime.date(2020, 2, 3), 'Central', 330, 'BURGLARY FROM VEHICLE', 39, 'M', 'PARKING LOT', 'IC', '2700 S GRAND AV', 34.05, -118.26), (200106480, datetime.date(2020, 2, 4), datetime.date(2020, 2, 3), 'Central', 330, 'BURGLARY FROM VEHICLE', 32, 'M', 'STREET', 'IC', '700 IMOGEN AV', 34.04, -118.25), (200106484, datetime.date(2020, 2, 5), datetime.date(2020, 2, 5), 'Central', 761, 'BRANDISH WEAPON', 63, 'M', 'SIDEWALK', 'IC', 'ROSALIND PL', 34.06, -118.24), (200106485, datetime.date(2020, 2, 5), datetime.date(2020, 2, 1), 'Central', 341, 'THEFT-GRAND ($950.01 & OVER)EXCPT,GUNS,FOWL,LIVESTK,PROD', 55, 'M', 'SIDEWALK', 'IC', 'GRAND AV', 34.04, -118.26), (200106488, datetime.date(2020, 2, 5), datetime.date(2020, 2, 5), 'Central', 510, 'VEHICLE - STOLEN', 0, 'M', 'STREET', 'IC', '10300 COMPTON AV', 34.07, -118.23), (200106492, datetime.date(2020, 2, 5), datetime.date(2020, 2, 4), 'Central', 330, 'BURGLARY FROM VEHICLE', 58, 'F', 'PARKING UNDERGROUND/BUILDING', 'IC', '1300 W C ST', 34.04, -118.26), (200106494, datetime.date(2020, 2, 5), datetime.date(2020, 2, 5), 'Central', 624, 'BATTERY - SIMPLE ASSAULT', 58, 'M', 'LAUNDROMAT', 'IC', '2900 W OLYMPIC BL', 34.04, -118.24), (200106495, datetime.date(2020, 2, 4), datetime.date(2020, 2, 4), 'Central', 343, 'SHOPLIFTING-GRAND THEFT ($950.01 & OVER)', 24, 'M', 'OTHER STORE', 'IC', '10900 SANTA MONICA BL', 34.05, -118.26), (200106500, datetime.date(2020, 2, 5), datetime.date(2020, 2, 5), 'Central', 624, 'BATTERY - SIMPLE ASSAULT', 25, 'F', 'SIDEWALK', 'IC', '5000 OBAMA BL', 34.04, -118.24), (200106501, datetime.date(2020, 2, 5), datetime.date(2020, 2, 4), 'Central', 310, 'BURGLARY', 61, 'M', 'MULTI-UNIT DWELLING (APARTMENT, DUPLEX, ETC)', 'IC', '3100 S FIGUEROA ST', 34.04, -118.25), (200106507, datetime.date(2020, 2, 5), datetime.date(2020, 2, 5), 'Central', 624, 'BATTERY - SIMPLE ASSAULT', 23, 'M', 'MULTI-UNIT DWELLING (APARTMENT, DUPLEX, ETC)', 'IC', '3900 URSULA AV', 34.04, -118.24), (200106514, datetime.date(2020, 2, 5), datetime.date(2020, 2, 5), 'Central', 230, 'ASSAULT WITH DEADLY WEAPON, AGGRAVATED ASSAULT', 45, 'M', 'STREET', 'IC', '4000 ABOURNE RD', 34.04, -118.25), (200705720, datetime.date(2020, 2, 5), datetime.date(2020, 2, 1), 'Wilshire', 341, 'THEFT-GRAND ($950.01 & OVER)EXCPT,GUNS,FOWL,LIVESTK,PROD', 0, 'M', 'OTHER BUSINESS', 'IC', '1000 W 34TH ST', 34.07, -118.37), (200106516, datetime.date(2020, 2, 5), datetime.date(2020, 2, 5), 'Central', 330, 'BURGLARY FROM VEHICLE', 33, 'M', 'STREET', 'IC', '126TH ST', 34.07, -118.24), (200106517, datetime.date(2020, 2, 5), datetime.date(2020, 2, 5), 'Central', 330, 'BURGLARY FROM VEHICLE', 78, 'F', 'GARAGE/CARPORT', 'IC', '400 S SOTO ST', 34.05, -118.26), (211104260, datetime.date(2021, 1, 8), datetime.date(2020, 12, 2), 'Northeast', 310, 'BURGLARY', 0, 'X', 'OFFICE BUILDING/OFFICE', 'AO', '700 STATE DR', 34.11, -118.24), (200106519, datetime.date(2020, 2, 5), datetime.date(2020, 2, 5), 'Central', 330, 'BURGLARY FROM VEHICLE', 24, 'F', 'STREET', 'IC', '3700 CARMONA AV', 34.05, -118.24), (200106520, datetime.date(2020, 2, 5), datetime.date(2020, 2, 5), 'Central', 624, 'BATTERY - SIMPLE ASSAULT', 43, 'M', 'MULTI-UNIT DWELLING (APARTMENT, DUPLEX, ETC)', 'IC', '5100 OBAMA BL', 34.05, -118.26), (200106526, datetime.date(2020, 2, 5), datetime.date(2020, 2, 5), 'Central', 442, 'SHOPLIFTING - PETTY THEFT ($950 & UNDER)', 35, 'M', 'DEPARTMENT STORE', 'IC', '4300 3RD AV', 34.05, -118.26), (200106527, datetime.date(2020, 2, 5), datetime.date(2020, 2, 4), 'Central', 480, 'BIKE - STOLEN', 27, 'M', 'STREET', 'IC', '4700 7TH AV', 34.05, -118.26), (200106531, datetime.date(2020, 2, 5), datetime.date(2020, 2, 5), 'Central', 624, 'BATTERY - SIMPLE ASSAULT', 49, 'M', 'OTHER STORE', 'IC', '3600 W MARTIN LUTHER KING JR BL', 34.05, -118.26), (200106534, datetime.date(2020, 2, 5), datetime.date(2020, 2, 5), 'Central', 888, 'TRESPASSING', 0, 'X', 'LA UNION STATION (NOT LINE SPECIFIC)', 'IC', '1600 W MARTIN LUTHER KING BL', 34.06, -118.24), (200106547, datetime.date(2020, 2, 5), datetime.date(2020, 2, 4), 'Central', 330, 'BURGLARY FROM VEHICLE', 62, 'M', 'PARKING LOT', 'IC', '4300 S FIGUEROA ST', 34.05, -118.26), (200106548, datetime.date(2020, 2, 6), datetime.date(2020, 2, 5), 'Central', 330, 'BURGLARY FROM VEHICLE', 35, 'M', 'ABANDONED BUILDING ABANDONED HOUSE', 'IC', 'BUCKINGHAM', 34.07, -118.23), (200709141, datetime.date(2020, 5, 11), datetime.date(2020, 5, 11), 'Wilshire', 440, 'THEFT PLAIN - PETTY ($950 & UNDER)', 48, 'M', 'PHARMACY INSIDE STORE OR SUPERMARKET*', 'IC', 'KENILWORTH AV', 34.08, -118.35), (200605994, datetime.date(2020, 2, 11), datetime.date(2020, 2, 10), 'Hollywood', 440, 'THEFT PLAIN - PETTY ($950 & UNDER)', 31, 'F', 'YARD (RESIDENTIAL/BUSINESS)', 'IC', '3900 S VAN NESS AV', 34.1, -118.3), (200106584, datetime.date(2020, 2, 6), datetime.date(2020, 2, 6), 'Central', 740, 'VANDALISM - FELONY ($400 & OVER, ALL CHURCH VANDALISMS)', 57, 'M', 'MTA PROPERTY OR PARKING LOT', 'IC', '1100 HARTZELL ST', 34.07, -118.23), (200106593, datetime.date(2020, 2, 6), datetime.date(2020, 2, 6), 'Central', 442, 'SHOPLIFTING - PETTY THEFT ($950 & UNDER)', 23, 'M', 'OTHER STORE', 'IC', '4100 S BUDLONG AV', 34.05, -118.26), (201105686, datetime.date(2020, 2, 8), datetime.date(2020, 2, 7), 'Northeast', 440, 'THEFT PLAIN - PETTY ($950 & UNDER)', 0, 'M', 'OTHER BUSINESS', 'IC', 'FIGUEROA ST', 34.14, -118.23), (200106598, datetime.date(2020, 2, 6), datetime.date(2020, 2, 6), 'Central', 442, 'SHOPLIFTING - PETTY THEFT ($950 & UNDER)', 0, 'X', 'DEPARTMENT STORE', 'IC', '1200 W 39TH ST', 34.05, -118.26), (200106599, datetime.date(2020, 2, 6), datetime.date(2020, 2, 6), 'Central', 442, 'SHOPLIFTING - PETTY THEFT ($950 & UNDER)', 0, 'X', 'DEPARTMENT STORE', 'IC', 'VERNON AV', 34.05, -118.26), (200106600, datetime.date(2020, 2, 6), datetime.date(2020, 2, 6), 'Central', 624, 'BATTERY - SIMPLE ASSAULT', 56, 'F', 'SIDEWALK', 'IC', '4200 S WESTERN AV', 34.04, -118.24), (200106604, datetime.date(2020, 2, 7), datetime.date(2020, 2, 6), 'Central', 888, 'TRESPASSING', 0, 'M', 'LA UNION STATION (NOT LINE SPECIFIC)', 'IC', '4000 SANTO TOMAS DR', 34.06, -118.24), (200106606, datetime.date(2020, 2, 7), datetime.date(2020, 2, 7), 'Central', 624, 'BATTERY - SIMPLE ASSAULT', 75, 'F', 'SIDEWALK', 'IC', '600 EXPOSITION BL', 34.04, -118.24), (200106608, datetime.date(2020, 2, 7), datetime.date(2020, 2, 7), 'Central', 510, 'VEHICLE - STOLEN', 0, 'M', 'STREET', 'IC', '1400 W 37TH DR', 34.05, -118.25), (200106614, datetime.date(2020, 2, 7), datetime.date(2020, 2, 7), 'Central', 624, 'BATTERY - SIMPLE ASSAULT', 33, 'M', 'SIDEWALK', 'IC', '2400 ELLENDALE PL', 34.05, -118.26), (200106615, datetime.date(2020, 2, 7), datetime.date(2020, 2, 7), 'Central', 624, 'BATTERY - SIMPLE ASSAULT', 25, 'M', 'SIDEWALK', 'IC', '39TH PL', 34.05, -118.26), (200106616, datetime.date(2020, 2, 7), datetime.date(2020, 2, 7), 'Central', 624, 'BATTERY - SIMPLE ASSAULT', 35, 'M', 'OTHER STORE', 'IC', '2500 W VERNON AV', 34.05, -118.25), (200106617, datetime.date(2020, 2, 7), datetime.date(2020, 1, 10), 'Central', 510, 'VEHICLE - STOLEN', 0, 'F', 'PARKING LOT', 'IC', '700 EXPOSITION BL', 34.05, -118.25), (200106618, datetime.date(2020, 2, 7), datetime.date(2020, 2, 3), 'Central', 745, 'VANDALISM - MISDEAMEANOR ($399 OR UNDER)', 72, 'M', 'VEHICLE, PASSENGER/TRUCK', 'IC', '2600 S FIGUEROA ST', 34.05, -118.24))\n"
     ]
    }
   ],
   "source": [
    "# Retriving data from Crime dataset using cursor method\n",
    "cur = conn.cursor()\n",
    "print(cur)\n",
    "query_1 = \"select * from crime_dataset\"\n",
    "print(query_1)\n",
    "cur.execute(query_1)\n",
    "all_data = cur.fetchall()\n",
    "print(all_data)\n"
   ]
  },
  {
   "cell_type": "code",
   "execution_count": 13,
   "id": "721554da-21aa-4cc2-9faf-d883947e65e1",
   "metadata": {},
   "outputs": [
    {
     "name": "stdout",
     "output_type": "stream",
     "text": [
      "<class 'pandas.core.frame.DataFrame'>\n",
      "RangeIndex: 499 entries, 0 to 498\n",
      "Data columns (total 13 columns):\n",
      " #   Column       Non-Null Count  Dtype  \n",
      "---  ------       --------------  -----  \n",
      " 0   DR_NO        499 non-null    int64  \n",
      " 1   Date_Rptd    499 non-null    object \n",
      " 2   DATE_OCC     499 non-null    object \n",
      " 3   AREA_NAME    499 non-null    object \n",
      " 4   Crm_Cd       499 non-null    int64  \n",
      " 5   Crm_Cd_Desc  499 non-null    object \n",
      " 6   Vict_Age     499 non-null    int64  \n",
      " 7   Vict_Sex     499 non-null    object \n",
      " 8   Premis_Desc  499 non-null    object \n",
      " 9   Status       499 non-null    object \n",
      " 10  Location     499 non-null    object \n",
      " 11  LAT          499 non-null    float64\n",
      " 12  LON          499 non-null    float64\n",
      "dtypes: float64(2), int64(3), object(8)\n",
      "memory usage: 50.8+ KB\n",
      "         DR_NO   Date_Rptd    DATE_OCC    AREA_NAME  Crm_Cd  \\\n",
      "0     10304468  2020-01-08  2020-01-08    Southwest     624   \n",
      "1    190101086  2020-01-02  2020-01-01      Central     624   \n",
      "2    191501505  2020-01-01  2020-01-01  N Hollywood     745   \n",
      "3    191921269  2020-01-01  2020-01-01      Mission     740   \n",
      "4    200100502  2020-01-02  2020-01-02      Central     442   \n",
      "..         ...         ...         ...          ...     ...   \n",
      "494  200106614  2020-02-07  2020-02-07      Central     624   \n",
      "495  200106615  2020-02-07  2020-02-07      Central     624   \n",
      "496  200106616  2020-02-07  2020-02-07      Central     624   \n",
      "497  200106617  2020-02-07  2020-01-10      Central     510   \n",
      "498  200106618  2020-02-07  2020-02-03      Central     745   \n",
      "\n",
      "                                           Crm_Cd_Desc  Vict_Age Vict_Sex  \\\n",
      "0                             BATTERY - SIMPLE ASSAULT        36        F   \n",
      "1                             BATTERY - SIMPLE ASSAULT        25        M   \n",
      "2             VANDALISM - MISDEAMEANOR ($399 OR UNDER)        76        F   \n",
      "3    VANDALISM - FELONY ($400 & OVER, ALL CHURCH VA...        31        X   \n",
      "4             SHOPLIFTING - PETTY THEFT ($950 & UNDER)        23        M   \n",
      "..                                                 ...       ...      ...   \n",
      "494                           BATTERY - SIMPLE ASSAULT        33        M   \n",
      "495                           BATTERY - SIMPLE ASSAULT        25        M   \n",
      "496                           BATTERY - SIMPLE ASSAULT        35        M   \n",
      "497                                   VEHICLE - STOLEN         0        F   \n",
      "498           VANDALISM - MISDEAMEANOR ($399 OR UNDER)        72        M   \n",
      "\n",
      "                                      Premis_Desc Status            Location  \\\n",
      "0                          SINGLE FAMILY DWELLING     AO      1100 W 39TH PL   \n",
      "1                                        SIDEWALK     IC       700 S HILL ST   \n",
      "2    MULTI-UNIT DWELLING (APARTMENT, DUPLEX, ETC)     IC     5400 CORTEEN PL   \n",
      "3                             BEAUTY SUPPLY STORE     IC      14400 TITUS ST   \n",
      "4                                DEPARTMENT STORE     IC   700 S FIGUEROA ST   \n",
      "..                                            ...    ...                 ...   \n",
      "494                                      SIDEWALK     IC   2400 ELLENDALE PL   \n",
      "495                                      SIDEWALK     IC             39TH PL   \n",
      "496                                   OTHER STORE     IC    2500 W VERNON AV   \n",
      "497                                   PARKING LOT     IC   700 EXPOSITION BL   \n",
      "498                      VEHICLE, PASSENGER/TRUCK     IC  2600 S FIGUEROA ST   \n",
      "\n",
      "       LAT     LON  \n",
      "0    34.01 -118.30  \n",
      "1    34.05 -118.25  \n",
      "2    34.17 -118.40  \n",
      "3    34.22 -118.45  \n",
      "4    34.05 -118.26  \n",
      "..     ...     ...  \n",
      "494  34.05 -118.26  \n",
      "495  34.05 -118.26  \n",
      "496  34.05 -118.25  \n",
      "497  34.05 -118.25  \n",
      "498  34.05 -118.24  \n",
      "\n",
      "[499 rows x 13 columns]\n"
     ]
    }
   ],
   "source": [
    "# Converting tuples data into Dataframe form like table using pandas\n",
    "import warnings\n",
    "warnings.filterwarnings(\"ignore\", category=UserWarning)\n",
    "warnings.filterwarnings(\"ignore\", \"use_inf_as_na\")\n",
    "\n",
    "mysql_queryry_df2 = pd.read_sql(\"select * from crime_dataset\",conn)\n",
    "mysql_queryry_df2.columns=[\"DR_NO\",\"Date_Rptd\",\"DATE_OCC\",\"AREA_NAME\",\"Crm_Cd\",\"Crm_Cd_Desc\",\"Vict_Age\",\n",
    "                           \"Vict_Sex\",\"Premis_Desc\",\"Status\",\"Location\",\"LAT\",\"LON\"]\n",
    "data=mysql_queryry_df2\n",
    "data.info()\n",
    "print(mysql_queryry_df2)\n"
   ]
  },
  {
   "cell_type": "code",
   "execution_count": 14,
   "id": "8745e22f-95ad-4c5a-bbbb-b8e201f2254c",
   "metadata": {},
   "outputs": [
    {
     "name": "stdout",
     "output_type": "stream",
     "text": [
      "   count(*)\n",
      "0       499\n",
      "   Count Status\n",
      "0     24     AO\n",
      "1    447     IC\n",
      "2     27     AA\n",
      "3      1     JO\n"
     ]
    }
   ],
   "source": [
    "# Retrieving basic statistics on the dataset,\n",
    "# such as the total number of records and unique values in specific columns.\n",
    "mysql_query_df = pd.read_sql(\"select count(*) from crime_dataset\",conn)\n",
    "print(mysql_query_df)\n",
    "mysql_query2_df = pd.read_sql(\"select count(Status) as Count,Status from crime_dataset group by Status;\",conn)\n",
    "print(mysql_query2_df)\n"
   ]
  },
  {
   "cell_type": "markdown",
   "id": "7b769478-985b-4923-b4fb-995703475fbf",
   "metadata": {},
   "source": [
    "##### Conclusion:Data can be retrieved after successful connection with database which is in MYSOL server.We can use Pandas module to read any sql query or using cursor method any required data from database can be fetched. "
   ]
  },
  {
   "cell_type": "markdown",
   "id": "a6a8197f-e9dc-46db-a7c3-bb2f1f71ebd5",
   "metadata": {},
   "source": [
    "### Temporal Analysis:"
   ]
  },
  {
   "cell_type": "code",
   "execution_count": 15,
   "id": "2ca41d98-3c9f-439a-bfa5-cfd082a512b6",
   "metadata": {
    "scrolled": true
   },
   "outputs": [
    {
     "data": {
      "application/vnd.plotly.v1+json": {
       "config": {
        "plotlyServerURL": "https://plot.ly"
       },
       "data": [
        {
         "hovertemplate": "Month=%{x}<br>No_of_crime=%{y}<extra></extra>",
         "legendgroup": "",
         "line": {
          "color": "#636efa",
          "dash": "solid"
         },
         "marker": {
          "symbol": "circle"
         },
         "mode": "lines+markers",
         "name": "",
         "orientation": "v",
         "showlegend": false,
         "type": "scatter",
         "x": [
          "January",
          "September",
          "December",
          "February",
          "November",
          "June",
          "March",
          "May",
          "July",
          "April",
          "October",
          "August"
         ],
         "xaxis": "x",
         "y": [
          314,
          5,
          12,
          130,
          8,
          6,
          4,
          5,
          3,
          5,
          4,
          3
         ],
         "yaxis": "y"
        }
       ],
       "layout": {
        "autosize": true,
        "dragmode": "zoom",
        "legend": {
         "tracegroupgap": 0
        },
        "template": {
         "data": {
          "bar": [
           {
            "error_x": {
             "color": "#2a3f5f"
            },
            "error_y": {
             "color": "#2a3f5f"
            },
            "marker": {
             "line": {
              "color": "#E5ECF6",
              "width": 0.5
             },
             "pattern": {
              "fillmode": "overlay",
              "size": 10,
              "solidity": 0.2
             }
            },
            "type": "bar"
           }
          ],
          "barpolar": [
           {
            "marker": {
             "line": {
              "color": "#E5ECF6",
              "width": 0.5
             },
             "pattern": {
              "fillmode": "overlay",
              "size": 10,
              "solidity": 0.2
             }
            },
            "type": "barpolar"
           }
          ],
          "carpet": [
           {
            "aaxis": {
             "endlinecolor": "#2a3f5f",
             "gridcolor": "white",
             "linecolor": "white",
             "minorgridcolor": "white",
             "startlinecolor": "#2a3f5f"
            },
            "baxis": {
             "endlinecolor": "#2a3f5f",
             "gridcolor": "white",
             "linecolor": "white",
             "minorgridcolor": "white",
             "startlinecolor": "#2a3f5f"
            },
            "type": "carpet"
           }
          ],
          "choropleth": [
           {
            "colorbar": {
             "outlinewidth": 0,
             "ticks": ""
            },
            "type": "choropleth"
           }
          ],
          "contour": [
           {
            "colorbar": {
             "outlinewidth": 0,
             "ticks": ""
            },
            "colorscale": [
             [
              0,
              "#0d0887"
             ],
             [
              0.1111111111111111,
              "#46039f"
             ],
             [
              0.2222222222222222,
              "#7201a8"
             ],
             [
              0.3333333333333333,
              "#9c179e"
             ],
             [
              0.4444444444444444,
              "#bd3786"
             ],
             [
              0.5555555555555556,
              "#d8576b"
             ],
             [
              0.6666666666666666,
              "#ed7953"
             ],
             [
              0.7777777777777778,
              "#fb9f3a"
             ],
             [
              0.8888888888888888,
              "#fdca26"
             ],
             [
              1,
              "#f0f921"
             ]
            ],
            "type": "contour"
           }
          ],
          "contourcarpet": [
           {
            "colorbar": {
             "outlinewidth": 0,
             "ticks": ""
            },
            "type": "contourcarpet"
           }
          ],
          "heatmap": [
           {
            "colorbar": {
             "outlinewidth": 0,
             "ticks": ""
            },
            "colorscale": [
             [
              0,
              "#0d0887"
             ],
             [
              0.1111111111111111,
              "#46039f"
             ],
             [
              0.2222222222222222,
              "#7201a8"
             ],
             [
              0.3333333333333333,
              "#9c179e"
             ],
             [
              0.4444444444444444,
              "#bd3786"
             ],
             [
              0.5555555555555556,
              "#d8576b"
             ],
             [
              0.6666666666666666,
              "#ed7953"
             ],
             [
              0.7777777777777778,
              "#fb9f3a"
             ],
             [
              0.8888888888888888,
              "#fdca26"
             ],
             [
              1,
              "#f0f921"
             ]
            ],
            "type": "heatmap"
           }
          ],
          "heatmapgl": [
           {
            "colorbar": {
             "outlinewidth": 0,
             "ticks": ""
            },
            "colorscale": [
             [
              0,
              "#0d0887"
             ],
             [
              0.1111111111111111,
              "#46039f"
             ],
             [
              0.2222222222222222,
              "#7201a8"
             ],
             [
              0.3333333333333333,
              "#9c179e"
             ],
             [
              0.4444444444444444,
              "#bd3786"
             ],
             [
              0.5555555555555556,
              "#d8576b"
             ],
             [
              0.6666666666666666,
              "#ed7953"
             ],
             [
              0.7777777777777778,
              "#fb9f3a"
             ],
             [
              0.8888888888888888,
              "#fdca26"
             ],
             [
              1,
              "#f0f921"
             ]
            ],
            "type": "heatmapgl"
           }
          ],
          "histogram": [
           {
            "marker": {
             "pattern": {
              "fillmode": "overlay",
              "size": 10,
              "solidity": 0.2
             }
            },
            "type": "histogram"
           }
          ],
          "histogram2d": [
           {
            "colorbar": {
             "outlinewidth": 0,
             "ticks": ""
            },
            "colorscale": [
             [
              0,
              "#0d0887"
             ],
             [
              0.1111111111111111,
              "#46039f"
             ],
             [
              0.2222222222222222,
              "#7201a8"
             ],
             [
              0.3333333333333333,
              "#9c179e"
             ],
             [
              0.4444444444444444,
              "#bd3786"
             ],
             [
              0.5555555555555556,
              "#d8576b"
             ],
             [
              0.6666666666666666,
              "#ed7953"
             ],
             [
              0.7777777777777778,
              "#fb9f3a"
             ],
             [
              0.8888888888888888,
              "#fdca26"
             ],
             [
              1,
              "#f0f921"
             ]
            ],
            "type": "histogram2d"
           }
          ],
          "histogram2dcontour": [
           {
            "colorbar": {
             "outlinewidth": 0,
             "ticks": ""
            },
            "colorscale": [
             [
              0,
              "#0d0887"
             ],
             [
              0.1111111111111111,
              "#46039f"
             ],
             [
              0.2222222222222222,
              "#7201a8"
             ],
             [
              0.3333333333333333,
              "#9c179e"
             ],
             [
              0.4444444444444444,
              "#bd3786"
             ],
             [
              0.5555555555555556,
              "#d8576b"
             ],
             [
              0.6666666666666666,
              "#ed7953"
             ],
             [
              0.7777777777777778,
              "#fb9f3a"
             ],
             [
              0.8888888888888888,
              "#fdca26"
             ],
             [
              1,
              "#f0f921"
             ]
            ],
            "type": "histogram2dcontour"
           }
          ],
          "mesh3d": [
           {
            "colorbar": {
             "outlinewidth": 0,
             "ticks": ""
            },
            "type": "mesh3d"
           }
          ],
          "parcoords": [
           {
            "line": {
             "colorbar": {
              "outlinewidth": 0,
              "ticks": ""
             }
            },
            "type": "parcoords"
           }
          ],
          "pie": [
           {
            "automargin": true,
            "type": "pie"
           }
          ],
          "scatter": [
           {
            "fillpattern": {
             "fillmode": "overlay",
             "size": 10,
             "solidity": 0.2
            },
            "type": "scatter"
           }
          ],
          "scatter3d": [
           {
            "line": {
             "colorbar": {
              "outlinewidth": 0,
              "ticks": ""
             }
            },
            "marker": {
             "colorbar": {
              "outlinewidth": 0,
              "ticks": ""
             }
            },
            "type": "scatter3d"
           }
          ],
          "scattercarpet": [
           {
            "marker": {
             "colorbar": {
              "outlinewidth": 0,
              "ticks": ""
             }
            },
            "type": "scattercarpet"
           }
          ],
          "scattergeo": [
           {
            "marker": {
             "colorbar": {
              "outlinewidth": 0,
              "ticks": ""
             }
            },
            "type": "scattergeo"
           }
          ],
          "scattergl": [
           {
            "marker": {
             "colorbar": {
              "outlinewidth": 0,
              "ticks": ""
             }
            },
            "type": "scattergl"
           }
          ],
          "scattermapbox": [
           {
            "marker": {
             "colorbar": {
              "outlinewidth": 0,
              "ticks": ""
             }
            },
            "type": "scattermapbox"
           }
          ],
          "scatterpolar": [
           {
            "marker": {
             "colorbar": {
              "outlinewidth": 0,
              "ticks": ""
             }
            },
            "type": "scatterpolar"
           }
          ],
          "scatterpolargl": [
           {
            "marker": {
             "colorbar": {
              "outlinewidth": 0,
              "ticks": ""
             }
            },
            "type": "scatterpolargl"
           }
          ],
          "scatterternary": [
           {
            "marker": {
             "colorbar": {
              "outlinewidth": 0,
              "ticks": ""
             }
            },
            "type": "scatterternary"
           }
          ],
          "surface": [
           {
            "colorbar": {
             "outlinewidth": 0,
             "ticks": ""
            },
            "colorscale": [
             [
              0,
              "#0d0887"
             ],
             [
              0.1111111111111111,
              "#46039f"
             ],
             [
              0.2222222222222222,
              "#7201a8"
             ],
             [
              0.3333333333333333,
              "#9c179e"
             ],
             [
              0.4444444444444444,
              "#bd3786"
             ],
             [
              0.5555555555555556,
              "#d8576b"
             ],
             [
              0.6666666666666666,
              "#ed7953"
             ],
             [
              0.7777777777777778,
              "#fb9f3a"
             ],
             [
              0.8888888888888888,
              "#fdca26"
             ],
             [
              1,
              "#f0f921"
             ]
            ],
            "type": "surface"
           }
          ],
          "table": [
           {
            "cells": {
             "fill": {
              "color": "#EBF0F8"
             },
             "line": {
              "color": "white"
             }
            },
            "header": {
             "fill": {
              "color": "#C8D4E3"
             },
             "line": {
              "color": "white"
             }
            },
            "type": "table"
           }
          ]
         },
         "layout": {
          "annotationdefaults": {
           "arrowcolor": "#2a3f5f",
           "arrowhead": 0,
           "arrowwidth": 1
          },
          "autotypenumbers": "strict",
          "coloraxis": {
           "colorbar": {
            "outlinewidth": 0,
            "ticks": ""
           }
          },
          "colorscale": {
           "diverging": [
            [
             0,
             "#8e0152"
            ],
            [
             0.1,
             "#c51b7d"
            ],
            [
             0.2,
             "#de77ae"
            ],
            [
             0.3,
             "#f1b6da"
            ],
            [
             0.4,
             "#fde0ef"
            ],
            [
             0.5,
             "#f7f7f7"
            ],
            [
             0.6,
             "#e6f5d0"
            ],
            [
             0.7,
             "#b8e186"
            ],
            [
             0.8,
             "#7fbc41"
            ],
            [
             0.9,
             "#4d9221"
            ],
            [
             1,
             "#276419"
            ]
           ],
           "sequential": [
            [
             0,
             "#0d0887"
            ],
            [
             0.1111111111111111,
             "#46039f"
            ],
            [
             0.2222222222222222,
             "#7201a8"
            ],
            [
             0.3333333333333333,
             "#9c179e"
            ],
            [
             0.4444444444444444,
             "#bd3786"
            ],
            [
             0.5555555555555556,
             "#d8576b"
            ],
            [
             0.6666666666666666,
             "#ed7953"
            ],
            [
             0.7777777777777778,
             "#fb9f3a"
            ],
            [
             0.8888888888888888,
             "#fdca26"
            ],
            [
             1,
             "#f0f921"
            ]
           ],
           "sequentialminus": [
            [
             0,
             "#0d0887"
            ],
            [
             0.1111111111111111,
             "#46039f"
            ],
            [
             0.2222222222222222,
             "#7201a8"
            ],
            [
             0.3333333333333333,
             "#9c179e"
            ],
            [
             0.4444444444444444,
             "#bd3786"
            ],
            [
             0.5555555555555556,
             "#d8576b"
            ],
            [
             0.6666666666666666,
             "#ed7953"
            ],
            [
             0.7777777777777778,
             "#fb9f3a"
            ],
            [
             0.8888888888888888,
             "#fdca26"
            ],
            [
             1,
             "#f0f921"
            ]
           ]
          },
          "colorway": [
           "#636efa",
           "#EF553B",
           "#00cc96",
           "#ab63fa",
           "#FFA15A",
           "#19d3f3",
           "#FF6692",
           "#B6E880",
           "#FF97FF",
           "#FECB52"
          ],
          "font": {
           "color": "#2a3f5f"
          },
          "geo": {
           "bgcolor": "white",
           "lakecolor": "white",
           "landcolor": "#E5ECF6",
           "showlakes": true,
           "showland": true,
           "subunitcolor": "white"
          },
          "hoverlabel": {
           "align": "left"
          },
          "hovermode": "closest",
          "mapbox": {
           "style": "light"
          },
          "paper_bgcolor": "white",
          "plot_bgcolor": "#E5ECF6",
          "polar": {
           "angularaxis": {
            "gridcolor": "white",
            "linecolor": "white",
            "ticks": ""
           },
           "bgcolor": "#E5ECF6",
           "radialaxis": {
            "gridcolor": "white",
            "linecolor": "white",
            "ticks": ""
           }
          },
          "scene": {
           "xaxis": {
            "backgroundcolor": "#E5ECF6",
            "gridcolor": "white",
            "gridwidth": 2,
            "linecolor": "white",
            "showbackground": true,
            "ticks": "",
            "zerolinecolor": "white"
           },
           "yaxis": {
            "backgroundcolor": "#E5ECF6",
            "gridcolor": "white",
            "gridwidth": 2,
            "linecolor": "white",
            "showbackground": true,
            "ticks": "",
            "zerolinecolor": "white"
           },
           "zaxis": {
            "backgroundcolor": "#E5ECF6",
            "gridcolor": "white",
            "gridwidth": 2,
            "linecolor": "white",
            "showbackground": true,
            "ticks": "",
            "zerolinecolor": "white"
           }
          },
          "shapedefaults": {
           "line": {
            "color": "#2a3f5f"
           }
          },
          "ternary": {
           "aaxis": {
            "gridcolor": "white",
            "linecolor": "white",
            "ticks": ""
           },
           "baxis": {
            "gridcolor": "white",
            "linecolor": "white",
            "ticks": ""
           },
           "bgcolor": "#E5ECF6",
           "caxis": {
            "gridcolor": "white",
            "linecolor": "white",
            "ticks": ""
           }
          },
          "title": {
           "x": 0.05
          },
          "xaxis": {
           "automargin": true,
           "gridcolor": "white",
           "linecolor": "white",
           "ticks": "",
           "title": {
            "standoff": 15
           },
           "zerolinecolor": "white",
           "zerolinewidth": 2
          },
          "yaxis": {
           "automargin": true,
           "gridcolor": "white",
           "linecolor": "white",
           "ticks": "",
           "title": {
            "standoff": 15
           },
           "zerolinecolor": "white",
           "zerolinewidth": 2
          }
         }
        },
        "title": {
         "text": "Month wise trends in Crime over time"
        },
        "xaxis": {
         "anchor": "y",
         "autorange": false,
         "domain": [
          0,
          1
         ],
         "range": [
          -0.6665457184325101,
          11.66654571843251
         ],
         "title": {
          "text": "Month"
         },
         "type": "category"
        },
        "yaxis": {
         "anchor": "x",
         "autorange": false,
         "domain": [
          0,
          1
         ],
         "range": [
          -22.665048543689267,
          339.6650485436892
         ],
         "title": {
          "text": "No_of_crime"
         },
         "type": "linear"
        }
       }
      },
      "image/png": "[encoded data removed]",
      "text/html": [
       "<div>                            <div id=\"bf4264b8-3b23-460b-85f1-15e187d1b0ef\" class=\"plotly-graph-div\" style=\"height:525px; width:100%;\"></div>            <script type=\"text/javascript\">                require([\"plotly\"], function(Plotly) {                    window.PLOTLYENV=window.PLOTLYENV || {};                                    if (document.getElementById(\"bf4264b8-3b23-460b-85f1-15e187d1b0ef\")) {                    Plotly.newPlot(                        \"bf4264b8-3b23-460b-85f1-15e187d1b0ef\",                        [{\"hovertemplate\":\"Month=%{x}<br>No_of_crime=%{y}<extra></extra>\",\"legendgroup\":\"\",\"line\":{\"color\":\"#636efa\",\"dash\":\"solid\"},\"marker\":{\"symbol\":\"circle\"},\"mode\":\"lines+markers\",\"name\":\"\",\"orientation\":\"v\",\"showlegend\":false,\"x\":[\"January\",\"September\",\"December\",\"February\",\"November\",\"June\",\"March\",\"May\",\"July\",\"April\",\"October\",\"August\"],\"xaxis\":\"x\",\"y\":[314,5,12,130,8,6,4,5,3,5,4,3],\"yaxis\":\"y\",\"type\":\"scatter\"}],                        {\"template\":{\"data\":{\"histogram2dcontour\":[{\"type\":\"histogram2dcontour\",\"colorbar\":{\"outlinewidth\":0,\"ticks\":\"\"},\"colorscale\":[[0.0,\"#0d0887\"],[0.1111111111111111,\"#46039f\"],[0.2222222222222222,\"#7201a8\"],[0.3333333333333333,\"#9c179e\"],[0.4444444444444444,\"#bd3786\"],[0.5555555555555556,\"#d8576b\"],[0.6666666666666666,\"#ed7953\"],[0.7777777777777778,\"#fb9f3a\"],[0.8888888888888888,\"#fdca26\"],[1.0,\"#f0f921\"]]}],\"choropleth\":[{\"type\":\"choropleth\",\"colorbar\":{\"outlinewidth\":0,\"ticks\":\"\"}}],\"histogram2d\":[{\"type\":\"histogram2d\",\"colorbar\":{\"outlinewidth\":0,\"ticks\":\"\"},\"colorscale\":[[0.0,\"#0d0887\"],[0.1111111111111111,\"#46039f\"],[0.2222222222222222,\"#7201a8\"],[0.3333333333333333,\"#9c179e\"],[0.4444444444444444,\"#bd3786\"],[0.5555555555555556,\"#d8576b\"],[0.6666666666666666,\"#ed7953\"],[0.7777777777777778,\"#fb9f3a\"],[0.8888888888888888,\"#fdca26\"],[1.0,\"#f0f921\"]]}],\"heatmap\":[{\"type\":\"heatmap\",\"colorbar\":{\"outlinewidth\":0,\"ticks\":\"\"},\"colorscale\":[[0.0,\"#0d0887\"],[0.1111111111111111,\"#46039f\"],[0.2222222222222222,\"#7201a8\"],[0.3333333333333333,\"#9c179e\"],[0.4444444444444444,\"#bd3786\"],[0.5555555555555556,\"#d8576b\"],[0.6666666666666666,\"#ed7953\"],[0.7777777777777778,\"#fb9f3a\"],[0.8888888888888888,\"#fdca26\"],[1.0,\"#f0f921\"]]}],\"heatmapgl\":[{\"type\":\"heatmapgl\",\"colorbar\":{\"outlinewidth\":0,\"ticks\":\"\"},\"colorscale\":[[0.0,\"#0d0887\"],[0.1111111111111111,\"#46039f\"],[0.2222222222222222,\"#7201a8\"],[0.3333333333333333,\"#9c179e\"],[0.4444444444444444,\"#bd3786\"],[0.5555555555555556,\"#d8576b\"],[0.6666666666666666,\"#ed7953\"],[0.7777777777777778,\"#fb9f3a\"],[0.8888888888888888,\"#fdca26\"],[1.0,\"#f0f921\"]]}],\"contourcarpet\":[{\"type\":\"contourcarpet\",\"colorbar\":{\"outlinewidth\":0,\"ticks\":\"\"}}],\"contour\":[{\"type\":\"contour\",\"colorbar\":{\"outlinewidth\":0,\"ticks\":\"\"},\"colorscale\":[[0.0,\"#0d0887\"],[0.1111111111111111,\"#46039f\"],[0.2222222222222222,\"#7201a8\"],[0.3333333333333333,\"#9c179e\"],[0.4444444444444444,\"#bd3786\"],[0.5555555555555556,\"#d8576b\"],[0.6666666666666666,\"#ed7953\"],[0.7777777777777778,\"#fb9f3a\"],[0.8888888888888888,\"#fdca26\"],[1.0,\"#f0f921\"]]}],\"surface\":[{\"type\":\"surface\",\"colorbar\":{\"outlinewidth\":0,\"ticks\":\"\"},\"colorscale\":[[0.0,\"#0d0887\"],[0.1111111111111111,\"#46039f\"],[0.2222222222222222,\"#7201a8\"],[0.3333333333333333,\"#9c179e\"],[0.4444444444444444,\"#bd3786\"],[0.5555555555555556,\"#d8576b\"],[0.6666666666666666,\"#ed7953\"],[0.7777777777777778,\"#fb9f3a\"],[0.8888888888888888,\"#fdca26\"],[1.0,\"#f0f921\"]]}],\"mesh3d\":[{\"type\":\"mesh3d\",\"colorbar\":{\"outlinewidth\":0,\"ticks\":\"\"}}],\"scatter\":[{\"fillpattern\":{\"fillmode\":\"overlay\",\"size\":10,\"solidity\":0.2},\"type\":\"scatter\"}],\"parcoords\":[{\"type\":\"parcoords\",\"line\":{\"colorbar\":{\"outlinewidth\":0,\"ticks\":\"\"}}}],\"scatterpolargl\":[{\"type\":\"scatterpolargl\",\"marker\":{\"colorbar\":{\"outlinewidth\":0,\"ticks\":\"\"}}}],\"bar\":[{\"error_x\":{\"color\":\"#2a3f5f\"},\"error_y\":{\"color\":\"#2a3f5f\"},\"marker\":{\"line\":{\"color\":\"#E5ECF6\",\"width\":0.5},\"pattern\":{\"fillmode\":\"overlay\",\"size\":10,\"solidity\":0.2}},\"type\":\"bar\"}],\"scattergeo\":[{\"type\":\"scattergeo\",\"marker\":{\"colorbar\":{\"outlinewidth\":0,\"ticks\":\"\"}}}],\"scatterpolar\":[{\"type\":\"scatterpolar\",\"marker\":{\"colorbar\":{\"outlinewidth\":0,\"ticks\":\"\"}}}],\"histogram\":[{\"marker\":{\"pattern\":{\"fillmode\":\"overlay\",\"size\":10,\"solidity\":0.2}},\"type\":\"histogram\"}],\"scattergl\":[{\"type\":\"scattergl\",\"marker\":{\"colorbar\":{\"outlinewidth\":0,\"ticks\":\"\"}}}],\"scatter3d\":[{\"type\":\"scatter3d\",\"line\":{\"colorbar\":{\"outlinewidth\":0,\"ticks\":\"\"}},\"marker\":{\"colorbar\":{\"outlinewidth\":0,\"ticks\":\"\"}}}],\"scattermapbox\":[{\"type\":\"scattermapbox\",\"marker\":{\"colorbar\":{\"outlinewidth\":0,\"ticks\":\"\"}}}],\"scatterternary\":[{\"type\":\"scatterternary\",\"marker\":{\"colorbar\":{\"outlinewidth\":0,\"ticks\":\"\"}}}],\"scattercarpet\":[{\"type\":\"scattercarpet\",\"marker\":{\"colorbar\":{\"outlinewidth\":0,\"ticks\":\"\"}}}],\"carpet\":[{\"aaxis\":{\"endlinecolor\":\"#2a3f5f\",\"gridcolor\":\"white\",\"linecolor\":\"white\",\"minorgridcolor\":\"white\",\"startlinecolor\":\"#2a3f5f\"},\"baxis\":{\"endlinecolor\":\"#2a3f5f\",\"gridcolor\":\"white\",\"linecolor\":\"white\",\"minorgridcolor\":\"white\",\"startlinecolor\":\"#2a3f5f\"},\"type\":\"carpet\"}],\"table\":[{\"cells\":{\"fill\":{\"color\":\"#EBF0F8\"},\"line\":{\"color\":\"white\"}},\"header\":{\"fill\":{\"color\":\"#C8D4E3\"},\"line\":{\"color\":\"white\"}},\"type\":\"table\"}],\"barpolar\":[{\"marker\":{\"line\":{\"color\":\"#E5ECF6\",\"width\":0.5},\"pattern\":{\"fillmode\":\"overlay\",\"size\":10,\"solidity\":0.2}},\"type\":\"barpolar\"}],\"pie\":[{\"automargin\":true,\"type\":\"pie\"}]},\"layout\":{\"autotypenumbers\":\"strict\",\"colorway\":[\"#636efa\",\"#EF553B\",\"#00cc96\",\"#ab63fa\",\"#FFA15A\",\"#19d3f3\",\"#FF6692\",\"#B6E880\",\"#FF97FF\",\"#FECB52\"],\"font\":{\"color\":\"#2a3f5f\"},\"hovermode\":\"closest\",\"hoverlabel\":{\"align\":\"left\"},\"paper_bgcolor\":\"white\",\"plot_bgcolor\":\"#E5ECF6\",\"polar\":{\"bgcolor\":\"#E5ECF6\",\"angularaxis\":{\"gridcolor\":\"white\",\"linecolor\":\"white\",\"ticks\":\"\"},\"radialaxis\":{\"gridcolor\":\"white\",\"linecolor\":\"white\",\"ticks\":\"\"}},\"ternary\":{\"bgcolor\":\"#E5ECF6\",\"aaxis\":{\"gridcolor\":\"white\",\"linecolor\":\"white\",\"ticks\":\"\"},\"baxis\":{\"gridcolor\":\"white\",\"linecolor\":\"white\",\"ticks\":\"\"},\"caxis\":{\"gridcolor\":\"white\",\"linecolor\":\"white\",\"ticks\":\"\"}},\"coloraxis\":{\"colorbar\":{\"outlinewidth\":0,\"ticks\":\"\"}},\"colorscale\":{\"sequential\":[[0.0,\"#0d0887\"],[0.1111111111111111,\"#46039f\"],[0.2222222222222222,\"#7201a8\"],[0.3333333333333333,\"#9c179e\"],[0.4444444444444444,\"#bd3786\"],[0.5555555555555556,\"#d8576b\"],[0.6666666666666666,\"#ed7953\"],[0.7777777777777778,\"#fb9f3a\"],[0.8888888888888888,\"#fdca26\"],[1.0,\"#f0f921\"]],\"sequentialminus\":[[0.0,\"#0d0887\"],[0.1111111111111111,\"#46039f\"],[0.2222222222222222,\"#7201a8\"],[0.3333333333333333,\"#9c179e\"],[0.4444444444444444,\"#bd3786\"],[0.5555555555555556,\"#d8576b\"],[0.6666666666666666,\"#ed7953\"],[0.7777777777777778,\"#fb9f3a\"],[0.8888888888888888,\"#fdca26\"],[1.0,\"#f0f921\"]],\"diverging\":[[0,\"#8e0152\"],[0.1,\"#c51b7d\"],[0.2,\"#de77ae\"],[0.3,\"#f1b6da\"],[0.4,\"#fde0ef\"],[0.5,\"#f7f7f7\"],[0.6,\"#e6f5d0\"],[0.7,\"#b8e186\"],[0.8,\"#7fbc41\"],[0.9,\"#4d9221\"],[1,\"#276419\"]]},\"xaxis\":{\"gridcolor\":\"white\",\"linecolor\":\"white\",\"ticks\":\"\",\"title\":{\"standoff\":15},\"zerolinecolor\":\"white\",\"automargin\":true,\"zerolinewidth\":2},\"yaxis\":{\"gridcolor\":\"white\",\"linecolor\":\"white\",\"ticks\":\"\",\"title\":{\"standoff\":15},\"zerolinecolor\":\"white\",\"automargin\":true,\"zerolinewidth\":2},\"scene\":{\"xaxis\":{\"backgroundcolor\":\"#E5ECF6\",\"gridcolor\":\"white\",\"linecolor\":\"white\",\"showbackground\":true,\"ticks\":\"\",\"zerolinecolor\":\"white\",\"gridwidth\":2},\"yaxis\":{\"backgroundcolor\":\"#E5ECF6\",\"gridcolor\":\"white\",\"linecolor\":\"white\",\"showbackground\":true,\"ticks\":\"\",\"zerolinecolor\":\"white\",\"gridwidth\":2},\"zaxis\":{\"backgroundcolor\":\"#E5ECF6\",\"gridcolor\":\"white\",\"linecolor\":\"white\",\"showbackground\":true,\"ticks\":\"\",\"zerolinecolor\":\"white\",\"gridwidth\":2}},\"shapedefaults\":{\"line\":{\"color\":\"#2a3f5f\"}},\"annotationdefaults\":{\"arrowcolor\":\"#2a3f5f\",\"arrowhead\":0,\"arrowwidth\":1},\"geo\":{\"bgcolor\":\"white\",\"landcolor\":\"#E5ECF6\",\"subunitcolor\":\"white\",\"showland\":true,\"showlakes\":true,\"lakecolor\":\"white\"},\"title\":{\"x\":0.05},\"mapbox\":{\"style\":\"light\"}}},\"xaxis\":{\"anchor\":\"y\",\"domain\":[0.0,1.0],\"title\":{\"text\":\"Month\"}},\"yaxis\":{\"anchor\":\"x\",\"domain\":[0.0,1.0],\"title\":{\"text\":\"No_of_crime\"}},\"legend\":{\"tracegroupgap\":0},\"title\":{\"text\":\"Month wise trends in Crime over time\"}},                        {\"responsive\": true}                    ).then(function(){\n",
       "                            \n",
       "var gd = document.getElementById('bf4264b8-3b23-460b-85f1-15e187d1b0ef');\n",
       "var x = new MutationObserver(function (mutations, observer) {{\n",
       "        var display = window.getComputedStyle(gd).display;\n",
       "        if (!display || display === 'none') {{\n",
       "            console.log([gd, 'removed!']);\n",
       "            Plotly.purge(gd);\n",
       "            observer.disconnect();\n",
       "        }}\n",
       "}});\n",
       "\n",
       "// Listen for the removal of the full notebook cells\n",
       "var notebookContainer = gd.closest('#notebook-container');\n",
       "if (notebookContainer) {{\n",
       "    x.observe(notebookContainer, {childList: true});\n",
       "}}\n",
       "\n",
       "// Listen for the clearing of the current output cell\n",
       "var outputEl = gd.closest('.output');\n",
       "if (outputEl) {{\n",
       "    x.observe(outputEl, {childList: true});\n",
       "}}\n",
       "\n",
       "                        })                };                });            </script>        </div>"
      ]
     },
     "metadata": {},
     "output_type": "display_data"
    },
    {
     "data": {
      "application/vnd.plotly.v1+json": {
       "config": {
        "plotlyServerURL": "https://plot.ly"
       },
       "data": [
        {
         "hovertemplate": "Day=%{x}<br>No_of_crime=%{y}<extra></extra>",
         "legendgroup": "",
         "line": {
          "color": "#636efa",
          "dash": "solid"
         },
         "marker": {
          "symbol": "circle"
         },
         "mode": "lines+markers",
         "name": "",
         "orientation": "v",
         "showlegend": false,
         "type": "scatter",
         "x": [
          "Wednesday",
          "Thursday",
          "Saturday",
          "Sunday",
          "Tuesday",
          "Friday",
          "Monday"
         ],
         "xaxis": "x",
         "y": [
          86,
          60,
          113,
          69,
          48,
          62,
          61
         ],
         "yaxis": "y"
        }
       ],
       "layout": {
        "autosize": true,
        "legend": {
         "tracegroupgap": 0
        },
        "template": {
         "data": {
          "bar": [
           {
            "error_x": {
             "color": "#2a3f5f"
            },
            "error_y": {
             "color": "#2a3f5f"
            },
            "marker": {
             "line": {
              "color": "#E5ECF6",
              "width": 0.5
             },
             "pattern": {
              "fillmode": "overlay",
              "size": 10,
              "solidity": 0.2
             }
            },
            "type": "bar"
           }
          ],
          "barpolar": [
           {
            "marker": {
             "line": {
              "color": "#E5ECF6",
              "width": 0.5
             },
             "pattern": {
              "fillmode": "overlay",
              "size": 10,
              "solidity": 0.2
             }
            },
            "type": "barpolar"
           }
          ],
          "carpet": [
           {
            "aaxis": {
             "endlinecolor": "#2a3f5f",
             "gridcolor": "white",
             "linecolor": "white",
             "minorgridcolor": "white",
             "startlinecolor": "#2a3f5f"
            },
            "baxis": {
             "endlinecolor": "#2a3f5f",
             "gridcolor": "white",
             "linecolor": "white",
             "minorgridcolor": "white",
             "startlinecolor": "#2a3f5f"
            },
            "type": "carpet"
           }
          ],
          "choropleth": [
           {
            "colorbar": {
             "outlinewidth": 0,
             "ticks": ""
            },
            "type": "choropleth"
           }
          ],
          "contour": [
           {
            "colorbar": {
             "outlinewidth": 0,
             "ticks": ""
            },
            "colorscale": [
             [
              0,
              "#0d0887"
             ],
             [
              0.1111111111111111,
              "#46039f"
             ],
             [
              0.2222222222222222,
              "#7201a8"
             ],
             [
              0.3333333333333333,
              "#9c179e"
             ],
             [
              0.4444444444444444,
              "#bd3786"
             ],
             [
              0.5555555555555556,
              "#d8576b"
             ],
             [
              0.6666666666666666,
              "#ed7953"
             ],
             [
              0.7777777777777778,
              "#fb9f3a"
             ],
             [
              0.8888888888888888,
              "#fdca26"
             ],
             [
              1,
              "#f0f921"
             ]
            ],
            "type": "contour"
           }
          ],
          "contourcarpet": [
           {
            "colorbar": {
             "outlinewidth": 0,
             "ticks": ""
            },
            "type": "contourcarpet"
           }
          ],
          "heatmap": [
           {
            "colorbar": {
             "outlinewidth": 0,
             "ticks": ""
            },
            "colorscale": [
             [
              0,
              "#0d0887"
             ],
             [
              0.1111111111111111,
              "#46039f"
             ],
             [
              0.2222222222222222,
              "#7201a8"
             ],
             [
              0.3333333333333333,
              "#9c179e"
             ],
             [
              0.4444444444444444,
              "#bd3786"
             ],
             [
              0.5555555555555556,
              "#d8576b"
             ],
             [
              0.6666666666666666,
              "#ed7953"
             ],
             [
              0.7777777777777778,
              "#fb9f3a"
             ],
             [
              0.8888888888888888,
              "#fdca26"
             ],
             [
              1,
              "#f0f921"
             ]
            ],
            "type": "heatmap"
           }
          ],
          "heatmapgl": [
           {
            "colorbar": {
             "outlinewidth": 0,
             "ticks": ""
            },
            "colorscale": [
             [
              0,
              "#0d0887"
             ],
             [
              0.1111111111111111,
              "#46039f"
             ],
             [
              0.2222222222222222,
              "#7201a8"
             ],
             [
              0.3333333333333333,
              "#9c179e"
             ],
             [
              0.4444444444444444,
              "#bd3786"
             ],
             [
              0.5555555555555556,
              "#d8576b"
             ],
             [
              0.6666666666666666,
              "#ed7953"
             ],
             [
              0.7777777777777778,
              "#fb9f3a"
             ],
             [
              0.8888888888888888,
              "#fdca26"
             ],
             [
              1,
              "#f0f921"
             ]
            ],
            "type": "heatmapgl"
           }
          ],
          "histogram": [
           {
            "marker": {
             "pattern": {
              "fillmode": "overlay",
              "size": 10,
              "solidity": 0.2
             }
            },
            "type": "histogram"
           }
          ],
          "histogram2d": [
           {
            "colorbar": {
             "outlinewidth": 0,
             "ticks": ""
            },
            "colorscale": [
             [
              0,
              "#0d0887"
             ],
             [
              0.1111111111111111,
              "#46039f"
             ],
             [
              0.2222222222222222,
              "#7201a8"
             ],
             [
              0.3333333333333333,
              "#9c179e"
             ],
             [
              0.4444444444444444,
              "#bd3786"
             ],
             [
              0.5555555555555556,
              "#d8576b"
             ],
             [
              0.6666666666666666,
              "#ed7953"
             ],
             [
              0.7777777777777778,
              "#fb9f3a"
             ],
             [
              0.8888888888888888,
              "#fdca26"
             ],
             [
              1,
              "#f0f921"
             ]
            ],
            "type": "histogram2d"
           }
          ],
          "histogram2dcontour": [
           {
            "colorbar": {
             "outlinewidth": 0,
             "ticks": ""
            },
            "colorscale": [
             [
              0,
              "#0d0887"
             ],
             [
              0.1111111111111111,
              "#46039f"
             ],
             [
              0.2222222222222222,
              "#7201a8"
             ],
             [
              0.3333333333333333,
              "#9c179e"
             ],
             [
              0.4444444444444444,
              "#bd3786"
             ],
             [
              0.5555555555555556,
              "#d8576b"
             ],
             [
              0.6666666666666666,
              "#ed7953"
             ],
             [
              0.7777777777777778,
              "#fb9f3a"
             ],
             [
              0.8888888888888888,
              "#fdca26"
             ],
             [
              1,
              "#f0f921"
             ]
            ],
            "type": "histogram2dcontour"
           }
          ],
          "mesh3d": [
           {
            "colorbar": {
             "outlinewidth": 0,
             "ticks": ""
            },
            "type": "mesh3d"
           }
          ],
          "parcoords": [
           {
            "line": {
             "colorbar": {
              "outlinewidth": 0,
              "ticks": ""
             }
            },
            "type": "parcoords"
           }
          ],
          "pie": [
           {
            "automargin": true,
            "type": "pie"
           }
          ],
          "scatter": [
           {
            "fillpattern": {
             "fillmode": "overlay",
             "size": 10,
             "solidity": 0.2
            },
            "type": "scatter"
           }
          ],
          "scatter3d": [
           {
            "line": {
             "colorbar": {
              "outlinewidth": 0,
              "ticks": ""
             }
            },
            "marker": {
             "colorbar": {
              "outlinewidth": 0,
              "ticks": ""
             }
            },
            "type": "scatter3d"
           }
          ],
          "scattercarpet": [
           {
            "marker": {
             "colorbar": {
              "outlinewidth": 0,
              "ticks": ""
             }
            },
            "type": "scattercarpet"
           }
          ],
          "scattergeo": [
           {
            "marker": {
             "colorbar": {
              "outlinewidth": 0,
              "ticks": ""
             }
            },
            "type": "scattergeo"
           }
          ],
          "scattergl": [
           {
            "marker": {
             "colorbar": {
              "outlinewidth": 0,
              "ticks": ""
             }
            },
            "type": "scattergl"
           }
          ],
          "scattermapbox": [
           {
            "marker": {
             "colorbar": {
              "outlinewidth": 0,
              "ticks": ""
             }
            },
            "type": "scattermapbox"
           }
          ],
          "scatterpolar": [
           {
            "marker": {
             "colorbar": {
              "outlinewidth": 0,
              "ticks": ""
             }
            },
            "type": "scatterpolar"
           }
          ],
          "scatterpolargl": [
           {
            "marker": {
             "colorbar": {
              "outlinewidth": 0,
              "ticks": ""
             }
            },
            "type": "scatterpolargl"
           }
          ],
          "scatterternary": [
           {
            "marker": {
             "colorbar": {
              "outlinewidth": 0,
              "ticks": ""
             }
            },
            "type": "scatterternary"
           }
          ],
          "surface": [
           {
            "colorbar": {
             "outlinewidth": 0,
             "ticks": ""
            },
            "colorscale": [
             [
              0,
              "#0d0887"
             ],
             [
              0.1111111111111111,
              "#46039f"
             ],
             [
              0.2222222222222222,
              "#7201a8"
             ],
             [
              0.3333333333333333,
              "#9c179e"
             ],
             [
              0.4444444444444444,
              "#bd3786"
             ],
             [
              0.5555555555555556,
              "#d8576b"
             ],
             [
              0.6666666666666666,
              "#ed7953"
             ],
             [
              0.7777777777777778,
              "#fb9f3a"
             ],
             [
              0.8888888888888888,
              "#fdca26"
             ],
             [
              1,
              "#f0f921"
             ]
            ],
            "type": "surface"
           }
          ],
          "table": [
           {
            "cells": {
             "fill": {
              "color": "#EBF0F8"
             },
             "line": {
              "color": "white"
             }
            },
            "header": {
             "fill": {
              "color": "#C8D4E3"
             },
             "line": {
              "color": "white"
             }
            },
            "type": "table"
           }
          ]
         },
         "layout": {
          "annotationdefaults": {
           "arrowcolor": "#2a3f5f",
           "arrowhead": 0,
           "arrowwidth": 1
          },
          "autotypenumbers": "strict",
          "coloraxis": {
           "colorbar": {
            "outlinewidth": 0,
            "ticks": ""
           }
          },
          "colorscale": {
           "diverging": [
            [
             0,
             "#8e0152"
            ],
            [
             0.1,
             "#c51b7d"
            ],
            [
             0.2,
             "#de77ae"
            ],
            [
             0.3,
             "#f1b6da"
            ],
            [
             0.4,
             "#fde0ef"
            ],
            [
             0.5,
             "#f7f7f7"
            ],
            [
             0.6,
             "#e6f5d0"
            ],
            [
             0.7,
             "#b8e186"
            ],
            [
             0.8,
             "#7fbc41"
            ],
            [
             0.9,
             "#4d9221"
            ],
            [
             1,
             "#276419"
            ]
           ],
           "sequential": [
            [
             0,
             "#0d0887"
            ],
            [
             0.1111111111111111,
             "#46039f"
            ],
            [
             0.2222222222222222,
             "#7201a8"
            ],
            [
             0.3333333333333333,
             "#9c179e"
            ],
            [
             0.4444444444444444,
             "#bd3786"
            ],
            [
             0.5555555555555556,
             "#d8576b"
            ],
            [
             0.6666666666666666,
             "#ed7953"
            ],
            [
             0.7777777777777778,
             "#fb9f3a"
            ],
            [
             0.8888888888888888,
             "#fdca26"
            ],
            [
             1,
             "#f0f921"
            ]
           ],
           "sequentialminus": [
            [
             0,
             "#0d0887"
            ],
            [
             0.1111111111111111,
             "#46039f"
            ],
            [
             0.2222222222222222,
             "#7201a8"
            ],
            [
             0.3333333333333333,
             "#9c179e"
            ],
            [
             0.4444444444444444,
             "#bd3786"
            ],
            [
             0.5555555555555556,
             "#d8576b"
            ],
            [
             0.6666666666666666,
             "#ed7953"
            ],
            [
             0.7777777777777778,
             "#fb9f3a"
            ],
            [
             0.8888888888888888,
             "#fdca26"
            ],
            [
             1,
             "#f0f921"
            ]
           ]
          },
          "colorway": [
           "#636efa",
           "#EF553B",
           "#00cc96",
           "#ab63fa",
           "#FFA15A",
           "#19d3f3",
           "#FF6692",
           "#B6E880",
           "#FF97FF",
           "#FECB52"
          ],
          "font": {
           "color": "#2a3f5f"
          },
          "geo": {
           "bgcolor": "white",
           "lakecolor": "white",
           "landcolor": "#E5ECF6",
           "showlakes": true,
           "showland": true,
           "subunitcolor": "white"
          },
          "hoverlabel": {
           "align": "left"
          },
          "hovermode": "closest",
          "mapbox": {
           "style": "light"
          },
          "paper_bgcolor": "white",
          "plot_bgcolor": "#E5ECF6",
          "polar": {
           "angularaxis": {
            "gridcolor": "white",
            "linecolor": "white",
            "ticks": ""
           },
           "bgcolor": "#E5ECF6",
           "radialaxis": {
            "gridcolor": "white",
            "linecolor": "white",
            "ticks": ""
           }
          },
          "scene": {
           "xaxis": {
            "backgroundcolor": "#E5ECF6",
            "gridcolor": "white",
            "gridwidth": 2,
            "linecolor": "white",
            "showbackground": true,
            "ticks": "",
            "zerolinecolor": "white"
           },
           "yaxis": {
            "backgroundcolor": "#E5ECF6",
            "gridcolor": "white",
            "gridwidth": 2,
            "linecolor": "white",
            "showbackground": true,
            "ticks": "",
            "zerolinecolor": "white"
           },
           "zaxis": {
            "backgroundcolor": "#E5ECF6",
            "gridcolor": "white",
            "gridwidth": 2,
            "linecolor": "white",
            "showbackground": true,
            "ticks": "",
            "zerolinecolor": "white"
           }
          },
          "shapedefaults": {
           "line": {
            "color": "#2a3f5f"
           }
          },
          "ternary": {
           "aaxis": {
            "gridcolor": "white",
            "linecolor": "white",
            "ticks": ""
           },
           "baxis": {
            "gridcolor": "white",
            "linecolor": "white",
            "ticks": ""
           },
           "bgcolor": "#E5ECF6",
           "caxis": {
            "gridcolor": "white",
            "linecolor": "white",
            "ticks": ""
           }
          },
          "title": {
           "x": 0.05
          },
          "xaxis": {
           "automargin": true,
           "gridcolor": "white",
           "linecolor": "white",
           "ticks": "",
           "title": {
            "standoff": 15
           },
           "zerolinecolor": "white",
           "zerolinewidth": 2
          },
          "yaxis": {
           "automargin": true,
           "gridcolor": "white",
           "linecolor": "white",
           "ticks": "",
           "title": {
            "standoff": 15
           },
           "zerolinecolor": "white",
           "zerolinewidth": 2
          }
         }
        },
        "title": {
         "text": "Day wise trends in Crime over time"
        },
        "xaxis": {
         "anchor": "y",
         "autorange": true,
         "domain": [
          0,
          1
         ],
         "range": [
          -0.3635703918722787,
          6.363570391872279
         ],
         "title": {
          "text": "Day"
         },
         "type": "category"
        },
        "yaxis": {
         "anchor": "x",
         "autorange": true,
         "domain": [
          0,
          1
         ],
         "range": [
          42.63592233009709,
          118.36407766990291
         ],
         "title": {
          "text": "No_of_crime"
         },
         "type": "linear"
        }
       }
      },
      "image/png": "[encoded data removed]",
      "text/html": [
       "<div>                            <div id=\"cd7b599b-ce1e-4383-af60-2a1a5696d2e4\" class=\"plotly-graph-div\" style=\"height:525px; width:100%;\"></div>            <script type=\"text/javascript\">                require([\"plotly\"], function(Plotly) {                    window.PLOTLYENV=window.PLOTLYENV || {};                                    if (document.getElementById(\"cd7b599b-ce1e-4383-af60-2a1a5696d2e4\")) {                    Plotly.newPlot(                        \"cd7b599b-ce1e-4383-af60-2a1a5696d2e4\",                        [{\"hovertemplate\":\"Day=%{x}<br>No_of_crime=%{y}<extra></extra>\",\"legendgroup\":\"\",\"line\":{\"color\":\"#636efa\",\"dash\":\"solid\"},\"marker\":{\"symbol\":\"circle\"},\"mode\":\"lines+markers\",\"name\":\"\",\"orientation\":\"v\",\"showlegend\":false,\"x\":[\"Wednesday\",\"Thursday\",\"Saturday\",\"Sunday\",\"Tuesday\",\"Friday\",\"Monday\"],\"xaxis\":\"x\",\"y\":[86,60,113,69,48,62,61],\"yaxis\":\"y\",\"type\":\"scatter\"}],                        {\"template\":{\"data\":{\"histogram2dcontour\":[{\"type\":\"histogram2dcontour\",\"colorbar\":{\"outlinewidth\":0,\"ticks\":\"\"},\"colorscale\":[[0.0,\"#0d0887\"],[0.1111111111111111,\"#46039f\"],[0.2222222222222222,\"#7201a8\"],[0.3333333333333333,\"#9c179e\"],[0.4444444444444444,\"#bd3786\"],[0.5555555555555556,\"#d8576b\"],[0.6666666666666666,\"#ed7953\"],[0.7777777777777778,\"#fb9f3a\"],[0.8888888888888888,\"#fdca26\"],[1.0,\"#f0f921\"]]}],\"choropleth\":[{\"type\":\"choropleth\",\"colorbar\":{\"outlinewidth\":0,\"ticks\":\"\"}}],\"histogram2d\":[{\"type\":\"histogram2d\",\"colorbar\":{\"outlinewidth\":0,\"ticks\":\"\"},\"colorscale\":[[0.0,\"#0d0887\"],[0.1111111111111111,\"#46039f\"],[0.2222222222222222,\"#7201a8\"],[0.3333333333333333,\"#9c179e\"],[0.4444444444444444,\"#bd3786\"],[0.5555555555555556,\"#d8576b\"],[0.6666666666666666,\"#ed7953\"],[0.7777777777777778,\"#fb9f3a\"],[0.8888888888888888,\"#fdca26\"],[1.0,\"#f0f921\"]]}],\"heatmap\":[{\"type\":\"heatmap\",\"colorbar\":{\"outlinewidth\":0,\"ticks\":\"\"},\"colorscale\":[[0.0,\"#0d0887\"],[0.1111111111111111,\"#46039f\"],[0.2222222222222222,\"#7201a8\"],[0.3333333333333333,\"#9c179e\"],[0.4444444444444444,\"#bd3786\"],[0.5555555555555556,\"#d8576b\"],[0.6666666666666666,\"#ed7953\"],[0.7777777777777778,\"#fb9f3a\"],[0.8888888888888888,\"#fdca26\"],[1.0,\"#f0f921\"]]}],\"heatmapgl\":[{\"type\":\"heatmapgl\",\"colorbar\":{\"outlinewidth\":0,\"ticks\":\"\"},\"colorscale\":[[0.0,\"#0d0887\"],[0.1111111111111111,\"#46039f\"],[0.2222222222222222,\"#7201a8\"],[0.3333333333333333,\"#9c179e\"],[0.4444444444444444,\"#bd3786\"],[0.5555555555555556,\"#d8576b\"],[0.6666666666666666,\"#ed7953\"],[0.7777777777777778,\"#fb9f3a\"],[0.8888888888888888,\"#fdca26\"],[1.0,\"#f0f921\"]]}],\"contourcarpet\":[{\"type\":\"contourcarpet\",\"colorbar\":{\"outlinewidth\":0,\"ticks\":\"\"}}],\"contour\":[{\"type\":\"contour\",\"colorbar\":{\"outlinewidth\":0,\"ticks\":\"\"},\"colorscale\":[[0.0,\"#0d0887\"],[0.1111111111111111,\"#46039f\"],[0.2222222222222222,\"#7201a8\"],[0.3333333333333333,\"#9c179e\"],[0.4444444444444444,\"#bd3786\"],[0.5555555555555556,\"#d8576b\"],[0.6666666666666666,\"#ed7953\"],[0.7777777777777778,\"#fb9f3a\"],[0.8888888888888888,\"#fdca26\"],[1.0,\"#f0f921\"]]}],\"surface\":[{\"type\":\"surface\",\"colorbar\":{\"outlinewidth\":0,\"ticks\":\"\"},\"colorscale\":[[0.0,\"#0d0887\"],[0.1111111111111111,\"#46039f\"],[0.2222222222222222,\"#7201a8\"],[0.3333333333333333,\"#9c179e\"],[0.4444444444444444,\"#bd3786\"],[0.5555555555555556,\"#d8576b\"],[0.6666666666666666,\"#ed7953\"],[0.7777777777777778,\"#fb9f3a\"],[0.8888888888888888,\"#fdca26\"],[1.0,\"#f0f921\"]]}],\"mesh3d\":[{\"type\":\"mesh3d\",\"colorbar\":{\"outlinewidth\":0,\"ticks\":\"\"}}],\"scatter\":[{\"fillpattern\":{\"fillmode\":\"overlay\",\"size\":10,\"solidity\":0.2},\"type\":\"scatter\"}],\"parcoords\":[{\"type\":\"parcoords\",\"line\":{\"colorbar\":{\"outlinewidth\":0,\"ticks\":\"\"}}}],\"scatterpolargl\":[{\"type\":\"scatterpolargl\",\"marker\":{\"colorbar\":{\"outlinewidth\":0,\"ticks\":\"\"}}}],\"bar\":[{\"error_x\":{\"color\":\"#2a3f5f\"},\"error_y\":{\"color\":\"#2a3f5f\"},\"marker\":{\"line\":{\"color\":\"#E5ECF6\",\"width\":0.5},\"pattern\":{\"fillmode\":\"overlay\",\"size\":10,\"solidity\":0.2}},\"type\":\"bar\"}],\"scattergeo\":[{\"type\":\"scattergeo\",\"marker\":{\"colorbar\":{\"outlinewidth\":0,\"ticks\":\"\"}}}],\"scatterpolar\":[{\"type\":\"scatterpolar\",\"marker\":{\"colorbar\":{\"outlinewidth\":0,\"ticks\":\"\"}}}],\"histogram\":[{\"marker\":{\"pattern\":{\"fillmode\":\"overlay\",\"size\":10,\"solidity\":0.2}},\"type\":\"histogram\"}],\"scattergl\":[{\"type\":\"scattergl\",\"marker\":{\"colorbar\":{\"outlinewidth\":0,\"ticks\":\"\"}}}],\"scatter3d\":[{\"type\":\"scatter3d\",\"line\":{\"colorbar\":{\"outlinewidth\":0,\"ticks\":\"\"}},\"marker\":{\"colorbar\":{\"outlinewidth\":0,\"ticks\":\"\"}}}],\"scattermapbox\":[{\"type\":\"scattermapbox\",\"marker\":{\"colorbar\":{\"outlinewidth\":0,\"ticks\":\"\"}}}],\"scatterternary\":[{\"type\":\"scatterternary\",\"marker\":{\"colorbar\":{\"outlinewidth\":0,\"ticks\":\"\"}}}],\"scattercarpet\":[{\"type\":\"scattercarpet\",\"marker\":{\"colorbar\":{\"outlinewidth\":0,\"ticks\":\"\"}}}],\"carpet\":[{\"aaxis\":{\"endlinecolor\":\"#2a3f5f\",\"gridcolor\":\"white\",\"linecolor\":\"white\",\"minorgridcolor\":\"white\",\"startlinecolor\":\"#2a3f5f\"},\"baxis\":{\"endlinecolor\":\"#2a3f5f\",\"gridcolor\":\"white\",\"linecolor\":\"white\",\"minorgridcolor\":\"white\",\"startlinecolor\":\"#2a3f5f\"},\"type\":\"carpet\"}],\"table\":[{\"cells\":{\"fill\":{\"color\":\"#EBF0F8\"},\"line\":{\"color\":\"white\"}},\"header\":{\"fill\":{\"color\":\"#C8D4E3\"},\"line\":{\"color\":\"white\"}},\"type\":\"table\"}],\"barpolar\":[{\"marker\":{\"line\":{\"color\":\"#E5ECF6\",\"width\":0.5},\"pattern\":{\"fillmode\":\"overlay\",\"size\":10,\"solidity\":0.2}},\"type\":\"barpolar\"}],\"pie\":[{\"automargin\":true,\"type\":\"pie\"}]},\"layout\":{\"autotypenumbers\":\"strict\",\"colorway\":[\"#636efa\",\"#EF553B\",\"#00cc96\",\"#ab63fa\",\"#FFA15A\",\"#19d3f3\",\"#FF6692\",\"#B6E880\",\"#FF97FF\",\"#FECB52\"],\"font\":{\"color\":\"#2a3f5f\"},\"hovermode\":\"closest\",\"hoverlabel\":{\"align\":\"left\"},\"paper_bgcolor\":\"white\",\"plot_bgcolor\":\"#E5ECF6\",\"polar\":{\"bgcolor\":\"#E5ECF6\",\"angularaxis\":{\"gridcolor\":\"white\",\"linecolor\":\"white\",\"ticks\":\"\"},\"radialaxis\":{\"gridcolor\":\"white\",\"linecolor\":\"white\",\"ticks\":\"\"}},\"ternary\":{\"bgcolor\":\"#E5ECF6\",\"aaxis\":{\"gridcolor\":\"white\",\"linecolor\":\"white\",\"ticks\":\"\"},\"baxis\":{\"gridcolor\":\"white\",\"linecolor\":\"white\",\"ticks\":\"\"},\"caxis\":{\"gridcolor\":\"white\",\"linecolor\":\"white\",\"ticks\":\"\"}},\"coloraxis\":{\"colorbar\":{\"outlinewidth\":0,\"ticks\":\"\"}},\"colorscale\":{\"sequential\":[[0.0,\"#0d0887\"],[0.1111111111111111,\"#46039f\"],[0.2222222222222222,\"#7201a8\"],[0.3333333333333333,\"#9c179e\"],[0.4444444444444444,\"#bd3786\"],[0.5555555555555556,\"#d8576b\"],[0.6666666666666666,\"#ed7953\"],[0.7777777777777778,\"#fb9f3a\"],[0.8888888888888888,\"#fdca26\"],[1.0,\"#f0f921\"]],\"sequentialminus\":[[0.0,\"#0d0887\"],[0.1111111111111111,\"#46039f\"],[0.2222222222222222,\"#7201a8\"],[0.3333333333333333,\"#9c179e\"],[0.4444444444444444,\"#bd3786\"],[0.5555555555555556,\"#d8576b\"],[0.6666666666666666,\"#ed7953\"],[0.7777777777777778,\"#fb9f3a\"],[0.8888888888888888,\"#fdca26\"],[1.0,\"#f0f921\"]],\"diverging\":[[0,\"#8e0152\"],[0.1,\"#c51b7d\"],[0.2,\"#de77ae\"],[0.3,\"#f1b6da\"],[0.4,\"#fde0ef\"],[0.5,\"#f7f7f7\"],[0.6,\"#e6f5d0\"],[0.7,\"#b8e186\"],[0.8,\"#7fbc41\"],[0.9,\"#4d9221\"],[1,\"#276419\"]]},\"xaxis\":{\"gridcolor\":\"white\",\"linecolor\":\"white\",\"ticks\":\"\",\"title\":{\"standoff\":15},\"zerolinecolor\":\"white\",\"automargin\":true,\"zerolinewidth\":2},\"yaxis\":{\"gridcolor\":\"white\",\"linecolor\":\"white\",\"ticks\":\"\",\"title\":{\"standoff\":15},\"zerolinecolor\":\"white\",\"automargin\":true,\"zerolinewidth\":2},\"scene\":{\"xaxis\":{\"backgroundcolor\":\"#E5ECF6\",\"gridcolor\":\"white\",\"linecolor\":\"white\",\"showbackground\":true,\"ticks\":\"\",\"zerolinecolor\":\"white\",\"gridwidth\":2},\"yaxis\":{\"backgroundcolor\":\"#E5ECF6\",\"gridcolor\":\"white\",\"linecolor\":\"white\",\"showbackground\":true,\"ticks\":\"\",\"zerolinecolor\":\"white\",\"gridwidth\":2},\"zaxis\":{\"backgroundcolor\":\"#E5ECF6\",\"gridcolor\":\"white\",\"linecolor\":\"white\",\"showbackground\":true,\"ticks\":\"\",\"zerolinecolor\":\"white\",\"gridwidth\":2}},\"shapedefaults\":{\"line\":{\"color\":\"#2a3f5f\"}},\"annotationdefaults\":{\"arrowcolor\":\"#2a3f5f\",\"arrowhead\":0,\"arrowwidth\":1},\"geo\":{\"bgcolor\":\"white\",\"landcolor\":\"#E5ECF6\",\"subunitcolor\":\"white\",\"showland\":true,\"showlakes\":true,\"lakecolor\":\"white\"},\"title\":{\"x\":0.05},\"mapbox\":{\"style\":\"light\"}}},\"xaxis\":{\"anchor\":\"y\",\"domain\":[0.0,1.0],\"title\":{\"text\":\"Day\"}},\"yaxis\":{\"anchor\":\"x\",\"domain\":[0.0,1.0],\"title\":{\"text\":\"No_of_crime\"}},\"legend\":{\"tracegroupgap\":0},\"title\":{\"text\":\"Day wise trends in Crime over time\"}},                        {\"responsive\": true}                    ).then(function(){\n",
       "                            \n",
       "var gd = document.getElementById('cd7b599b-ce1e-4383-af60-2a1a5696d2e4');\n",
       "var x = new MutationObserver(function (mutations, observer) {{\n",
       "        var display = window.getComputedStyle(gd).display;\n",
       "        if (!display || display === 'none') {{\n",
       "            console.log([gd, 'removed!']);\n",
       "            Plotly.purge(gd);\n",
       "            observer.disconnect();\n",
       "        }}\n",
       "}});\n",
       "\n",
       "// Listen for the removal of the full notebook cells\n",
       "var notebookContainer = gd.closest('#notebook-container');\n",
       "if (notebookContainer) {{\n",
       "    x.observe(notebookContainer, {childList: true});\n",
       "}}\n",
       "\n",
       "// Listen for the clearing of the current output cell\n",
       "var outputEl = gd.closest('.output');\n",
       "if (outputEl) {{\n",
       "    x.observe(outputEl, {childList: true});\n",
       "}}\n",
       "\n",
       "                        })                };                });            </script>        </div>"
      ]
     },
     "metadata": {},
     "output_type": "display_data"
    }
   ],
   "source": [
    "# Analyze the temporal aspects of the data showing trends in crime occurrence over time.\n",
    "\n",
    "mysql_temporal_month = pd.read_sql(\"select count(*) as No_of_crime,monthname(DATE_OCC) as Month from crime_dataset group by monthname(DATE_OCC)\",conn)\n",
    "#print(mysql_temporal_month)\n",
    "\n",
    "# Create a line graph using Plotly Express\n",
    "mysql_temporal_day = pd.read_sql(\"select count(*) as No_of_crime,dayname(DATE_OCC) as Day from crime_dataset group by dayname(DATE_OCC)\",conn)\n",
    "\n",
    "fig1 = px.line(mysql_temporal_month, x='Month', y='No_of_crime', title='Month wise trends in Crime over time',markers=True)\n",
    "fig2 = px.line(mysql_temporal_day, x='Day', y='No_of_crime', title='Day wise trends in Crime over time',markers=True)\n",
    "\n",
    "# Show the graph\n",
    "fig1.show()\n",
    "fig2.show()"
   ]
  },
  {
   "cell_type": "code",
   "execution_count": 7,
   "id": "2032219c-1008-4906-8825-e7d8051453a5",
   "metadata": {},
   "outputs": [
    {
     "name": "stdout",
     "output_type": "stream",
     "text": [
      "select count(*) from crime_dataset where Date_Rptd=DATE_OCC\n",
      "((299,),)\n",
      "select count(*),day_delay from (select case when Date_Rptd=DATE_OCC then \"Same day reported\" else \"Late reported\" end as day_delay,Date_Rptd from crime_dataset) a group by day_delay\n",
      "((299, 'Same day reported'), (200, 'Late reported'))\n"
     ]
    }
   ],
   "source": [
    "# Executing query:comparing date reported vs date when crime occur\n",
    "\n",
    "cur = conn.cursor()\n",
    "query_date='select count(*) from crime_dataset where Date_Rptd=DATE_OCC'\n",
    "print(query_date)\n",
    "cur.execute(query_date)\n",
    "ans_count = cur.fetchall()\n",
    "print(ans_count)\n",
    "\n",
    "#Query to analyse no of crime reported delay\n",
    "cur = conn.cursor()\n",
    "query_delay_count='select count(*),day_delay from (select case when Date_Rptd=DATE_OCC then \"Same day reported\" else \"Late reported\" end as day_delay,Date_Rptd from crime_dataset) a group by day_delay'\n",
    "print(query_delay_count)\n",
    "cur.execute(query_delay_count)\n",
    "ans_count3 = cur.fetchall()\n",
    "print(ans_count3)\n",
    "\n",
    "#select distinct (year(Date_Rptd)) from crime_dataset;\n",
    "#select distinct (year(DATE_OCC)) from crime_dataset;\n"
   ]
  },
  {
   "cell_type": "markdown",
   "id": "0981eeb5-3d68-423b-b2d7-5c4e3c6d97e0",
   "metadata": {},
   "source": [
    "#### Conclusion:\n",
    "#### All crimes occured in the year 2020. Most of the crimes reported in the same year. Some of the crimes were reported in year 2021, 2022 too.\n",
    "#### 299 crimes were reported on the day of the crime occurance and rest 200 crimes were reported later.\n",
    "#### January is the month which has highest crime occurance. Total number of crimes occured in January are 314 and most of the crime occured on Saturday"
   ]
  },
  {
   "cell_type": "markdown",
   "id": "7e0bbc05-3ae0-44ea-88e3-bee4c4ac12ff",
   "metadata": {},
   "source": [
    "### Spatial Analysis"
   ]
  },
  {
   "cell_type": "code",
   "execution_count": 8,
   "id": "05f52e4c-965b-4eb9-9208-89d088c8bfd3",
   "metadata": {},
   "outputs": [
    {
     "data": {
      "image/png": "[encoded data removed]",
      "text/plain": [
       "<Figure size 1500x600 with 1 Axes>"
      ]
     },
     "metadata": {},
     "output_type": "display_data"
    },
    {
     "name": "stdout",
     "output_type": "stream",
     "text": [
      "    crime_count    LAT     LON  AREA_NAME\n",
      "0            94  34.05 -118.26    Central\n",
      "1            75  34.05 -118.25    Central\n",
      "2            47  34.04 -118.25    Central\n",
      "3            43  34.06 -118.24    Central\n",
      "4            39  34.05 -118.24    Central\n",
      "..          ...    ...     ...        ...\n",
      "77            1  34.07 -118.37   Wilshire\n",
      "78            1  34.11 -118.24  Northeast\n",
      "79            1  34.08 -118.35   Wilshire\n",
      "80            1  34.10 -118.30  Hollywood\n",
      "81            1  34.14 -118.23  Northeast\n",
      "\n",
      "[82 rows x 4 columns]\n"
     ]
    }
   ],
   "source": [
    "# Utilize the geographical information (Latitude and Longitude) to perform spatial analysis\n",
    "plt.figure(figsize=(15,6))\n",
    "\n",
    "sns.scatterplot(x='LON',y='LAT',data=mysql_queryry_df2,\n",
    "                hue=mysql_queryry_df2['AREA_NAME'])\n",
    "#plt.scatter(mysql_queryry_df2['LON'],mysql_queryry_df2['LAT'],marker='H',color='Red',s=20,facecolor=\"Green\",edgecolor=\"Blue\",hue=mysql_queryry_df2['Location'])\n",
    "plt.xlabel(\"Longitude\")\n",
    "plt.ylabel(\"Latitude\")\n",
    "plt.title(\"Geographical Crime hotspot\")\n",
    "plt.show()\n",
    "\n",
    "location_query=pd.read_sql('select count(*) as crime_count,LAT,LON,AREA_NAME from crime_dataset where LAT=LAT and LON=LON group by LAT,LON,AREA_NAME order by crime_count desc',conn)\n",
    "print(location_query)\n"
   ]
  },
  {
   "cell_type": "code",
   "execution_count": 9,
   "id": "3e966bab-89bf-4bce-990d-d21888350f0a",
   "metadata": {},
   "outputs": [
    {
     "data": {
      "text/html": [
       "<div style=\"width:100%;\"><div style=\"position:relative;width:100%;height:0;padding-bottom:60%;\"><span style=\"color:#565656\">Make this Notebook Trusted to load map: File -> Trust Notebook</span><iframe srcdoc=\"&lt;!DOCTYPE html&gt;\n",
       "&lt;html&gt;\n",
       "&lt;head&gt;\n",
       "    \n",
       "    &lt;meta http-equiv=&quot;content-type&quot; content=&quot;text/html; charset=UTF-8&quot; /&gt;\n",
       "    \n",
       "        &lt;script&gt;\n",
       "            L_NO_TOUCH = false;\n",
       "            L_DISABLE_3D = false;\n",
       "        &lt;/script&gt;\n",
       "    \n",
       "    &lt;style&gt;html, body {width: 100%;height: 100%;margin: 0;padding: 0;}&lt;/style&gt;\n",
       "    &lt;style&gt;#map {position:absolute;top:0;bottom:0;right:0;left:0;}&lt;/style&gt;\n",
       "    &lt;script src=&quot;https://cdn.jsdelivr.net/npm/leaflet@1.9.3/dist/leaflet.js&quot;&gt;&lt;/script&gt;\n",
       "    &lt;script src=&quot;https://code.jquery.com/jquery-3.7.1.min.js&quot;&gt;&lt;/script&gt;\n",
       "    &lt;script src=&quot;https://cdn.jsdelivr.net/npm/bootstrap@5.2.2/dist/js/bootstrap.bundle.min.js&quot;&gt;&lt;/script&gt;\n",
       "    &lt;script src=&quot;https://cdnjs.cloudflare.com/ajax/libs/Leaflet.awesome-markers/2.0.2/leaflet.awesome-markers.js&quot;&gt;&lt;/script&gt;\n",
       "    &lt;link rel=&quot;stylesheet&quot; href=&quot;https://cdn.jsdelivr.net/npm/leaflet@1.9.3/dist/leaflet.css&quot;/&gt;\n",
       "    &lt;link rel=&quot;stylesheet&quot; href=&quot;https://cdn.jsdelivr.net/npm/bootstrap@5.2.2/dist/css/bootstrap.min.css&quot;/&gt;\n",
       "    &lt;link rel=&quot;stylesheet&quot; href=&quot;https://netdna.bootstrapcdn.com/bootstrap/3.0.0/css/bootstrap.min.css&quot;/&gt;\n",
       "    &lt;link rel=&quot;stylesheet&quot; href=&quot;https://cdn.jsdelivr.net/npm/@fortawesome/fontawesome-free@6.2.0/css/all.min.css&quot;/&gt;\n",
       "    &lt;link rel=&quot;stylesheet&quot; href=&quot;https://cdnjs.cloudflare.com/ajax/libs/Leaflet.awesome-markers/2.0.2/leaflet.awesome-markers.css&quot;/&gt;\n",
       "    &lt;link rel=&quot;stylesheet&quot; href=&quot;https://cdn.jsdelivr.net/gh/python-visualization/folium/folium/templates/leaflet.awesome.rotate.min.css&quot;/&gt;\n",
       "    \n",
       "            &lt;meta name=&quot;viewport&quot; content=&quot;width=device-width,\n",
       "                initial-scale=1.0, maximum-scale=1.0, user-scalable=no&quot; /&gt;\n",
       "            &lt;style&gt;\n",
       "                #map_ad365c133758fdc7093c9b58442d9de4 {\n",
       "                    position: relative;\n",
       "                    width: 100.0%;\n",
       "                    height: 100.0%;\n",
       "                    left: 0.0%;\n",
       "                    top: 0.0%;\n",
       "                }\n",
       "                .leaflet-container { font-size: 1rem; }\n",
       "            &lt;/style&gt;\n",
       "        \n",
       "&lt;/head&gt;\n",
       "&lt;body&gt;\n",
       "    \n",
       "    \n",
       "            &lt;div class=&quot;folium-map&quot; id=&quot;map_ad365c133758fdc7093c9b58442d9de4&quot; &gt;&lt;/div&gt;\n",
       "        \n",
       "&lt;/body&gt;\n",
       "&lt;script&gt;\n",
       "    \n",
       "    \n",
       "            var map_ad365c133758fdc7093c9b58442d9de4 = L.map(\n",
       "                &quot;map_ad365c133758fdc7093c9b58442d9de4&quot;,\n",
       "                {\n",
       "                    center: [34.01, -118.3],\n",
       "                    crs: L.CRS.EPSG3857,\n",
       "                    zoom: 2,\n",
       "                    zoomControl: true,\n",
       "                    preferCanvas: false,\n",
       "                }\n",
       "            );\n",
       "\n",
       "            \n",
       "\n",
       "        \n",
       "    \n",
       "            var tile_layer_9791323027b98fa76344de7d0fd703bd = L.tileLayer(\n",
       "                &quot;https://tile.openstreetmap.org/{z}/{x}/{y}.png&quot;,\n",
       "                {&quot;attribution&quot;: &quot;\\u0026copy; \\u003ca href=\\&quot;https://www.openstreetmap.org/copyright\\&quot;\\u003eOpenStreetMap\\u003c/a\\u003e contributors&quot;, &quot;detectRetina&quot;: false, &quot;maxNativeZoom&quot;: 19, &quot;maxZoom&quot;: 19, &quot;minZoom&quot;: 0, &quot;noWrap&quot;: false, &quot;opacity&quot;: 1, &quot;subdomains&quot;: &quot;abc&quot;, &quot;tms&quot;: false}\n",
       "            );\n",
       "        \n",
       "    \n",
       "            tile_layer_9791323027b98fa76344de7d0fd703bd.addTo(map_ad365c133758fdc7093c9b58442d9de4);\n",
       "        \n",
       "    \n",
       "            var marker_11a4b095fcc741cd1b58fb474fcbb36a = L.marker(\n",
       "                [34.01, -118.3],\n",
       "                {}\n",
       "            ).addTo(map_ad365c133758fdc7093c9b58442d9de4);\n",
       "        \n",
       "    \n",
       "            var marker_d2c25573148d7a746eeffc20013ebe28 = L.marker(\n",
       "                [34.05, -118.25],\n",
       "                {}\n",
       "            ).addTo(map_ad365c133758fdc7093c9b58442d9de4);\n",
       "        \n",
       "    \n",
       "            var marker_80002f7088aafcc19d971de8446bbda1 = L.marker(\n",
       "                [34.17, -118.4],\n",
       "                {}\n",
       "            ).addTo(map_ad365c133758fdc7093c9b58442d9de4);\n",
       "        \n",
       "    \n",
       "            var marker_172fc5fdf83374b8949e5b4663ca6c46 = L.marker(\n",
       "                [34.22, -118.45],\n",
       "                {}\n",
       "            ).addTo(map_ad365c133758fdc7093c9b58442d9de4);\n",
       "        \n",
       "    \n",
       "            var marker_88a995da4eda05f239f628f5651390e4 = L.marker(\n",
       "                [34.05, -118.26],\n",
       "                {}\n",
       "            ).addTo(map_ad365c133758fdc7093c9b58442d9de4);\n",
       "        \n",
       "    \n",
       "            var marker_de204010309aa8c2237f9125e3b29e76 = L.marker(\n",
       "                [34.04, -118.25],\n",
       "                {}\n",
       "            ).addTo(map_ad365c133758fdc7093c9b58442d9de4);\n",
       "        \n",
       "    \n",
       "            var marker_f69fd221faf65c644e4ddf89138bf22d = L.marker(\n",
       "                [34.07, -118.24],\n",
       "                {}\n",
       "            ).addTo(map_ad365c133758fdc7093c9b58442d9de4);\n",
       "        \n",
       "    \n",
       "            var marker_4c903e4c83e20970c6434154850ec76e = L.marker(\n",
       "                [34.04, -118.26],\n",
       "                {}\n",
       "            ).addTo(map_ad365c133758fdc7093c9b58442d9de4);\n",
       "        \n",
       "    \n",
       "            var marker_1f1c6955ce7e9985f8ffd955175c8683 = L.marker(\n",
       "                [34.06, -118.24],\n",
       "                {}\n",
       "            ).addTo(map_ad365c133758fdc7093c9b58442d9de4);\n",
       "        \n",
       "    \n",
       "            var marker_b3438de58ad40a119391d3df5e48966d = L.marker(\n",
       "                [34.05, -118.26],\n",
       "                {}\n",
       "            ).addTo(map_ad365c133758fdc7093c9b58442d9de4);\n",
       "        \n",
       "    \n",
       "            var marker_22dc8d3ab0248d742f258f0e80d54d6c = L.marker(\n",
       "                [34.05, -118.26],\n",
       "                {}\n",
       "            ).addTo(map_ad365c133758fdc7093c9b58442d9de4);\n",
       "        \n",
       "    \n",
       "            var marker_5e4e58187b68d7d3bce8673e61a290a6 = L.marker(\n",
       "                [34.05, -118.24],\n",
       "                {}\n",
       "            ).addTo(map_ad365c133758fdc7093c9b58442d9de4);\n",
       "        \n",
       "    \n",
       "            var marker_5d3d174705f7f9cb7fd0c43fbb1603cb = L.marker(\n",
       "                [34.2, -118.43],\n",
       "                {}\n",
       "            ).addTo(map_ad365c133758fdc7093c9b58442d9de4);\n",
       "        \n",
       "    \n",
       "            var marker_d595b6e6afc2c5318705a2e2f370853b = L.marker(\n",
       "                [34.08, -118.37],\n",
       "                {}\n",
       "            ).addTo(map_ad365c133758fdc7093c9b58442d9de4);\n",
       "        \n",
       "    \n",
       "            var marker_6a3da531464042982da05097d47750d4 = L.marker(\n",
       "                [34.05, -118.25],\n",
       "                {}\n",
       "            ).addTo(map_ad365c133758fdc7093c9b58442d9de4);\n",
       "        \n",
       "    \n",
       "            var marker_7790be256a753662a3501393e383caef = L.marker(\n",
       "                [34.05, -118.26],\n",
       "                {}\n",
       "            ).addTo(map_ad365c133758fdc7093c9b58442d9de4);\n",
       "        \n",
       "    \n",
       "            var marker_b4dd0bd8907a72d0e7015a66bb6edbf0 = L.marker(\n",
       "                [34.04, -118.25],\n",
       "                {}\n",
       "            ).addTo(map_ad365c133758fdc7093c9b58442d9de4);\n",
       "        \n",
       "    \n",
       "            var marker_3ecf0b5a7744ea61683818f3370611e1 = L.marker(\n",
       "                [34.07, -118.28],\n",
       "                {}\n",
       "            ).addTo(map_ad365c133758fdc7093c9b58442d9de4);\n",
       "        \n",
       "    \n",
       "            var marker_cffe236debf2124f962a3c53e53e8972 = L.marker(\n",
       "                [34.05, -118.26],\n",
       "                {}\n",
       "            ).addTo(map_ad365c133758fdc7093c9b58442d9de4);\n",
       "        \n",
       "    \n",
       "            var marker_dda9b031a5ab54cbbe6c19d74c3f20f4 = L.marker(\n",
       "                [34.05, -118.25],\n",
       "                {}\n",
       "            ).addTo(map_ad365c133758fdc7093c9b58442d9de4);\n",
       "        \n",
       "    \n",
       "            var marker_0ef5fb93f697b2bb5a20ae5017e99a42 = L.marker(\n",
       "                [34.05, -118.25],\n",
       "                {}\n",
       "            ).addTo(map_ad365c133758fdc7093c9b58442d9de4);\n",
       "        \n",
       "    \n",
       "            var marker_fe5160c8cbb0ebb245c311c1cc1f6588 = L.marker(\n",
       "                [34.05, -118.26],\n",
       "                {}\n",
       "            ).addTo(map_ad365c133758fdc7093c9b58442d9de4);\n",
       "        \n",
       "    \n",
       "            var marker_4d989eb3b8ab3b4f1ad37ef753008768 = L.marker(\n",
       "                [34.06, -118.24],\n",
       "                {}\n",
       "            ).addTo(map_ad365c133758fdc7093c9b58442d9de4);\n",
       "        \n",
       "    \n",
       "            var marker_adced40e31d6739961c2176162452c69 = L.marker(\n",
       "                [34.04, -118.25],\n",
       "                {}\n",
       "            ).addTo(map_ad365c133758fdc7093c9b58442d9de4);\n",
       "        \n",
       "    \n",
       "            var marker_42620314b8aaaf687aa9e132f2a3b133 = L.marker(\n",
       "                [34.05, -118.26],\n",
       "                {}\n",
       "            ).addTo(map_ad365c133758fdc7093c9b58442d9de4);\n",
       "        \n",
       "    \n",
       "            var marker_63602ca85be128636d4640989a94885b = L.marker(\n",
       "                [34.03, -118.27],\n",
       "                {}\n",
       "            ).addTo(map_ad365c133758fdc7093c9b58442d9de4);\n",
       "        \n",
       "    \n",
       "            var marker_f58c8c4a37f33efbaad936d1be5e7a7c = L.marker(\n",
       "                [34.06, -118.24],\n",
       "                {}\n",
       "            ).addTo(map_ad365c133758fdc7093c9b58442d9de4);\n",
       "        \n",
       "    \n",
       "            var marker_70b7ece9161d9b9f77f7c88eb03c2792 = L.marker(\n",
       "                [34.05, -118.25],\n",
       "                {}\n",
       "            ).addTo(map_ad365c133758fdc7093c9b58442d9de4);\n",
       "        \n",
       "    \n",
       "            var marker_f822f87a9e58fe08d2b5333e5acff563 = L.marker(\n",
       "                [34.05, -118.25],\n",
       "                {}\n",
       "            ).addTo(map_ad365c133758fdc7093c9b58442d9de4);\n",
       "        \n",
       "    \n",
       "            var marker_36b8e061f683d036bfda270118652306 = L.marker(\n",
       "                [34.05, -118.26],\n",
       "                {}\n",
       "            ).addTo(map_ad365c133758fdc7093c9b58442d9de4);\n",
       "        \n",
       "    \n",
       "            var marker_1245c2f891ce10a81309f67683b87aeb = L.marker(\n",
       "                [34.05, -118.25],\n",
       "                {}\n",
       "            ).addTo(map_ad365c133758fdc7093c9b58442d9de4);\n",
       "        \n",
       "    \n",
       "            var marker_d21e7354b2010c9ec41a5fed7cb3e96b = L.marker(\n",
       "                [34.04, -118.25],\n",
       "                {}\n",
       "            ).addTo(map_ad365c133758fdc7093c9b58442d9de4);\n",
       "        \n",
       "    \n",
       "            var marker_60be12ec234caddf5372592787ac1a76 = L.marker(\n",
       "                [34.05, -118.24],\n",
       "                {}\n",
       "            ).addTo(map_ad365c133758fdc7093c9b58442d9de4);\n",
       "        \n",
       "    \n",
       "            var marker_8a7cb1a69d3d84ae802b321c7ce51da9 = L.marker(\n",
       "                [34.05, -118.25],\n",
       "                {}\n",
       "            ).addTo(map_ad365c133758fdc7093c9b58442d9de4);\n",
       "        \n",
       "    \n",
       "            var marker_11fa46ec6cce15cc0d69b9924d5d71d1 = L.marker(\n",
       "                [34.05, -118.26],\n",
       "                {}\n",
       "            ).addTo(map_ad365c133758fdc7093c9b58442d9de4);\n",
       "        \n",
       "    \n",
       "            var marker_2b0dcf6186cfe27006c9369c9d0a32d0 = L.marker(\n",
       "                [34.06, -118.23],\n",
       "                {}\n",
       "            ).addTo(map_ad365c133758fdc7093c9b58442d9de4);\n",
       "        \n",
       "    \n",
       "            var marker_d3d7d90de3a170b853eefd6cd98dddf8 = L.marker(\n",
       "                [34.04, -118.26],\n",
       "                {}\n",
       "            ).addTo(map_ad365c133758fdc7093c9b58442d9de4);\n",
       "        \n",
       "    \n",
       "            var marker_37133133b87948a8030499f02d077f2b = L.marker(\n",
       "                [34.06, -118.24],\n",
       "                {}\n",
       "            ).addTo(map_ad365c133758fdc7093c9b58442d9de4);\n",
       "        \n",
       "    \n",
       "            var marker_059143c071f1c4a2d2add07f4488e64d = L.marker(\n",
       "                [34.05, -118.25],\n",
       "                {}\n",
       "            ).addTo(map_ad365c133758fdc7093c9b58442d9de4);\n",
       "        \n",
       "    \n",
       "            var marker_4723c33c4b5733004a959de956ebb16b = L.marker(\n",
       "                [34.04, -118.25],\n",
       "                {}\n",
       "            ).addTo(map_ad365c133758fdc7093c9b58442d9de4);\n",
       "        \n",
       "    \n",
       "            var marker_986142986f5d229abf5672630c98405a = L.marker(\n",
       "                [34.05, -118.25],\n",
       "                {}\n",
       "            ).addTo(map_ad365c133758fdc7093c9b58442d9de4);\n",
       "        \n",
       "    \n",
       "            var marker_a0fef9cc7a553069d3372dda6de8447b = L.marker(\n",
       "                [34.03, -118.26],\n",
       "                {}\n",
       "            ).addTo(map_ad365c133758fdc7093c9b58442d9de4);\n",
       "        \n",
       "    \n",
       "            var marker_4a7fcd0eb3e119bb2552a9105eaf48d1 = L.marker(\n",
       "                [34.05, -118.26],\n",
       "                {}\n",
       "            ).addTo(map_ad365c133758fdc7093c9b58442d9de4);\n",
       "        \n",
       "    \n",
       "            var marker_eef0daa2d0651bf7fa6ce418a63ab663 = L.marker(\n",
       "                [34.04, -118.25],\n",
       "                {}\n",
       "            ).addTo(map_ad365c133758fdc7093c9b58442d9de4);\n",
       "        \n",
       "    \n",
       "            var marker_7535c73073c845423c9004674fddeecd = L.marker(\n",
       "                [34.05, -118.26],\n",
       "                {}\n",
       "            ).addTo(map_ad365c133758fdc7093c9b58442d9de4);\n",
       "        \n",
       "    \n",
       "            var marker_e0bf01a0cb3f1e6b8233c3d87f154bff = L.marker(\n",
       "                [34.06, -118.24],\n",
       "                {}\n",
       "            ).addTo(map_ad365c133758fdc7093c9b58442d9de4);\n",
       "        \n",
       "    \n",
       "            var marker_d44abd89f2ec639f5deb7c520739b714 = L.marker(\n",
       "                [34.18, -118.45],\n",
       "                {}\n",
       "            ).addTo(map_ad365c133758fdc7093c9b58442d9de4);\n",
       "        \n",
       "    \n",
       "            var marker_6f6cab9efdf46818a43b447a9dbe8d0e = L.marker(\n",
       "                [34.05, -118.25],\n",
       "                {}\n",
       "            ).addTo(map_ad365c133758fdc7093c9b58442d9de4);\n",
       "        \n",
       "    \n",
       "            var marker_f3b2e1908b4ac574e6c00f80dd488710 = L.marker(\n",
       "                [34.04, -118.24],\n",
       "                {}\n",
       "            ).addTo(map_ad365c133758fdc7093c9b58442d9de4);\n",
       "        \n",
       "    \n",
       "            var marker_902f027b1c4389f5374dca9b2552254b = L.marker(\n",
       "                [34.04, -118.24],\n",
       "                {}\n",
       "            ).addTo(map_ad365c133758fdc7093c9b58442d9de4);\n",
       "        \n",
       "    \n",
       "            var marker_29a914359690183740f9ceec1dafe9e4 = L.marker(\n",
       "                [34.05, -118.26],\n",
       "                {}\n",
       "            ).addTo(map_ad365c133758fdc7093c9b58442d9de4);\n",
       "        \n",
       "    \n",
       "            var marker_63f059809032990d04780a722895a8fa = L.marker(\n",
       "                [34.05, -118.24],\n",
       "                {}\n",
       "            ).addTo(map_ad365c133758fdc7093c9b58442d9de4);\n",
       "        \n",
       "    \n",
       "            var marker_b360d3d3955d53475b919c0e3d394b0d = L.marker(\n",
       "                [34.05, -118.24],\n",
       "                {}\n",
       "            ).addTo(map_ad365c133758fdc7093c9b58442d9de4);\n",
       "        \n",
       "    \n",
       "            var marker_32237039015aaaf9ea2b01ca1657021a = L.marker(\n",
       "                [34.04, -118.26],\n",
       "                {}\n",
       "            ).addTo(map_ad365c133758fdc7093c9b58442d9de4);\n",
       "        \n",
       "    \n",
       "            var marker_3cd04599d2a98d35ab91d909c180b07d = L.marker(\n",
       "                [34.05, -118.25],\n",
       "                {}\n",
       "            ).addTo(map_ad365c133758fdc7093c9b58442d9de4);\n",
       "        \n",
       "    \n",
       "            var marker_11ca8a05dfc08762fdbeea9cad56d751 = L.marker(\n",
       "                [34.04, -118.24],\n",
       "                {}\n",
       "            ).addTo(map_ad365c133758fdc7093c9b58442d9de4);\n",
       "        \n",
       "    \n",
       "            var marker_788a677fa1e7eeaecdc9896124682778 = L.marker(\n",
       "                [34.06, -118.24],\n",
       "                {}\n",
       "            ).addTo(map_ad365c133758fdc7093c9b58442d9de4);\n",
       "        \n",
       "    \n",
       "            var marker_d1f4ee140a195d3a878462310aefa224 = L.marker(\n",
       "                [34.05, -118.26],\n",
       "                {}\n",
       "            ).addTo(map_ad365c133758fdc7093c9b58442d9de4);\n",
       "        \n",
       "    \n",
       "            var marker_50082a34f8216edd0f315467221ed29b = L.marker(\n",
       "                [34.05, -118.26],\n",
       "                {}\n",
       "            ).addTo(map_ad365c133758fdc7093c9b58442d9de4);\n",
       "        \n",
       "    \n",
       "            var marker_9289b4ba4cef5e6c46653f6fa67ec484 = L.marker(\n",
       "                [34.04, -118.24],\n",
       "                {}\n",
       "            ).addTo(map_ad365c133758fdc7093c9b58442d9de4);\n",
       "        \n",
       "    \n",
       "            var marker_d324c3cb7246bd1522b97eb289ee55d2 = L.marker(\n",
       "                [33.81, -118.31],\n",
       "                {}\n",
       "            ).addTo(map_ad365c133758fdc7093c9b58442d9de4);\n",
       "        \n",
       "    \n",
       "            var marker_c5fcd28a04ee482ed60ebe045930e730 = L.marker(\n",
       "                [34.05, -118.26],\n",
       "                {}\n",
       "            ).addTo(map_ad365c133758fdc7093c9b58442d9de4);\n",
       "        \n",
       "    \n",
       "            var marker_64785b2eb004aaaf3bc5218ba8f5106d = L.marker(\n",
       "                [34.01, -118.45],\n",
       "                {}\n",
       "            ).addTo(map_ad365c133758fdc7093c9b58442d9de4);\n",
       "        \n",
       "    \n",
       "            var marker_fa37d7c12536ee316fc67ce66bff9ade = L.marker(\n",
       "                [34.05, -118.24],\n",
       "                {}\n",
       "            ).addTo(map_ad365c133758fdc7093c9b58442d9de4);\n",
       "        \n",
       "    \n",
       "            var marker_936c97cf70ae8197ff9d011c28147bfb = L.marker(\n",
       "                [34.05, -118.25],\n",
       "                {}\n",
       "            ).addTo(map_ad365c133758fdc7093c9b58442d9de4);\n",
       "        \n",
       "    \n",
       "            var marker_b601b33d49628c3057eacf2311371595 = L.marker(\n",
       "                [34.04, -118.25],\n",
       "                {}\n",
       "            ).addTo(map_ad365c133758fdc7093c9b58442d9de4);\n",
       "        \n",
       "    \n",
       "            var marker_daa710bd38a7bfca2451f374e62d4e71 = L.marker(\n",
       "                [34.05, -118.24],\n",
       "                {}\n",
       "            ).addTo(map_ad365c133758fdc7093c9b58442d9de4);\n",
       "        \n",
       "    \n",
       "            var marker_aabbce5db5de052a68d5201169a1db18 = L.marker(\n",
       "                [34.04, -118.27],\n",
       "                {}\n",
       "            ).addTo(map_ad365c133758fdc7093c9b58442d9de4);\n",
       "        \n",
       "    \n",
       "            var marker_b7e96a994935690e4c5655f9bd35345a = L.marker(\n",
       "                [34.05, -118.26],\n",
       "                {}\n",
       "            ).addTo(map_ad365c133758fdc7093c9b58442d9de4);\n",
       "        \n",
       "    \n",
       "            var marker_337ee9cabb24517ee612719e425608d0 = L.marker(\n",
       "                [34.04, -118.25],\n",
       "                {}\n",
       "            ).addTo(map_ad365c133758fdc7093c9b58442d9de4);\n",
       "        \n",
       "    \n",
       "            var marker_6cb06d321a8b4a9fa6ff302497fc40cf = L.marker(\n",
       "                [34.05, -118.24],\n",
       "                {}\n",
       "            ).addTo(map_ad365c133758fdc7093c9b58442d9de4);\n",
       "        \n",
       "    \n",
       "            var marker_10f4c387e5ebc8426a9ec777b28663f5 = L.marker(\n",
       "                [34.05, -118.25],\n",
       "                {}\n",
       "            ).addTo(map_ad365c133758fdc7093c9b58442d9de4);\n",
       "        \n",
       "    \n",
       "            var marker_949fa92695f97021dfa4c7c0ac5c936b = L.marker(\n",
       "                [34.05, -118.26],\n",
       "                {}\n",
       "            ).addTo(map_ad365c133758fdc7093c9b58442d9de4);\n",
       "        \n",
       "    \n",
       "            var marker_10b534c17f74d4f79e529cda7348cb71 = L.marker(\n",
       "                [34.05, -118.26],\n",
       "                {}\n",
       "            ).addTo(map_ad365c133758fdc7093c9b58442d9de4);\n",
       "        \n",
       "    \n",
       "            var marker_8395147f6fb745b17f5be1adc029159d = L.marker(\n",
       "                [34.04, -118.24],\n",
       "                {}\n",
       "            ).addTo(map_ad365c133758fdc7093c9b58442d9de4);\n",
       "        \n",
       "    \n",
       "            var marker_bb4697cbf0335cdfc36c3974d118999b = L.marker(\n",
       "                [34.05, -118.26],\n",
       "                {}\n",
       "            ).addTo(map_ad365c133758fdc7093c9b58442d9de4);\n",
       "        \n",
       "    \n",
       "            var marker_bd1fac6848c90d81b06d7f37e077e566 = L.marker(\n",
       "                [34.04, -118.24],\n",
       "                {}\n",
       "            ).addTo(map_ad365c133758fdc7093c9b58442d9de4);\n",
       "        \n",
       "    \n",
       "            var marker_ccf1b8b384012b139652ee1e0d492ff7 = L.marker(\n",
       "                [34.05, -118.25],\n",
       "                {}\n",
       "            ).addTo(map_ad365c133758fdc7093c9b58442d9de4);\n",
       "        \n",
       "    \n",
       "            var marker_d306d29908031c45496958b6e74636e2 = L.marker(\n",
       "                [34.05, -118.24],\n",
       "                {}\n",
       "            ).addTo(map_ad365c133758fdc7093c9b58442d9de4);\n",
       "        \n",
       "    \n",
       "            var marker_760ae27c48f068e4357170a2016719bc = L.marker(\n",
       "                [34.04, -118.23],\n",
       "                {}\n",
       "            ).addTo(map_ad365c133758fdc7093c9b58442d9de4);\n",
       "        \n",
       "    \n",
       "            var marker_bd7bbcfde912e225ba36bdb5a431d019 = L.marker(\n",
       "                [34.05, -118.26],\n",
       "                {}\n",
       "            ).addTo(map_ad365c133758fdc7093c9b58442d9de4);\n",
       "        \n",
       "    \n",
       "            var marker_e92f24006e5fc65edd870f3e71d45304 = L.marker(\n",
       "                [34.04, -118.26],\n",
       "                {}\n",
       "            ).addTo(map_ad365c133758fdc7093c9b58442d9de4);\n",
       "        \n",
       "    \n",
       "            var marker_a522875a1db0f2fae7af754c8a226b42 = L.marker(\n",
       "                [34.04, -118.26],\n",
       "                {}\n",
       "            ).addTo(map_ad365c133758fdc7093c9b58442d9de4);\n",
       "        \n",
       "    \n",
       "            var marker_70fa3d378c65715b2f075767fe2ad9ab = L.marker(\n",
       "                [34.08, -118.22],\n",
       "                {}\n",
       "            ).addTo(map_ad365c133758fdc7093c9b58442d9de4);\n",
       "        \n",
       "    \n",
       "            var marker_d25a6bc30367d652052b6bb6ebc2ed2b = L.marker(\n",
       "                [34.04, -118.25],\n",
       "                {}\n",
       "            ).addTo(map_ad365c133758fdc7093c9b58442d9de4);\n",
       "        \n",
       "    \n",
       "            var marker_ed217b8e889399f4338cf2898f1e07ce = L.marker(\n",
       "                [34.01, -118.3],\n",
       "                {}\n",
       "            ).addTo(map_ad365c133758fdc7093c9b58442d9de4);\n",
       "        \n",
       "    \n",
       "            var marker_25c79ca7ff2705923db42ad9b09c953b = L.marker(\n",
       "                [34.06, -118.24],\n",
       "                {}\n",
       "            ).addTo(map_ad365c133758fdc7093c9b58442d9de4);\n",
       "        \n",
       "    \n",
       "            var marker_75b70f5f9c428572ac11cb55e0c1f096 = L.marker(\n",
       "                [34.04, -118.25],\n",
       "                {}\n",
       "            ).addTo(map_ad365c133758fdc7093c9b58442d9de4);\n",
       "        \n",
       "    \n",
       "            var marker_b103c25981028febbd6c95a34e16f25a = L.marker(\n",
       "                [34.04, -118.26],\n",
       "                {}\n",
       "            ).addTo(map_ad365c133758fdc7093c9b58442d9de4);\n",
       "        \n",
       "    \n",
       "            var marker_6f4f9ba261d9339b273a1e0bc19e84b2 = L.marker(\n",
       "                [34.06, -118.38],\n",
       "                {}\n",
       "            ).addTo(map_ad365c133758fdc7093c9b58442d9de4);\n",
       "        \n",
       "    \n",
       "            var marker_876a2ef62e1e7e4be2d626aaebf8d948 = L.marker(\n",
       "                [34.05, -118.26],\n",
       "                {}\n",
       "            ).addTo(map_ad365c133758fdc7093c9b58442d9de4);\n",
       "        \n",
       "    \n",
       "            var marker_657c873f8347f0ad6979e16aef1b18f1 = L.marker(\n",
       "                [34.06, -118.24],\n",
       "                {}\n",
       "            ).addTo(map_ad365c133758fdc7093c9b58442d9de4);\n",
       "        \n",
       "    \n",
       "            var marker_11c8531efa681288a02a2e3230078456 = L.marker(\n",
       "                [34.04, -118.23],\n",
       "                {}\n",
       "            ).addTo(map_ad365c133758fdc7093c9b58442d9de4);\n",
       "        \n",
       "    \n",
       "            var marker_00ab67ec4af741a1676a24bf59626c9d = L.marker(\n",
       "                [34.05, -118.26],\n",
       "                {}\n",
       "            ).addTo(map_ad365c133758fdc7093c9b58442d9de4);\n",
       "        \n",
       "    \n",
       "            var marker_fd2e9d3af321f611957e4b289f608b26 = L.marker(\n",
       "                [34.04, -118.25],\n",
       "                {}\n",
       "            ).addTo(map_ad365c133758fdc7093c9b58442d9de4);\n",
       "        \n",
       "    \n",
       "            var marker_944b5ed6144d00e016df95efc7c5851a = L.marker(\n",
       "                [34.05, -118.26],\n",
       "                {}\n",
       "            ).addTo(map_ad365c133758fdc7093c9b58442d9de4);\n",
       "        \n",
       "    \n",
       "            var marker_600cad154509a0bd83bbfd2ffd8a2bf6 = L.marker(\n",
       "                [34.05, -118.25],\n",
       "                {}\n",
       "            ).addTo(map_ad365c133758fdc7093c9b58442d9de4);\n",
       "        \n",
       "    \n",
       "            var marker_adce6a31f3fe837abfa08df1719c6ed9 = L.marker(\n",
       "                [34.05, -118.25],\n",
       "                {}\n",
       "            ).addTo(map_ad365c133758fdc7093c9b58442d9de4);\n",
       "        \n",
       "    \n",
       "            var marker_99cf141d8be7efee1808cd0354baf348 = L.marker(\n",
       "                [34.05, -118.26],\n",
       "                {}\n",
       "            ).addTo(map_ad365c133758fdc7093c9b58442d9de4);\n",
       "        \n",
       "    \n",
       "            var marker_29f2a3ab957e945f3cbf03fb02ace2e6 = L.marker(\n",
       "                [34.06, -118.24],\n",
       "                {}\n",
       "            ).addTo(map_ad365c133758fdc7093c9b58442d9de4);\n",
       "        \n",
       "    \n",
       "            var marker_22bbe1661f0dd59b6cd5044386afdcb4 = L.marker(\n",
       "                [34.05, -118.25],\n",
       "                {}\n",
       "            ).addTo(map_ad365c133758fdc7093c9b58442d9de4);\n",
       "        \n",
       "    \n",
       "            var marker_30f633012777544b1e6bbe33454d7fea = L.marker(\n",
       "                [34.04, -118.25],\n",
       "                {}\n",
       "            ).addTo(map_ad365c133758fdc7093c9b58442d9de4);\n",
       "        \n",
       "    \n",
       "            var marker_977ca45901b354df4dff6fd56f4e3ff3 = L.marker(\n",
       "                [34.07, -118.25],\n",
       "                {}\n",
       "            ).addTo(map_ad365c133758fdc7093c9b58442d9de4);\n",
       "        \n",
       "    \n",
       "            var marker_d7465bcf7c7daac76cb44efb808a72fc = L.marker(\n",
       "                [34.07, -118.23],\n",
       "                {}\n",
       "            ).addTo(map_ad365c133758fdc7093c9b58442d9de4);\n",
       "        \n",
       "    \n",
       "            var marker_f9aa0015a88ce2b2adce88068bbb3928 = L.marker(\n",
       "                [34.05, -118.26],\n",
       "                {}\n",
       "            ).addTo(map_ad365c133758fdc7093c9b58442d9de4);\n",
       "        \n",
       "    \n",
       "            var marker_23c975d40992b0f62145b697dccccb58 = L.marker(\n",
       "                [34.05, -118.25],\n",
       "                {}\n",
       "            ).addTo(map_ad365c133758fdc7093c9b58442d9de4);\n",
       "        \n",
       "    \n",
       "            var marker_ac96c70af05243c07de0fb05c61bd9ac = L.marker(\n",
       "                [34.04, -118.25],\n",
       "                {}\n",
       "            ).addTo(map_ad365c133758fdc7093c9b58442d9de4);\n",
       "        \n",
       "    \n",
       "            var marker_af4844a5c967f108a266dda891da3b3f = L.marker(\n",
       "                [34.06, -118.24],\n",
       "                {}\n",
       "            ).addTo(map_ad365c133758fdc7093c9b58442d9de4);\n",
       "        \n",
       "    \n",
       "            var marker_7189c89613284525daaee2a6770570a6 = L.marker(\n",
       "                [34.04, -118.25],\n",
       "                {}\n",
       "            ).addTo(map_ad365c133758fdc7093c9b58442d9de4);\n",
       "        \n",
       "    \n",
       "            var marker_e70af570ee90c75fe0ad2a4c29761b5f = L.marker(\n",
       "                [34.05, -118.26],\n",
       "                {}\n",
       "            ).addTo(map_ad365c133758fdc7093c9b58442d9de4);\n",
       "        \n",
       "    \n",
       "            var marker_8277861a75118d538bb92e6790e8f765 = L.marker(\n",
       "                [34.05, -118.24],\n",
       "                {}\n",
       "            ).addTo(map_ad365c133758fdc7093c9b58442d9de4);\n",
       "        \n",
       "    \n",
       "            var marker_a6550166810fe3f318cc19d307a11c6c = L.marker(\n",
       "                [34.04, -118.25],\n",
       "                {}\n",
       "            ).addTo(map_ad365c133758fdc7093c9b58442d9de4);\n",
       "        \n",
       "    \n",
       "            var marker_165d579e944904665bd977777bd5c465 = L.marker(\n",
       "                [34.04, -118.25],\n",
       "                {}\n",
       "            ).addTo(map_ad365c133758fdc7093c9b58442d9de4);\n",
       "        \n",
       "    \n",
       "            var marker_9aaeaa16895e35f315074e41cee480b2 = L.marker(\n",
       "                [34.04, -118.25],\n",
       "                {}\n",
       "            ).addTo(map_ad365c133758fdc7093c9b58442d9de4);\n",
       "        \n",
       "    \n",
       "            var marker_bf692e2776d3407dc66dbecfbf530103 = L.marker(\n",
       "                [34.04, -118.27],\n",
       "                {}\n",
       "            ).addTo(map_ad365c133758fdc7093c9b58442d9de4);\n",
       "        \n",
       "    \n",
       "            var marker_a5ae3fe614743ad1f13a80760cd50516 = L.marker(\n",
       "                [34.06, -118.24],\n",
       "                {}\n",
       "            ).addTo(map_ad365c133758fdc7093c9b58442d9de4);\n",
       "        \n",
       "    \n",
       "            var marker_c8771715d82d6e831ae504a2d5d03fd2 = L.marker(\n",
       "                [34.05, -118.25],\n",
       "                {}\n",
       "            ).addTo(map_ad365c133758fdc7093c9b58442d9de4);\n",
       "        \n",
       "    \n",
       "            var marker_7c50acd5f44fc0c9c6e81e5f2dfa8faa = L.marker(\n",
       "                [34.05, -118.25],\n",
       "                {}\n",
       "            ).addTo(map_ad365c133758fdc7093c9b58442d9de4);\n",
       "        \n",
       "    \n",
       "            var marker_10039f446bf63609614656af90d422fa = L.marker(\n",
       "                [34.06, -118.24],\n",
       "                {}\n",
       "            ).addTo(map_ad365c133758fdc7093c9b58442d9de4);\n",
       "        \n",
       "    \n",
       "            var marker_641a63432bafe4b640513c82beae2df6 = L.marker(\n",
       "                [34.04, -118.24],\n",
       "                {}\n",
       "            ).addTo(map_ad365c133758fdc7093c9b58442d9de4);\n",
       "        \n",
       "    \n",
       "            var marker_b1f6ea6e3eaf487886d745f7b9366b80 = L.marker(\n",
       "                [34.06, -118.24],\n",
       "                {}\n",
       "            ).addTo(map_ad365c133758fdc7093c9b58442d9de4);\n",
       "        \n",
       "    \n",
       "            var marker_853064945ff9882bc01cecba412e9ad7 = L.marker(\n",
       "                [34.04, -118.21],\n",
       "                {}\n",
       "            ).addTo(map_ad365c133758fdc7093c9b58442d9de4);\n",
       "        \n",
       "    \n",
       "            var marker_7f90e42546259ffb3d84e463d6a50672 = L.marker(\n",
       "                [34.04, -118.26],\n",
       "                {}\n",
       "            ).addTo(map_ad365c133758fdc7093c9b58442d9de4);\n",
       "        \n",
       "    \n",
       "            var marker_fc28d5ef2ed0bfebf0208c07a02c0198 = L.marker(\n",
       "                [34.05, -118.25],\n",
       "                {}\n",
       "            ).addTo(map_ad365c133758fdc7093c9b58442d9de4);\n",
       "        \n",
       "    \n",
       "            var marker_ac23d54672b8dd3b4367a8eef841dc91 = L.marker(\n",
       "                [34.04, -118.26],\n",
       "                {}\n",
       "            ).addTo(map_ad365c133758fdc7093c9b58442d9de4);\n",
       "        \n",
       "    \n",
       "            var marker_2c559273090e7b6ee906d24ebfdb9926 = L.marker(\n",
       "                [34.03, -118.26],\n",
       "                {}\n",
       "            ).addTo(map_ad365c133758fdc7093c9b58442d9de4);\n",
       "        \n",
       "    \n",
       "            var marker_1e690e77e3a5a9fbc27d23b35b128b08 = L.marker(\n",
       "                [34.05, -118.26],\n",
       "                {}\n",
       "            ).addTo(map_ad365c133758fdc7093c9b58442d9de4);\n",
       "        \n",
       "    \n",
       "            var marker_1a91c82366ceb1fb8a9d904e105466e5 = L.marker(\n",
       "                [34.05, -118.25],\n",
       "                {}\n",
       "            ).addTo(map_ad365c133758fdc7093c9b58442d9de4);\n",
       "        \n",
       "    \n",
       "            var marker_6992c678f168cf4a9acdce23b89e86b9 = L.marker(\n",
       "                [34.05, -118.25],\n",
       "                {}\n",
       "            ).addTo(map_ad365c133758fdc7093c9b58442d9de4);\n",
       "        \n",
       "    \n",
       "            var marker_bdbcb66d08791e85d65ec48d8dc80716 = L.marker(\n",
       "                [34.11, -118.42],\n",
       "                {}\n",
       "            ).addTo(map_ad365c133758fdc7093c9b58442d9de4);\n",
       "        \n",
       "    \n",
       "            var marker_6a991b0cb455433b47480960e0ece16c = L.marker(\n",
       "                [34.05, -118.24],\n",
       "                {}\n",
       "            ).addTo(map_ad365c133758fdc7093c9b58442d9de4);\n",
       "        \n",
       "    \n",
       "            var marker_65daa38dbb5759b61f83a970e8c9a105 = L.marker(\n",
       "                [34.06, -118.24],\n",
       "                {}\n",
       "            ).addTo(map_ad365c133758fdc7093c9b58442d9de4);\n",
       "        \n",
       "    \n",
       "            var marker_a1745ff989cabbe551ba4260a1539226 = L.marker(\n",
       "                [34.04, -118.25],\n",
       "                {}\n",
       "            ).addTo(map_ad365c133758fdc7093c9b58442d9de4);\n",
       "        \n",
       "    \n",
       "            var marker_0d6da2976c093ff1c765330c131acd1e = L.marker(\n",
       "                [34.06, -118.24],\n",
       "                {}\n",
       "            ).addTo(map_ad365c133758fdc7093c9b58442d9de4);\n",
       "        \n",
       "    \n",
       "            var marker_7c9e50734f83f7fbf9fe9f2d54c4f560 = L.marker(\n",
       "                [34.04, -118.23],\n",
       "                {}\n",
       "            ).addTo(map_ad365c133758fdc7093c9b58442d9de4);\n",
       "        \n",
       "    \n",
       "            var marker_188edc98cf3def2854c5b882f2d720bb = L.marker(\n",
       "                [34.05, -118.26],\n",
       "                {}\n",
       "            ).addTo(map_ad365c133758fdc7093c9b58442d9de4);\n",
       "        \n",
       "    \n",
       "            var marker_ea675e0e648e3c6bda3a079a8fdc73ee = L.marker(\n",
       "                [34.04, -118.24],\n",
       "                {}\n",
       "            ).addTo(map_ad365c133758fdc7093c9b58442d9de4);\n",
       "        \n",
       "    \n",
       "            var marker_0e171ab126c16ec7ce2564021b6ebb2f = L.marker(\n",
       "                [34.05, -118.25],\n",
       "                {}\n",
       "            ).addTo(map_ad365c133758fdc7093c9b58442d9de4);\n",
       "        \n",
       "    \n",
       "            var marker_3a3769e1d5a5799fd8e416c90f465424 = L.marker(\n",
       "                [34.05, -118.26],\n",
       "                {}\n",
       "            ).addTo(map_ad365c133758fdc7093c9b58442d9de4);\n",
       "        \n",
       "    \n",
       "            var marker_5153052e62e3266ae182134c10544952 = L.marker(\n",
       "                [34.05, -118.25],\n",
       "                {}\n",
       "            ).addTo(map_ad365c133758fdc7093c9b58442d9de4);\n",
       "        \n",
       "    \n",
       "            var marker_85552c6e33c8363631ed2d1a55a7a456 = L.marker(\n",
       "                [34.04, -118.25],\n",
       "                {}\n",
       "            ).addTo(map_ad365c133758fdc7093c9b58442d9de4);\n",
       "        \n",
       "    \n",
       "            var marker_ebe2bd095ba49e8f8a7f054744ac069b = L.marker(\n",
       "                [34.06, -118.25],\n",
       "                {}\n",
       "            ).addTo(map_ad365c133758fdc7093c9b58442d9de4);\n",
       "        \n",
       "    \n",
       "            var marker_c038a01570af1f22a7c73876a4fb8e30 = L.marker(\n",
       "                [34.05, -118.26],\n",
       "                {}\n",
       "            ).addTo(map_ad365c133758fdc7093c9b58442d9de4);\n",
       "        \n",
       "    \n",
       "            var marker_1d0b61cee33c7fb8155373cd27d8b14d = L.marker(\n",
       "                [34.03, -118.26],\n",
       "                {}\n",
       "            ).addTo(map_ad365c133758fdc7093c9b58442d9de4);\n",
       "        \n",
       "    \n",
       "            var marker_4c87d7f1ac84e4e8b493b70e30394c7f = L.marker(\n",
       "                [34.04, -118.26],\n",
       "                {}\n",
       "            ).addTo(map_ad365c133758fdc7093c9b58442d9de4);\n",
       "        \n",
       "    \n",
       "            var marker_3f3e179a0384d09ef3c313049f892bdc = L.marker(\n",
       "                [34.12, -118.19],\n",
       "                {}\n",
       "            ).addTo(map_ad365c133758fdc7093c9b58442d9de4);\n",
       "        \n",
       "    \n",
       "            var marker_909773966537996380e71aa864411667 = L.marker(\n",
       "                [34.05, -118.26],\n",
       "                {}\n",
       "            ).addTo(map_ad365c133758fdc7093c9b58442d9de4);\n",
       "        \n",
       "    \n",
       "            var marker_76869594f600f8f869a69d3d08934c76 = L.marker(\n",
       "                [34.05, -118.25],\n",
       "                {}\n",
       "            ).addTo(map_ad365c133758fdc7093c9b58442d9de4);\n",
       "        \n",
       "    \n",
       "            var marker_28713c1bf92fa387331affbc2db05956 = L.marker(\n",
       "                [34.05, -118.26],\n",
       "                {}\n",
       "            ).addTo(map_ad365c133758fdc7093c9b58442d9de4);\n",
       "        \n",
       "    \n",
       "            var marker_48937a7e2987205fb1359de05cbccbcc = L.marker(\n",
       "                [34.05, -118.26],\n",
       "                {}\n",
       "            ).addTo(map_ad365c133758fdc7093c9b58442d9de4);\n",
       "        \n",
       "    \n",
       "            var marker_f3d6781f2e6c97b7c8c4d1d277d32c7a = L.marker(\n",
       "                [34.04, -118.27],\n",
       "                {}\n",
       "            ).addTo(map_ad365c133758fdc7093c9b58442d9de4);\n",
       "        \n",
       "    \n",
       "            var marker_60966abcdc9c220e51c7e0d7429037d6 = L.marker(\n",
       "                [34.06, -118.24],\n",
       "                {}\n",
       "            ).addTo(map_ad365c133758fdc7093c9b58442d9de4);\n",
       "        \n",
       "    \n",
       "            var marker_cbf6363a7a9c613a8699b51bd255c592 = L.marker(\n",
       "                [34.05, -118.26],\n",
       "                {}\n",
       "            ).addTo(map_ad365c133758fdc7093c9b58442d9de4);\n",
       "        \n",
       "    \n",
       "            var marker_fe5dcc2b22d4e901288e8500b690881f = L.marker(\n",
       "                [34.05, -118.25],\n",
       "                {}\n",
       "            ).addTo(map_ad365c133758fdc7093c9b58442d9de4);\n",
       "        \n",
       "    \n",
       "            var marker_885e9521dd19f86a478c6abed7272495 = L.marker(\n",
       "                [34.05, -118.25],\n",
       "                {}\n",
       "            ).addTo(map_ad365c133758fdc7093c9b58442d9de4);\n",
       "        \n",
       "    \n",
       "            var marker_1d6c5f49cf6636aa3d3100a15d046fc7 = L.marker(\n",
       "                [34.04, -118.24],\n",
       "                {}\n",
       "            ).addTo(map_ad365c133758fdc7093c9b58442d9de4);\n",
       "        \n",
       "    \n",
       "            var marker_e76ebaa09b8ab42ce4129e30ccade5ae = L.marker(\n",
       "                [34.04, -118.27],\n",
       "                {}\n",
       "            ).addTo(map_ad365c133758fdc7093c9b58442d9de4);\n",
       "        \n",
       "    \n",
       "            var marker_580829e8537c01dbf00835c7a605b1fe = L.marker(\n",
       "                [34.04, -118.25],\n",
       "                {}\n",
       "            ).addTo(map_ad365c133758fdc7093c9b58442d9de4);\n",
       "        \n",
       "    \n",
       "            var marker_213b788150469bfbe48f8f03b71f9cfe = L.marker(\n",
       "                [34.04, -118.26],\n",
       "                {}\n",
       "            ).addTo(map_ad365c133758fdc7093c9b58442d9de4);\n",
       "        \n",
       "    \n",
       "            var marker_b2b9901cb3aeb489f670758583db2db2 = L.marker(\n",
       "                [34.05, -118.24],\n",
       "                {}\n",
       "            ).addTo(map_ad365c133758fdc7093c9b58442d9de4);\n",
       "        \n",
       "    \n",
       "            var marker_c6e2801a58b3497a885a46977c7bef49 = L.marker(\n",
       "                [34.04, -118.25],\n",
       "                {}\n",
       "            ).addTo(map_ad365c133758fdc7093c9b58442d9de4);\n",
       "        \n",
       "    \n",
       "            var marker_271d28b41cd7802509eb749c0f254474 = L.marker(\n",
       "                [34.05, -118.24],\n",
       "                {}\n",
       "            ).addTo(map_ad365c133758fdc7093c9b58442d9de4);\n",
       "        \n",
       "    \n",
       "            var marker_4801bf3cddf5bbc0cb4ecb9f78017c25 = L.marker(\n",
       "                [34.04, -118.27],\n",
       "                {}\n",
       "            ).addTo(map_ad365c133758fdc7093c9b58442d9de4);\n",
       "        \n",
       "    \n",
       "            var marker_29b90e43894945434073bace74cdcf4a = L.marker(\n",
       "                [34.05, -118.26],\n",
       "                {}\n",
       "            ).addTo(map_ad365c133758fdc7093c9b58442d9de4);\n",
       "        \n",
       "    \n",
       "            var marker_515ac922e39e8626f98c3d1289965ccf = L.marker(\n",
       "                [34.05, -118.26],\n",
       "                {}\n",
       "            ).addTo(map_ad365c133758fdc7093c9b58442d9de4);\n",
       "        \n",
       "    \n",
       "            var marker_82daacd267b3ac6411c2cd692e6543ba = L.marker(\n",
       "                [34.04, -118.27],\n",
       "                {}\n",
       "            ).addTo(map_ad365c133758fdc7093c9b58442d9de4);\n",
       "        \n",
       "    \n",
       "            var marker_b1baff1e635d97bd1e9e6c6be38bffc3 = L.marker(\n",
       "                [34.05, -118.26],\n",
       "                {}\n",
       "            ).addTo(map_ad365c133758fdc7093c9b58442d9de4);\n",
       "        \n",
       "    \n",
       "            var marker_cfd058b9ed0451d7d9b6b94202216bbd = L.marker(\n",
       "                [34.05, -118.24],\n",
       "                {}\n",
       "            ).addTo(map_ad365c133758fdc7093c9b58442d9de4);\n",
       "        \n",
       "    \n",
       "            var marker_510bb1f5bf3fd40118dec46930a7bf9d = L.marker(\n",
       "                [34.05, -118.26],\n",
       "                {}\n",
       "            ).addTo(map_ad365c133758fdc7093c9b58442d9de4);\n",
       "        \n",
       "    \n",
       "            var marker_5c9fb7e8c2e7efb070a58c46ca17014b = L.marker(\n",
       "                [34.04, -118.24],\n",
       "                {}\n",
       "            ).addTo(map_ad365c133758fdc7093c9b58442d9de4);\n",
       "        \n",
       "    \n",
       "            var marker_93c87bf520495fd5a77e139b83b22618 = L.marker(\n",
       "                [34.07, -118.23],\n",
       "                {}\n",
       "            ).addTo(map_ad365c133758fdc7093c9b58442d9de4);\n",
       "        \n",
       "    \n",
       "            var marker_16d90a0f0a5e4d609cf1a2e09b73ad7c = L.marker(\n",
       "                [34.06, -118.23],\n",
       "                {}\n",
       "            ).addTo(map_ad365c133758fdc7093c9b58442d9de4);\n",
       "        \n",
       "    \n",
       "            var marker_ec284b73f4f7de31203a58a728ab82cc = L.marker(\n",
       "                [34.06, -118.23],\n",
       "                {}\n",
       "            ).addTo(map_ad365c133758fdc7093c9b58442d9de4);\n",
       "        \n",
       "    \n",
       "            var marker_56777a9132773cd561f4d9bdbc786d20 = L.marker(\n",
       "                [34.05, -118.26],\n",
       "                {}\n",
       "            ).addTo(map_ad365c133758fdc7093c9b58442d9de4);\n",
       "        \n",
       "    \n",
       "            var marker_7c1c4e535be3ca26a6b35b6f3729a674 = L.marker(\n",
       "                [34.05, -118.24],\n",
       "                {}\n",
       "            ).addTo(map_ad365c133758fdc7093c9b58442d9de4);\n",
       "        \n",
       "    \n",
       "            var marker_836aaafd075b8296551831a632d47393 = L.marker(\n",
       "                [34.06, -118.25],\n",
       "                {}\n",
       "            ).addTo(map_ad365c133758fdc7093c9b58442d9de4);\n",
       "        \n",
       "    \n",
       "            var marker_69cb6eed54f41df68359043a6609d395 = L.marker(\n",
       "                [34.05, -118.25],\n",
       "                {}\n",
       "            ).addTo(map_ad365c133758fdc7093c9b58442d9de4);\n",
       "        \n",
       "    \n",
       "            var marker_12e33d3130e13bfda4beadbeced23fab = L.marker(\n",
       "                [34.05, -118.27],\n",
       "                {}\n",
       "            ).addTo(map_ad365c133758fdc7093c9b58442d9de4);\n",
       "        \n",
       "    \n",
       "            var marker_b62ee52ae2d40188ce5ec1d41276ec61 = L.marker(\n",
       "                [34.04, -118.27],\n",
       "                {}\n",
       "            ).addTo(map_ad365c133758fdc7093c9b58442d9de4);\n",
       "        \n",
       "    \n",
       "            var marker_7e96c99cf3f41bdb07c336f6b2411a59 = L.marker(\n",
       "                [34.05, -118.26],\n",
       "                {}\n",
       "            ).addTo(map_ad365c133758fdc7093c9b58442d9de4);\n",
       "        \n",
       "    \n",
       "            var marker_84353146f268a4615768df959bc00ee8 = L.marker(\n",
       "                [34.07, -118.25],\n",
       "                {}\n",
       "            ).addTo(map_ad365c133758fdc7093c9b58442d9de4);\n",
       "        \n",
       "    \n",
       "            var marker_8eaa5e54ffa2def34613f8bd84e0fb74 = L.marker(\n",
       "                [34.05, -118.26],\n",
       "                {}\n",
       "            ).addTo(map_ad365c133758fdc7093c9b58442d9de4);\n",
       "        \n",
       "    \n",
       "            var marker_df1abea16d8d0cda58c99d3ae443c7ae = L.marker(\n",
       "                [34.04, -118.26],\n",
       "                {}\n",
       "            ).addTo(map_ad365c133758fdc7093c9b58442d9de4);\n",
       "        \n",
       "    \n",
       "            var marker_4f7bc541a3d120a4cc78c38c1d6917da = L.marker(\n",
       "                [34.05, -118.25],\n",
       "                {}\n",
       "            ).addTo(map_ad365c133758fdc7093c9b58442d9de4);\n",
       "        \n",
       "    \n",
       "            var marker_53c354eff6c71e696aa65dbb200a1666 = L.marker(\n",
       "                [34.05, -118.24],\n",
       "                {}\n",
       "            ).addTo(map_ad365c133758fdc7093c9b58442d9de4);\n",
       "        \n",
       "    \n",
       "            var marker_3711428dec76224781f87175a48af7ed = L.marker(\n",
       "                [34.04, -118.25],\n",
       "                {}\n",
       "            ).addTo(map_ad365c133758fdc7093c9b58442d9de4);\n",
       "        \n",
       "    \n",
       "            var marker_2724f382dfc34fcc2eb2b1c45c39cbef = L.marker(\n",
       "                [34.04, -118.26],\n",
       "                {}\n",
       "            ).addTo(map_ad365c133758fdc7093c9b58442d9de4);\n",
       "        \n",
       "    \n",
       "            var marker_3d196523f4dec1199b84c51aabc2d201 = L.marker(\n",
       "                [34.04, -118.26],\n",
       "                {}\n",
       "            ).addTo(map_ad365c133758fdc7093c9b58442d9de4);\n",
       "        \n",
       "    \n",
       "            var marker_5522d7b3194217da5f16c763be4fcc4e = L.marker(\n",
       "                [34.04, -118.24],\n",
       "                {}\n",
       "            ).addTo(map_ad365c133758fdc7093c9b58442d9de4);\n",
       "        \n",
       "    \n",
       "            var marker_bcd3477971285bf150963be1033777ac = L.marker(\n",
       "                [34.05, -118.24],\n",
       "                {}\n",
       "            ).addTo(map_ad365c133758fdc7093c9b58442d9de4);\n",
       "        \n",
       "    \n",
       "            var marker_129725d0a2f8d66f7282c97d8c266cdc = L.marker(\n",
       "                [34.04, -118.25],\n",
       "                {}\n",
       "            ).addTo(map_ad365c133758fdc7093c9b58442d9de4);\n",
       "        \n",
       "    \n",
       "            var marker_77f73889df3f3ee1502972361b32d845 = L.marker(\n",
       "                [34.04, -118.27],\n",
       "                {}\n",
       "            ).addTo(map_ad365c133758fdc7093c9b58442d9de4);\n",
       "        \n",
       "    \n",
       "            var marker_202f34c7a7365463cd453c7e4879f7cf = L.marker(\n",
       "                [34.27, -118.36],\n",
       "                {}\n",
       "            ).addTo(map_ad365c133758fdc7093c9b58442d9de4);\n",
       "        \n",
       "    \n",
       "            var marker_a1794dae5d39fbb065d68ef6b42f6c63 = L.marker(\n",
       "                [34.05, -118.24],\n",
       "                {}\n",
       "            ).addTo(map_ad365c133758fdc7093c9b58442d9de4);\n",
       "        \n",
       "    \n",
       "            var marker_4847ebe0a7851330d72296accaa25056 = L.marker(\n",
       "                [34.05, -118.24],\n",
       "                {}\n",
       "            ).addTo(map_ad365c133758fdc7093c9b58442d9de4);\n",
       "        \n",
       "    \n",
       "            var marker_e76cf5488c62aa017d00115a6ddc3e03 = L.marker(\n",
       "                [34.05, -118.26],\n",
       "                {}\n",
       "            ).addTo(map_ad365c133758fdc7093c9b58442d9de4);\n",
       "        \n",
       "    \n",
       "            var marker_311a48f48126b6814e59ff690f78abbc = L.marker(\n",
       "                [34.04, -118.27],\n",
       "                {}\n",
       "            ).addTo(map_ad365c133758fdc7093c9b58442d9de4);\n",
       "        \n",
       "    \n",
       "            var marker_df39d710afe89730aaebac6e14b13759 = L.marker(\n",
       "                [34.05, -118.24],\n",
       "                {}\n",
       "            ).addTo(map_ad365c133758fdc7093c9b58442d9de4);\n",
       "        \n",
       "    \n",
       "            var marker_bc96ecbca2f29a3a6468f13c7756e2c2 = L.marker(\n",
       "                [34.06, -118.24],\n",
       "                {}\n",
       "            ).addTo(map_ad365c133758fdc7093c9b58442d9de4);\n",
       "        \n",
       "    \n",
       "            var marker_4ff79f959377c336d7ce77ea7697f412 = L.marker(\n",
       "                [34.05, -118.26],\n",
       "                {}\n",
       "            ).addTo(map_ad365c133758fdc7093c9b58442d9de4);\n",
       "        \n",
       "    \n",
       "            var marker_a100fe2251961c67cd998564590386fa = L.marker(\n",
       "                [34.04, -118.25],\n",
       "                {}\n",
       "            ).addTo(map_ad365c133758fdc7093c9b58442d9de4);\n",
       "        \n",
       "    \n",
       "            var marker_e599d19fae1325d3e1ff936fa2e19b55 = L.marker(\n",
       "                [34.05, -118.26],\n",
       "                {}\n",
       "            ).addTo(map_ad365c133758fdc7093c9b58442d9de4);\n",
       "        \n",
       "    \n",
       "            var marker_7c8a1969e6b5b4a636a76f7599078fbb = L.marker(\n",
       "                [34.06, -118.24],\n",
       "                {}\n",
       "            ).addTo(map_ad365c133758fdc7093c9b58442d9de4);\n",
       "        \n",
       "    \n",
       "            var marker_043eb6efdd4d5aed61f568fe78de1010 = L.marker(\n",
       "                [34.05, -118.25],\n",
       "                {}\n",
       "            ).addTo(map_ad365c133758fdc7093c9b58442d9de4);\n",
       "        \n",
       "    \n",
       "            var marker_f2f7bb159e9b83533d1cb76c888b972f = L.marker(\n",
       "                [34.05, -118.26],\n",
       "                {}\n",
       "            ).addTo(map_ad365c133758fdc7093c9b58442d9de4);\n",
       "        \n",
       "    \n",
       "            var marker_1ead7bb4200b43b30b755137e95b6ef3 = L.marker(\n",
       "                [34.07, -118.23],\n",
       "                {}\n",
       "            ).addTo(map_ad365c133758fdc7093c9b58442d9de4);\n",
       "        \n",
       "    \n",
       "            var marker_9fc54185c535f40ec690a35e2b61b5b7 = L.marker(\n",
       "                [34.06, -118.24],\n",
       "                {}\n",
       "            ).addTo(map_ad365c133758fdc7093c9b58442d9de4);\n",
       "        \n",
       "    \n",
       "            var marker_46e287bdcf2674c731512024e6497119 = L.marker(\n",
       "                [34.06, -118.24],\n",
       "                {}\n",
       "            ).addTo(map_ad365c133758fdc7093c9b58442d9de4);\n",
       "        \n",
       "    \n",
       "            var marker_dd02a2d7e9d872f4512ade46aafb8c15 = L.marker(\n",
       "                [34.04, -118.26],\n",
       "                {}\n",
       "            ).addTo(map_ad365c133758fdc7093c9b58442d9de4);\n",
       "        \n",
       "    \n",
       "            var marker_0e08d6ec48f7c87dafccf111b65f54dc = L.marker(\n",
       "                [34.03, -118.27],\n",
       "                {}\n",
       "            ).addTo(map_ad365c133758fdc7093c9b58442d9de4);\n",
       "        \n",
       "    \n",
       "            var marker_6d99d531e3011c92845864c6c3cbfda0 = L.marker(\n",
       "                [34.05, -118.26],\n",
       "                {}\n",
       "            ).addTo(map_ad365c133758fdc7093c9b58442d9de4);\n",
       "        \n",
       "    \n",
       "            var marker_9b5d4df8878e6861a5feac0d99dd3df9 = L.marker(\n",
       "                [34.05, -118.24],\n",
       "                {}\n",
       "            ).addTo(map_ad365c133758fdc7093c9b58442d9de4);\n",
       "        \n",
       "    \n",
       "            var marker_1e639c873fe1dea7e0b17f796c0af7d0 = L.marker(\n",
       "                [34.1, -118.33],\n",
       "                {}\n",
       "            ).addTo(map_ad365c133758fdc7093c9b58442d9de4);\n",
       "        \n",
       "    \n",
       "            var marker_aeb77d7fd9dce57acfe80b27139a8c10 = L.marker(\n",
       "                [34.1, -118.34],\n",
       "                {}\n",
       "            ).addTo(map_ad365c133758fdc7093c9b58442d9de4);\n",
       "        \n",
       "    \n",
       "            var marker_c2c388d49e428df892e9995ca6766179 = L.marker(\n",
       "                [34.02, -118.3],\n",
       "                {}\n",
       "            ).addTo(map_ad365c133758fdc7093c9b58442d9de4);\n",
       "        \n",
       "    \n",
       "            var marker_264c8a53483da7aebf49e5ca29420927 = L.marker(\n",
       "                [34.06, -118.24],\n",
       "                {}\n",
       "            ).addTo(map_ad365c133758fdc7093c9b58442d9de4);\n",
       "        \n",
       "    \n",
       "            var marker_fbd0ae051049e6079e37ec01e76b03a7 = L.marker(\n",
       "                [34.05, -118.26],\n",
       "                {}\n",
       "            ).addTo(map_ad365c133758fdc7093c9b58442d9de4);\n",
       "        \n",
       "    \n",
       "            var marker_68d3b7ef2b3ee37899e44fadb3197219 = L.marker(\n",
       "                [34.04, -118.26],\n",
       "                {}\n",
       "            ).addTo(map_ad365c133758fdc7093c9b58442d9de4);\n",
       "        \n",
       "    \n",
       "            var marker_b8dead63455f174ee9d2c959f492eb16 = L.marker(\n",
       "                [34.05, -118.26],\n",
       "                {}\n",
       "            ).addTo(map_ad365c133758fdc7093c9b58442d9de4);\n",
       "        \n",
       "    \n",
       "            var marker_ede1ecc693253c74ca8714ae78ef150e = L.marker(\n",
       "                [34.04, -118.25],\n",
       "                {}\n",
       "            ).addTo(map_ad365c133758fdc7093c9b58442d9de4);\n",
       "        \n",
       "    \n",
       "            var marker_a5ca883fedad567255731f73570e0cf8 = L.marker(\n",
       "                [34.05, -118.26],\n",
       "                {}\n",
       "            ).addTo(map_ad365c133758fdc7093c9b58442d9de4);\n",
       "        \n",
       "    \n",
       "            var marker_889d35ed19767dc2e440fedf0f68a060 = L.marker(\n",
       "                [34.05, -118.26],\n",
       "                {}\n",
       "            ).addTo(map_ad365c133758fdc7093c9b58442d9de4);\n",
       "        \n",
       "    \n",
       "            var marker_5eb848a66e4103e3823ef86a16a17c0e = L.marker(\n",
       "                [34.04, -118.25],\n",
       "                {}\n",
       "            ).addTo(map_ad365c133758fdc7093c9b58442d9de4);\n",
       "        \n",
       "    \n",
       "            var marker_8612e271ebd54c3c5ab1419e44455343 = L.marker(\n",
       "                [34.23, -118.37],\n",
       "                {}\n",
       "            ).addTo(map_ad365c133758fdc7093c9b58442d9de4);\n",
       "        \n",
       "    \n",
       "            var marker_8a1664d5370f38b82bf9589894ce288a = L.marker(\n",
       "                [34.06, -118.24],\n",
       "                {}\n",
       "            ).addTo(map_ad365c133758fdc7093c9b58442d9de4);\n",
       "        \n",
       "    \n",
       "            var marker_5a5dba0a576a8c70b7351fc45d69e58f = L.marker(\n",
       "                [34.04, -118.25],\n",
       "                {}\n",
       "            ).addTo(map_ad365c133758fdc7093c9b58442d9de4);\n",
       "        \n",
       "    \n",
       "            var marker_a1917c54c836e68ae0d1454c958b1be3 = L.marker(\n",
       "                [34.05, -118.24],\n",
       "                {}\n",
       "            ).addTo(map_ad365c133758fdc7093c9b58442d9de4);\n",
       "        \n",
       "    \n",
       "            var marker_b6248d86b2dcc56be8bd14eea1d36077 = L.marker(\n",
       "                [34.04, -118.26],\n",
       "                {}\n",
       "            ).addTo(map_ad365c133758fdc7093c9b58442d9de4);\n",
       "        \n",
       "    \n",
       "            var marker_51b445b216d84460264268d79e1868c5 = L.marker(\n",
       "                [34.04, -118.27],\n",
       "                {}\n",
       "            ).addTo(map_ad365c133758fdc7093c9b58442d9de4);\n",
       "        \n",
       "    \n",
       "            var marker_d5266c1192b7fc457ff466fd2522bc2c = L.marker(\n",
       "                [34.05, -118.23],\n",
       "                {}\n",
       "            ).addTo(map_ad365c133758fdc7093c9b58442d9de4);\n",
       "        \n",
       "    \n",
       "            var marker_7f63764405e04f6d4d1303c83d9e9d20 = L.marker(\n",
       "                [34.05, -118.24],\n",
       "                {}\n",
       "            ).addTo(map_ad365c133758fdc7093c9b58442d9de4);\n",
       "        \n",
       "    \n",
       "            var marker_2949633b493b30a64398b83d3600a94a = L.marker(\n",
       "                [34.05, -118.25],\n",
       "                {}\n",
       "            ).addTo(map_ad365c133758fdc7093c9b58442d9de4);\n",
       "        \n",
       "    \n",
       "            var marker_6896307e30672e9721563e1ca27c9343 = L.marker(\n",
       "                [34.04, -118.24],\n",
       "                {}\n",
       "            ).addTo(map_ad365c133758fdc7093c9b58442d9de4);\n",
       "        \n",
       "    \n",
       "            var marker_79ed051be4168a34ed3b3b22baf86b37 = L.marker(\n",
       "                [34.04, -118.24],\n",
       "                {}\n",
       "            ).addTo(map_ad365c133758fdc7093c9b58442d9de4);\n",
       "        \n",
       "    \n",
       "            var marker_8b1509655bbe7674c685028222b69ec4 = L.marker(\n",
       "                [34.05, -118.25],\n",
       "                {}\n",
       "            ).addTo(map_ad365c133758fdc7093c9b58442d9de4);\n",
       "        \n",
       "    \n",
       "            var marker_245ec21790d8e64468c266a2ba00aa76 = L.marker(\n",
       "                [34.04, -118.26],\n",
       "                {}\n",
       "            ).addTo(map_ad365c133758fdc7093c9b58442d9de4);\n",
       "        \n",
       "    \n",
       "            var marker_6ec76cb8d1014a7c2d5dea7597a89c08 = L.marker(\n",
       "                [34.04, -118.24],\n",
       "                {}\n",
       "            ).addTo(map_ad365c133758fdc7093c9b58442d9de4);\n",
       "        \n",
       "    \n",
       "            var marker_c16127d8d2c9fbca930fbc4edcaa34d6 = L.marker(\n",
       "                [34.05, -118.26],\n",
       "                {}\n",
       "            ).addTo(map_ad365c133758fdc7093c9b58442d9de4);\n",
       "        \n",
       "    \n",
       "            var marker_67450e42a77c52cbd323824ab6001377 = L.marker(\n",
       "                [34.05, -118.25],\n",
       "                {}\n",
       "            ).addTo(map_ad365c133758fdc7093c9b58442d9de4);\n",
       "        \n",
       "    \n",
       "            var marker_28d7147d7a6f4f4668b8617c16026856 = L.marker(\n",
       "                [34.04, -118.23],\n",
       "                {}\n",
       "            ).addTo(map_ad365c133758fdc7093c9b58442d9de4);\n",
       "        \n",
       "    \n",
       "            var marker_f1c41e45926e59421405f12010cf653b = L.marker(\n",
       "                [34.05, -118.24],\n",
       "                {}\n",
       "            ).addTo(map_ad365c133758fdc7093c9b58442d9de4);\n",
       "        \n",
       "    \n",
       "            var marker_606545718e9760cfb33e6f12b83cb8fb = L.marker(\n",
       "                [34.06, -118.27],\n",
       "                {}\n",
       "            ).addTo(map_ad365c133758fdc7093c9b58442d9de4);\n",
       "        \n",
       "    \n",
       "            var marker_50e644d3804cf08a282db5660bd2f0ac = L.marker(\n",
       "                [34.05, -118.24],\n",
       "                {}\n",
       "            ).addTo(map_ad365c133758fdc7093c9b58442d9de4);\n",
       "        \n",
       "    \n",
       "            var marker_a303a56171dcf1f272a0b0b076b9be13 = L.marker(\n",
       "                [34.05, -118.24],\n",
       "                {}\n",
       "            ).addTo(map_ad365c133758fdc7093c9b58442d9de4);\n",
       "        \n",
       "    \n",
       "            var marker_f35603320834345f9b4932be05b55f36 = L.marker(\n",
       "                [34.05, -118.26],\n",
       "                {}\n",
       "            ).addTo(map_ad365c133758fdc7093c9b58442d9de4);\n",
       "        \n",
       "    \n",
       "            var marker_c896c5604f723ee7370580362aaf598d = L.marker(\n",
       "                [34.04, -118.27],\n",
       "                {}\n",
       "            ).addTo(map_ad365c133758fdc7093c9b58442d9de4);\n",
       "        \n",
       "    \n",
       "            var marker_1b1ed155461efc806429c4ff2073d5f0 = L.marker(\n",
       "                [34.04, -118.25],\n",
       "                {}\n",
       "            ).addTo(map_ad365c133758fdc7093c9b58442d9de4);\n",
       "        \n",
       "    \n",
       "            var marker_d832fb09b162db59732e70a2df4fc26b = L.marker(\n",
       "                [34.04, -118.26],\n",
       "                {}\n",
       "            ).addTo(map_ad365c133758fdc7093c9b58442d9de4);\n",
       "        \n",
       "    \n",
       "            var marker_719651b16eb0d1bf151e7bc7c24e4deb = L.marker(\n",
       "                [34.05, -118.25],\n",
       "                {}\n",
       "            ).addTo(map_ad365c133758fdc7093c9b58442d9de4);\n",
       "        \n",
       "    \n",
       "            var marker_e471266aa34ba53dc91e3232c2ba2e3a = L.marker(\n",
       "                [34.06, -118.24],\n",
       "                {}\n",
       "            ).addTo(map_ad365c133758fdc7093c9b58442d9de4);\n",
       "        \n",
       "    \n",
       "            var marker_24d052c37c4999733c983764d23f3859 = L.marker(\n",
       "                [34.04, -118.27],\n",
       "                {}\n",
       "            ).addTo(map_ad365c133758fdc7093c9b58442d9de4);\n",
       "        \n",
       "    \n",
       "            var marker_becb5fd59115ad968037fe61846486db = L.marker(\n",
       "                [34.04, -118.24],\n",
       "                {}\n",
       "            ).addTo(map_ad365c133758fdc7093c9b58442d9de4);\n",
       "        \n",
       "    \n",
       "            var marker_0e73fb0bc45c0427ad49d558dfc635b3 = L.marker(\n",
       "                [34.05, -118.25],\n",
       "                {}\n",
       "            ).addTo(map_ad365c133758fdc7093c9b58442d9de4);\n",
       "        \n",
       "    \n",
       "            var marker_42ef5c311777c99c0d4320dbcd16ca73 = L.marker(\n",
       "                [34.04, -118.24],\n",
       "                {}\n",
       "            ).addTo(map_ad365c133758fdc7093c9b58442d9de4);\n",
       "        \n",
       "    \n",
       "            var marker_5d9149c694b63ff19aeea5de0a7bac29 = L.marker(\n",
       "                [34.05, -118.25],\n",
       "                {}\n",
       "            ).addTo(map_ad365c133758fdc7093c9b58442d9de4);\n",
       "        \n",
       "    \n",
       "            var marker_e50ef5c8dd4cd959fb52345f1a58ac0f = L.marker(\n",
       "                [34.04, -118.25],\n",
       "                {}\n",
       "            ).addTo(map_ad365c133758fdc7093c9b58442d9de4);\n",
       "        \n",
       "    \n",
       "            var marker_a96fd962a6a2d9afc87f8e59f2b24234 = L.marker(\n",
       "                [34.05, -118.24],\n",
       "                {}\n",
       "            ).addTo(map_ad365c133758fdc7093c9b58442d9de4);\n",
       "        \n",
       "    \n",
       "            var marker_8585628209bc56c470a6602017a2d1fb = L.marker(\n",
       "                [34.05, -118.25],\n",
       "                {}\n",
       "            ).addTo(map_ad365c133758fdc7093c9b58442d9de4);\n",
       "        \n",
       "    \n",
       "            var marker_58624723be67dd0d423d8a81a5c26d4f = L.marker(\n",
       "                [34.04, -118.27],\n",
       "                {}\n",
       "            ).addTo(map_ad365c133758fdc7093c9b58442d9de4);\n",
       "        \n",
       "    \n",
       "            var marker_70b9d46489212f88bca23a57bb328c4a = L.marker(\n",
       "                [34.07, -118.23],\n",
       "                {}\n",
       "            ).addTo(map_ad365c133758fdc7093c9b58442d9de4);\n",
       "        \n",
       "    \n",
       "            var marker_5cae614727dc850f3673503d60f0b27b = L.marker(\n",
       "                [34.03, -118.26],\n",
       "                {}\n",
       "            ).addTo(map_ad365c133758fdc7093c9b58442d9de4);\n",
       "        \n",
       "    \n",
       "            var marker_fb8b853e259aab7c9920539beb0edfe8 = L.marker(\n",
       "                [34.06, -118.25],\n",
       "                {}\n",
       "            ).addTo(map_ad365c133758fdc7093c9b58442d9de4);\n",
       "        \n",
       "    \n",
       "            var marker_49ccde51dc80e3a4537cf7bfb04c2959 = L.marker(\n",
       "                [34.04, -118.26],\n",
       "                {}\n",
       "            ).addTo(map_ad365c133758fdc7093c9b58442d9de4);\n",
       "        \n",
       "    \n",
       "            var marker_2c087ca1cf43b54ba97bcfa155aeefc1 = L.marker(\n",
       "                [34.06, -118.24],\n",
       "                {}\n",
       "            ).addTo(map_ad365c133758fdc7093c9b58442d9de4);\n",
       "        \n",
       "    \n",
       "            var marker_341fd882c2acd1a66e280e5722871678 = L.marker(\n",
       "                [34.05, -118.24],\n",
       "                {}\n",
       "            ).addTo(map_ad365c133758fdc7093c9b58442d9de4);\n",
       "        \n",
       "    \n",
       "            var marker_13f36161ffaf014c956684a7d140c7ee = L.marker(\n",
       "                [34.05, -118.26],\n",
       "                {}\n",
       "            ).addTo(map_ad365c133758fdc7093c9b58442d9de4);\n",
       "        \n",
       "    \n",
       "            var marker_ebb360df672fc02b9d4143dacdf53ecb = L.marker(\n",
       "                [34.05, -118.25],\n",
       "                {}\n",
       "            ).addTo(map_ad365c133758fdc7093c9b58442d9de4);\n",
       "        \n",
       "    \n",
       "            var marker_65c8d8893d533321d6cdbdde6fb46afe = L.marker(\n",
       "                [34.05, -118.25],\n",
       "                {}\n",
       "            ).addTo(map_ad365c133758fdc7093c9b58442d9de4);\n",
       "        \n",
       "    \n",
       "            var marker_9eb3b39f25aad012de94d3f73b4425c8 = L.marker(\n",
       "                [34.06, -118.23],\n",
       "                {}\n",
       "            ).addTo(map_ad365c133758fdc7093c9b58442d9de4);\n",
       "        \n",
       "    \n",
       "            var marker_fa845293b32e7e0e59ee514c65708b88 = L.marker(\n",
       "                [34.06, -118.24],\n",
       "                {}\n",
       "            ).addTo(map_ad365c133758fdc7093c9b58442d9de4);\n",
       "        \n",
       "    \n",
       "            var marker_c30aa0b6e7d020365a8aa5e77a187c61 = L.marker(\n",
       "                [34.06, -118.24],\n",
       "                {}\n",
       "            ).addTo(map_ad365c133758fdc7093c9b58442d9de4);\n",
       "        \n",
       "    \n",
       "            var marker_0ff220ab0f7a8e568599771be3f2ff41 = L.marker(\n",
       "                [34.05, -118.26],\n",
       "                {}\n",
       "            ).addTo(map_ad365c133758fdc7093c9b58442d9de4);\n",
       "        \n",
       "    \n",
       "            var marker_9ba74b5cbec1eb8f94c784aaf13d92fd = L.marker(\n",
       "                [34.07, -118.25],\n",
       "                {}\n",
       "            ).addTo(map_ad365c133758fdc7093c9b58442d9de4);\n",
       "        \n",
       "    \n",
       "            var marker_d7f8744ffeed2c46eeb02e287a084534 = L.marker(\n",
       "                [34.05, -118.25],\n",
       "                {}\n",
       "            ).addTo(map_ad365c133758fdc7093c9b58442d9de4);\n",
       "        \n",
       "    \n",
       "            var marker_fc4656aa761cab4d02b8f203529f0766 = L.marker(\n",
       "                [34.04, -118.24],\n",
       "                {}\n",
       "            ).addTo(map_ad365c133758fdc7093c9b58442d9de4);\n",
       "        \n",
       "    \n",
       "            var marker_02a2901d1b97e62c57c249c56f5e2fe9 = L.marker(\n",
       "                [34.04, -118.27],\n",
       "                {}\n",
       "            ).addTo(map_ad365c133758fdc7093c9b58442d9de4);\n",
       "        \n",
       "    \n",
       "            var marker_c0b7cf1d6509ddc0c78c7fd63a0d0958 = L.marker(\n",
       "                [34.06, -118.24],\n",
       "                {}\n",
       "            ).addTo(map_ad365c133758fdc7093c9b58442d9de4);\n",
       "        \n",
       "    \n",
       "            var marker_8048f93c36bdc9e68f9ea3cc17253db7 = L.marker(\n",
       "                [34.05, -118.25],\n",
       "                {}\n",
       "            ).addTo(map_ad365c133758fdc7093c9b58442d9de4);\n",
       "        \n",
       "    \n",
       "            var marker_14871005a22ebc8fc29f706e1bcdd9e5 = L.marker(\n",
       "                [34.04, -118.24],\n",
       "                {}\n",
       "            ).addTo(map_ad365c133758fdc7093c9b58442d9de4);\n",
       "        \n",
       "    \n",
       "            var marker_d75d78e03c9442e2633a5d5b8cc4f56c = L.marker(\n",
       "                [34.04, -118.26],\n",
       "                {}\n",
       "            ).addTo(map_ad365c133758fdc7093c9b58442d9de4);\n",
       "        \n",
       "    \n",
       "            var marker_67d9de2e935bf6fd5b9a23221a933122 = L.marker(\n",
       "                [34.05, -118.25],\n",
       "                {}\n",
       "            ).addTo(map_ad365c133758fdc7093c9b58442d9de4);\n",
       "        \n",
       "    \n",
       "            var marker_756795e56f31af1680ff6cb7d14d2d64 = L.marker(\n",
       "                [34.04, -118.27],\n",
       "                {}\n",
       "            ).addTo(map_ad365c133758fdc7093c9b58442d9de4);\n",
       "        \n",
       "    \n",
       "            var marker_9ee973aef92833def760dcccff40bece = L.marker(\n",
       "                [34.04, -118.26],\n",
       "                {}\n",
       "            ).addTo(map_ad365c133758fdc7093c9b58442d9de4);\n",
       "        \n",
       "    \n",
       "            var marker_74c65d21ab4b885ffd42302751b629e7 = L.marker(\n",
       "                [34.05, -118.24],\n",
       "                {}\n",
       "            ).addTo(map_ad365c133758fdc7093c9b58442d9de4);\n",
       "        \n",
       "    \n",
       "            var marker_6989901fce9d3561d02572866f55723a = L.marker(\n",
       "                [34.2, -118.46],\n",
       "                {}\n",
       "            ).addTo(map_ad365c133758fdc7093c9b58442d9de4);\n",
       "        \n",
       "    \n",
       "            var marker_5344a25eeed9f36b855bc0155e062892 = L.marker(\n",
       "                [34.06, -118.24],\n",
       "                {}\n",
       "            ).addTo(map_ad365c133758fdc7093c9b58442d9de4);\n",
       "        \n",
       "    \n",
       "            var marker_63308f427ea406427f442e23bda8a818 = L.marker(\n",
       "                [34.05, -118.24],\n",
       "                {}\n",
       "            ).addTo(map_ad365c133758fdc7093c9b58442d9de4);\n",
       "        \n",
       "    \n",
       "            var marker_1b1b51b9da830c841a1d2f54877184ef = L.marker(\n",
       "                [34.21, -118.56],\n",
       "                {}\n",
       "            ).addTo(map_ad365c133758fdc7093c9b58442d9de4);\n",
       "        \n",
       "    \n",
       "            var marker_194cd032d5b459c12554a9827d1c5b56 = L.marker(\n",
       "                [34.05, -118.26],\n",
       "                {}\n",
       "            ).addTo(map_ad365c133758fdc7093c9b58442d9de4);\n",
       "        \n",
       "    \n",
       "            var marker_8bf1ec9379e6e79b5876462533b10efb = L.marker(\n",
       "                [34.04, -118.25],\n",
       "                {}\n",
       "            ).addTo(map_ad365c133758fdc7093c9b58442d9de4);\n",
       "        \n",
       "    \n",
       "            var marker_a1995f7c6546d3e3c105024558f384ff = L.marker(\n",
       "                [34.04, -118.24],\n",
       "                {}\n",
       "            ).addTo(map_ad365c133758fdc7093c9b58442d9de4);\n",
       "        \n",
       "    \n",
       "            var marker_7fcba840f5382cac624e7c6e0dd84c17 = L.marker(\n",
       "                [34.05, -118.26],\n",
       "                {}\n",
       "            ).addTo(map_ad365c133758fdc7093c9b58442d9de4);\n",
       "        \n",
       "    \n",
       "            var marker_47b48a13f20335c7a841b88315605a8a = L.marker(\n",
       "                [34.05, -118.25],\n",
       "                {}\n",
       "            ).addTo(map_ad365c133758fdc7093c9b58442d9de4);\n",
       "        \n",
       "    \n",
       "            var marker_8abeffb2f8a4f3862cc1b3f26909ed55 = L.marker(\n",
       "                [34.05, -118.26],\n",
       "                {}\n",
       "            ).addTo(map_ad365c133758fdc7093c9b58442d9de4);\n",
       "        \n",
       "    \n",
       "            var marker_642a8733951c575c89164a887abf05b9 = L.marker(\n",
       "                [34.05, -118.25],\n",
       "                {}\n",
       "            ).addTo(map_ad365c133758fdc7093c9b58442d9de4);\n",
       "        \n",
       "    \n",
       "            var marker_9e155da6847057a0538e2f8932500970 = L.marker(\n",
       "                [34.05, -118.25],\n",
       "                {}\n",
       "            ).addTo(map_ad365c133758fdc7093c9b58442d9de4);\n",
       "        \n",
       "    \n",
       "            var marker_91601df055f6e60a9e500af6811ca676 = L.marker(\n",
       "                [34.05, -118.26],\n",
       "                {}\n",
       "            ).addTo(map_ad365c133758fdc7093c9b58442d9de4);\n",
       "        \n",
       "    \n",
       "            var marker_520a4b9921d88d3860036dc24af7597f = L.marker(\n",
       "                [34.04, -118.27],\n",
       "                {}\n",
       "            ).addTo(map_ad365c133758fdc7093c9b58442d9de4);\n",
       "        \n",
       "    \n",
       "            var marker_b448f5396870f5c1b7ca1b3aa3a4ceeb = L.marker(\n",
       "                [34.05, -118.26],\n",
       "                {}\n",
       "            ).addTo(map_ad365c133758fdc7093c9b58442d9de4);\n",
       "        \n",
       "    \n",
       "            var marker_44b2ae6923dc31180e85205326b771ae = L.marker(\n",
       "                [34.05, -118.26],\n",
       "                {}\n",
       "            ).addTo(map_ad365c133758fdc7093c9b58442d9de4);\n",
       "        \n",
       "    \n",
       "            var marker_3bb6ca4a6da47d53eab79ed0adb7a965 = L.marker(\n",
       "                [34.05, -118.27],\n",
       "                {}\n",
       "            ).addTo(map_ad365c133758fdc7093c9b58442d9de4);\n",
       "        \n",
       "    \n",
       "            var marker_0005529e3af4ba21cfb54db57fa0f6c1 = L.marker(\n",
       "                [34.05, -118.26],\n",
       "                {}\n",
       "            ).addTo(map_ad365c133758fdc7093c9b58442d9de4);\n",
       "        \n",
       "    \n",
       "            var marker_67b878de8471c9b45ab087ec91e662a2 = L.marker(\n",
       "                [34.05, -118.25],\n",
       "                {}\n",
       "            ).addTo(map_ad365c133758fdc7093c9b58442d9de4);\n",
       "        \n",
       "    \n",
       "            var marker_a1aff9ad0aebc8de3b15c15ac9a599cd = L.marker(\n",
       "                [34.05, -118.25],\n",
       "                {}\n",
       "            ).addTo(map_ad365c133758fdc7093c9b58442d9de4);\n",
       "        \n",
       "    \n",
       "            var marker_9b7709a2cd39d3668a106e301b2f26d3 = L.marker(\n",
       "                [34.04, -118.26],\n",
       "                {}\n",
       "            ).addTo(map_ad365c133758fdc7093c9b58442d9de4);\n",
       "        \n",
       "    \n",
       "            var marker_5607a26d709b020bd9edc1b71dfc0d08 = L.marker(\n",
       "                [34.06, -118.24],\n",
       "                {}\n",
       "            ).addTo(map_ad365c133758fdc7093c9b58442d9de4);\n",
       "        \n",
       "    \n",
       "            var marker_04f6b6cd3f721a0947cdd2be7cb87994 = L.marker(\n",
       "                [34.04, -118.26],\n",
       "                {}\n",
       "            ).addTo(map_ad365c133758fdc7093c9b58442d9de4);\n",
       "        \n",
       "    \n",
       "            var marker_1b87f1b1a8aa82cea749f52a5031d3d5 = L.marker(\n",
       "                [34.05, -118.27],\n",
       "                {}\n",
       "            ).addTo(map_ad365c133758fdc7093c9b58442d9de4);\n",
       "        \n",
       "    \n",
       "            var marker_9381b3b0f77e95e9a99bbe510efd1b70 = L.marker(\n",
       "                [34.05, -118.26],\n",
       "                {}\n",
       "            ).addTo(map_ad365c133758fdc7093c9b58442d9de4);\n",
       "        \n",
       "    \n",
       "            var marker_04e265352d5d3cbc7d05dcff4e5c1e50 = L.marker(\n",
       "                [34.05, -118.26],\n",
       "                {}\n",
       "            ).addTo(map_ad365c133758fdc7093c9b58442d9de4);\n",
       "        \n",
       "    \n",
       "            var marker_fb0973e88ad1057662104c259fbab065 = L.marker(\n",
       "                [33.78, -118.28],\n",
       "                {}\n",
       "            ).addTo(map_ad365c133758fdc7093c9b58442d9de4);\n",
       "        \n",
       "    \n",
       "            var marker_2cc382de5064693ee2c252d2d1a1c3c0 = L.marker(\n",
       "                [34.05, -118.28],\n",
       "                {}\n",
       "            ).addTo(map_ad365c133758fdc7093c9b58442d9de4);\n",
       "        \n",
       "    \n",
       "            var marker_252379f00e6ad750e2c18ac9497315d2 = L.marker(\n",
       "                [34.04, -118.25],\n",
       "                {}\n",
       "            ).addTo(map_ad365c133758fdc7093c9b58442d9de4);\n",
       "        \n",
       "    \n",
       "            var marker_8ed702788cffc3359d322abc0050cb2c = L.marker(\n",
       "                [34.04, -118.27],\n",
       "                {}\n",
       "            ).addTo(map_ad365c133758fdc7093c9b58442d9de4);\n",
       "        \n",
       "    \n",
       "            var marker_061b2afe7423a3c14e332d8d054d8500 = L.marker(\n",
       "                [34.05, -118.25],\n",
       "                {}\n",
       "            ).addTo(map_ad365c133758fdc7093c9b58442d9de4);\n",
       "        \n",
       "    \n",
       "            var marker_c3253bf55252fc44a7384884f84d4921 = L.marker(\n",
       "                [34.05, -118.25],\n",
       "                {}\n",
       "            ).addTo(map_ad365c133758fdc7093c9b58442d9de4);\n",
       "        \n",
       "    \n",
       "            var marker_8be4ca1f218f47e2f12aaba9950eceb1 = L.marker(\n",
       "                [34.06, -118.24],\n",
       "                {}\n",
       "            ).addTo(map_ad365c133758fdc7093c9b58442d9de4);\n",
       "        \n",
       "    \n",
       "            var marker_3ebda7c0461806a177f6582ba2f07ed7 = L.marker(\n",
       "                [34.05, -118.24],\n",
       "                {}\n",
       "            ).addTo(map_ad365c133758fdc7093c9b58442d9de4);\n",
       "        \n",
       "    \n",
       "            var marker_9070646cc717225de27181b012f42372 = L.marker(\n",
       "                [34.1, -118.33],\n",
       "                {}\n",
       "            ).addTo(map_ad365c133758fdc7093c9b58442d9de4);\n",
       "        \n",
       "    \n",
       "            var marker_e11e4293c9d52c4b1d6f7387a9f239c4 = L.marker(\n",
       "                [34.04, -118.25],\n",
       "                {}\n",
       "            ).addTo(map_ad365c133758fdc7093c9b58442d9de4);\n",
       "        \n",
       "    \n",
       "            var marker_8130d176bdce605e267319d74691f84d = L.marker(\n",
       "                [34.04, -118.25],\n",
       "                {}\n",
       "            ).addTo(map_ad365c133758fdc7093c9b58442d9de4);\n",
       "        \n",
       "    \n",
       "            var marker_6cae94a6b48c0a9f6f147547340be8de = L.marker(\n",
       "                [33.72, -118.29],\n",
       "                {}\n",
       "            ).addTo(map_ad365c133758fdc7093c9b58442d9de4);\n",
       "        \n",
       "    \n",
       "            var marker_6f771f1b15c336a4786fc8abd20ee351 = L.marker(\n",
       "                [34.05, -118.23],\n",
       "                {}\n",
       "            ).addTo(map_ad365c133758fdc7093c9b58442d9de4);\n",
       "        \n",
       "    \n",
       "            var marker_23fa948aa70cf4d3c4673e204364df2a = L.marker(\n",
       "                [34.06, -118.25],\n",
       "                {}\n",
       "            ).addTo(map_ad365c133758fdc7093c9b58442d9de4);\n",
       "        \n",
       "    \n",
       "            var marker_56199157f718185699c35bef9ec40a0c = L.marker(\n",
       "                [34.04, -118.26],\n",
       "                {}\n",
       "            ).addTo(map_ad365c133758fdc7093c9b58442d9de4);\n",
       "        \n",
       "    \n",
       "            var marker_727017b2b0f8851db3df311035f04c93 = L.marker(\n",
       "                [34.08, -118.26],\n",
       "                {}\n",
       "            ).addTo(map_ad365c133758fdc7093c9b58442d9de4);\n",
       "        \n",
       "    \n",
       "            var marker_bd4040086d03ff6177692a9ac1d7e117 = L.marker(\n",
       "                [34.04, -118.25],\n",
       "                {}\n",
       "            ).addTo(map_ad365c133758fdc7093c9b58442d9de4);\n",
       "        \n",
       "    \n",
       "            var marker_26b7e738e62233e2c347edb3b9377c3c = L.marker(\n",
       "                [34.04, -118.25],\n",
       "                {}\n",
       "            ).addTo(map_ad365c133758fdc7093c9b58442d9de4);\n",
       "        \n",
       "    \n",
       "            var marker_a660b0521b3f3e6ee98b933bd37d401b = L.marker(\n",
       "                [33.79, -118.29],\n",
       "                {}\n",
       "            ).addTo(map_ad365c133758fdc7093c9b58442d9de4);\n",
       "        \n",
       "    \n",
       "            var marker_cb012e6b92c9f14e0f49ac299bf83a38 = L.marker(\n",
       "                [33.98, -118.32],\n",
       "                {}\n",
       "            ).addTo(map_ad365c133758fdc7093c9b58442d9de4);\n",
       "        \n",
       "    \n",
       "            var marker_64f69293b64ed6c890092b98468ceb6b = L.marker(\n",
       "                [34.21, -118.41],\n",
       "                {}\n",
       "            ).addTo(map_ad365c133758fdc7093c9b58442d9de4);\n",
       "        \n",
       "    \n",
       "            var marker_6cd2c3f9bbb1be6e5d7d8b605cc547aa = L.marker(\n",
       "                [34.1, -118.32],\n",
       "                {}\n",
       "            ).addTo(map_ad365c133758fdc7093c9b58442d9de4);\n",
       "        \n",
       "    \n",
       "            var marker_2afdad2f24f7338c3a53ba22df63fcdf = L.marker(\n",
       "                [34.08, -118.3],\n",
       "                {}\n",
       "            ).addTo(map_ad365c133758fdc7093c9b58442d9de4);\n",
       "        \n",
       "    \n",
       "            var marker_825e00afe2a474d47fe19af31a5bbeba = L.marker(\n",
       "                [34.05, -118.3],\n",
       "                {}\n",
       "            ).addTo(map_ad365c133758fdc7093c9b58442d9de4);\n",
       "        \n",
       "    \n",
       "            var marker_4daa64a68449a20b9066f8e70729be98 = L.marker(\n",
       "                [34.28, -118.47],\n",
       "                {}\n",
       "            ).addTo(map_ad365c133758fdc7093c9b58442d9de4);\n",
       "        \n",
       "    \n",
       "            var marker_a4cef969475461da424a23f9f2aec188 = L.marker(\n",
       "                [33.71, -118.29],\n",
       "                {}\n",
       "            ).addTo(map_ad365c133758fdc7093c9b58442d9de4);\n",
       "        \n",
       "    \n",
       "            var marker_73bf5344f09caa32feaf199a4b3f1b98 = L.marker(\n",
       "                [34.06, -118.34],\n",
       "                {}\n",
       "            ).addTo(map_ad365c133758fdc7093c9b58442d9de4);\n",
       "        \n",
       "    \n",
       "            var marker_29e32975969f21daa2f44a5ea5e609ef = L.marker(\n",
       "                [34.14, -118.22],\n",
       "                {}\n",
       "            ).addTo(map_ad365c133758fdc7093c9b58442d9de4);\n",
       "        \n",
       "    \n",
       "            var marker_08c6c100ab929a60cfa7ef85b7d86cf8 = L.marker(\n",
       "                [34.02, -118.2],\n",
       "                {}\n",
       "            ).addTo(map_ad365c133758fdc7093c9b58442d9de4);\n",
       "        \n",
       "    \n",
       "            var marker_8b318d906bed8f8d68f07ad835860954 = L.marker(\n",
       "                [34.06, -118.27],\n",
       "                {}\n",
       "            ).addTo(map_ad365c133758fdc7093c9b58442d9de4);\n",
       "        \n",
       "    \n",
       "            var marker_56629a5793db364a7b5261019162180e = L.marker(\n",
       "                [34.05, -118.24],\n",
       "                {}\n",
       "            ).addTo(map_ad365c133758fdc7093c9b58442d9de4);\n",
       "        \n",
       "    \n",
       "            var marker_ae19e83ba1b2c8a1b9646007a49c689d = L.marker(\n",
       "                [34.06, -118.26],\n",
       "                {}\n",
       "            ).addTo(map_ad365c133758fdc7093c9b58442d9de4);\n",
       "        \n",
       "    \n",
       "            var marker_adc6398525b43759b9abddd149fb0790 = L.marker(\n",
       "                [34.05, -118.26],\n",
       "                {}\n",
       "            ).addTo(map_ad365c133758fdc7093c9b58442d9de4);\n",
       "        \n",
       "    \n",
       "            var marker_6df8824c149767aa9f373799067f42d8 = L.marker(\n",
       "                [33.85, -118.31],\n",
       "                {}\n",
       "            ).addTo(map_ad365c133758fdc7093c9b58442d9de4);\n",
       "        \n",
       "    \n",
       "            var marker_b4ba27f3b3588cb5c833e674808d6e02 = L.marker(\n",
       "                [34.21, -118.56],\n",
       "                {}\n",
       "            ).addTo(map_ad365c133758fdc7093c9b58442d9de4);\n",
       "        \n",
       "    \n",
       "            var marker_7300fc10df8c68f1a19821169093c2a7 = L.marker(\n",
       "                [34.07, -118.22],\n",
       "                {}\n",
       "            ).addTo(map_ad365c133758fdc7093c9b58442d9de4);\n",
       "        \n",
       "    \n",
       "            var marker_edaa23fa7d423cd96788b7a2bfe5c20a = L.marker(\n",
       "                [34.1, -118.33],\n",
       "                {}\n",
       "            ).addTo(map_ad365c133758fdc7093c9b58442d9de4);\n",
       "        \n",
       "    \n",
       "            var marker_09a422a86cf6675bdc92a82048e0f447 = L.marker(\n",
       "                [33.78, -118.31],\n",
       "                {}\n",
       "            ).addTo(map_ad365c133758fdc7093c9b58442d9de4);\n",
       "        \n",
       "    \n",
       "            var marker_4da3e9c09908b6575b6cf4be705d00a9 = L.marker(\n",
       "                [34.11, -118.19],\n",
       "                {}\n",
       "            ).addTo(map_ad365c133758fdc7093c9b58442d9de4);\n",
       "        \n",
       "    \n",
       "            var marker_416bfb7b412df6819c9886e62a7df40c = L.marker(\n",
       "                [34.04, -118.27],\n",
       "                {}\n",
       "            ).addTo(map_ad365c133758fdc7093c9b58442d9de4);\n",
       "        \n",
       "    \n",
       "            var marker_8a020dbd89c404061d41c6fb20055bf9 = L.marker(\n",
       "                [33.74, -118.29],\n",
       "                {}\n",
       "            ).addTo(map_ad365c133758fdc7093c9b58442d9de4);\n",
       "        \n",
       "    \n",
       "            var marker_002da88a378766a99c76d940400ad743 = L.marker(\n",
       "                [33.98, -118.33],\n",
       "                {}\n",
       "            ).addTo(map_ad365c133758fdc7093c9b58442d9de4);\n",
       "        \n",
       "    \n",
       "            var marker_18dbdda3bc7447bd53e7cbc4eb007bc0 = L.marker(\n",
       "                [33.99, -118.31],\n",
       "                {}\n",
       "            ).addTo(map_ad365c133758fdc7093c9b58442d9de4);\n",
       "        \n",
       "    \n",
       "            var marker_7ea79c301ba8e3354796cece3806c754 = L.marker(\n",
       "                [34.11, -118.19],\n",
       "                {}\n",
       "            ).addTo(map_ad365c133758fdc7093c9b58442d9de4);\n",
       "        \n",
       "    \n",
       "            var marker_aad3f1c0d1211e3ddc03ab407111cec5 = L.marker(\n",
       "                [34.09, -118.28],\n",
       "                {}\n",
       "            ).addTo(map_ad365c133758fdc7093c9b58442d9de4);\n",
       "        \n",
       "    \n",
       "            var marker_c3d2487fdd548e564a17747da6b3bec2 = L.marker(\n",
       "                [33.99, -118.31],\n",
       "                {}\n",
       "            ).addTo(map_ad365c133758fdc7093c9b58442d9de4);\n",
       "        \n",
       "    \n",
       "            var marker_28158132516773dcd2ac201aa3641067 = L.marker(\n",
       "                [34.08, -118.44],\n",
       "                {}\n",
       "            ).addTo(map_ad365c133758fdc7093c9b58442d9de4);\n",
       "        \n",
       "    \n",
       "            var marker_502581b879bf92fa5c7d07cab24d904b = L.marker(\n",
       "                [34.11, -118.22],\n",
       "                {}\n",
       "            ).addTo(map_ad365c133758fdc7093c9b58442d9de4);\n",
       "        \n",
       "    \n",
       "            var marker_558c7a12521823b73f422101c24fe5dd = L.marker(\n",
       "                [34.02, -118.35],\n",
       "                {}\n",
       "            ).addTo(map_ad365c133758fdc7093c9b58442d9de4);\n",
       "        \n",
       "    \n",
       "            var marker_15d7ba2186c740efff2486eaeba7a67e = L.marker(\n",
       "                [34.05, -118.25],\n",
       "                {}\n",
       "            ).addTo(map_ad365c133758fdc7093c9b58442d9de4);\n",
       "        \n",
       "    \n",
       "            var marker_573a240d74feb45f3d7d3f67aac6a825 = L.marker(\n",
       "                [34.05, -118.24],\n",
       "                {}\n",
       "            ).addTo(map_ad365c133758fdc7093c9b58442d9de4);\n",
       "        \n",
       "    \n",
       "            var marker_1aefe51cc3f53dfc902ef216e4c90a5b = L.marker(\n",
       "                [34.14, -118.2],\n",
       "                {}\n",
       "            ).addTo(map_ad365c133758fdc7093c9b58442d9de4);\n",
       "        \n",
       "    \n",
       "            var marker_cdd7f1e54ee89059c351e4f750b18139 = L.marker(\n",
       "                [34.04, -118.25],\n",
       "                {}\n",
       "            ).addTo(map_ad365c133758fdc7093c9b58442d9de4);\n",
       "        \n",
       "    \n",
       "            var marker_4b341a9c71942e3ed4556f53fd849f32 = L.marker(\n",
       "                [34.06, -118.24],\n",
       "                {}\n",
       "            ).addTo(map_ad365c133758fdc7093c9b58442d9de4);\n",
       "        \n",
       "    \n",
       "            var marker_bc8070e326bccff49f53f9ccecaa257a = L.marker(\n",
       "                [33.74, -118.29],\n",
       "                {}\n",
       "            ).addTo(map_ad365c133758fdc7093c9b58442d9de4);\n",
       "        \n",
       "    \n",
       "            var marker_9ab665fe12a7af6c6a46663e8a004452 = L.marker(\n",
       "                [34.06, -118.24],\n",
       "                {}\n",
       "            ).addTo(map_ad365c133758fdc7093c9b58442d9de4);\n",
       "        \n",
       "    \n",
       "            var marker_d4e2bdc1d3f5554bc724055f9a74e179 = L.marker(\n",
       "                [34.05, -118.26],\n",
       "                {}\n",
       "            ).addTo(map_ad365c133758fdc7093c9b58442d9de4);\n",
       "        \n",
       "    \n",
       "            var marker_49550e278178510d27f23999dc0284ca = L.marker(\n",
       "                [34.05, -118.25],\n",
       "                {}\n",
       "            ).addTo(map_ad365c133758fdc7093c9b58442d9de4);\n",
       "        \n",
       "    \n",
       "            var marker_0386eaa794d9be24929daa6cf0e5c118 = L.marker(\n",
       "                [34.04, -118.25],\n",
       "                {}\n",
       "            ).addTo(map_ad365c133758fdc7093c9b58442d9de4);\n",
       "        \n",
       "    \n",
       "            var marker_12574d95ebf4ab1b32a53a5ec402aa56 = L.marker(\n",
       "                [34.05, -118.26],\n",
       "                {}\n",
       "            ).addTo(map_ad365c133758fdc7093c9b58442d9de4);\n",
       "        \n",
       "    \n",
       "            var marker_03c1cf1beee8a042dd23f90e7b92ba3e = L.marker(\n",
       "                [34.06, -118.24],\n",
       "                {}\n",
       "            ).addTo(map_ad365c133758fdc7093c9b58442d9de4);\n",
       "        \n",
       "    \n",
       "            var marker_a86473b10f02ea8355b679349d73efba = L.marker(\n",
       "                [34.06, -118.24],\n",
       "                {}\n",
       "            ).addTo(map_ad365c133758fdc7093c9b58442d9de4);\n",
       "        \n",
       "    \n",
       "            var marker_0d5d91407d2276835b7ef58a68448b49 = L.marker(\n",
       "                [34.04, -118.26],\n",
       "                {}\n",
       "            ).addTo(map_ad365c133758fdc7093c9b58442d9de4);\n",
       "        \n",
       "    \n",
       "            var marker_5a4f158c9273bdaef91d08950faeae55 = L.marker(\n",
       "                [34.06, -118.24],\n",
       "                {}\n",
       "            ).addTo(map_ad365c133758fdc7093c9b58442d9de4);\n",
       "        \n",
       "    \n",
       "            var marker_007c67f830d712ca0246d494e4412f3c = L.marker(\n",
       "                [34.05, -118.26],\n",
       "                {}\n",
       "            ).addTo(map_ad365c133758fdc7093c9b58442d9de4);\n",
       "        \n",
       "    \n",
       "            var marker_8c65ff53d8a9efe8dde7b1a4a2dbd74a = L.marker(\n",
       "                [34.05, -118.26],\n",
       "                {}\n",
       "            ).addTo(map_ad365c133758fdc7093c9b58442d9de4);\n",
       "        \n",
       "    \n",
       "            var marker_5aa6dd84754c9cfca519de004f4bfb6c = L.marker(\n",
       "                [34.05, -118.26],\n",
       "                {}\n",
       "            ).addTo(map_ad365c133758fdc7093c9b58442d9de4);\n",
       "        \n",
       "    \n",
       "            var marker_339fbf68137bbfab9e573a14bbe56c73 = L.marker(\n",
       "                [34.05, -118.26],\n",
       "                {}\n",
       "            ).addTo(map_ad365c133758fdc7093c9b58442d9de4);\n",
       "        \n",
       "    \n",
       "            var marker_d26acdf3b6db37b6058de191ec06f1eb = L.marker(\n",
       "                [34.05, -118.25],\n",
       "                {}\n",
       "            ).addTo(map_ad365c133758fdc7093c9b58442d9de4);\n",
       "        \n",
       "    \n",
       "            var marker_950983ff37914f6ef3b3b0641d91445e = L.marker(\n",
       "                [34.05, -118.26],\n",
       "                {}\n",
       "            ).addTo(map_ad365c133758fdc7093c9b58442d9de4);\n",
       "        \n",
       "    \n",
       "            var marker_58f0f2b587c2d3147e54835f92d68fc9 = L.marker(\n",
       "                [34.04, -118.26],\n",
       "                {}\n",
       "            ).addTo(map_ad365c133758fdc7093c9b58442d9de4);\n",
       "        \n",
       "    \n",
       "            var marker_880674213d9b0fff1e30f964f47e2bb2 = L.marker(\n",
       "                [34.05, -118.26],\n",
       "                {}\n",
       "            ).addTo(map_ad365c133758fdc7093c9b58442d9de4);\n",
       "        \n",
       "    \n",
       "            var marker_1ed8bb61736195a1817639c08969e9f7 = L.marker(\n",
       "                [34.05, -118.26],\n",
       "                {}\n",
       "            ).addTo(map_ad365c133758fdc7093c9b58442d9de4);\n",
       "        \n",
       "    \n",
       "            var marker_2e797cb075f3a32604522579b808f382 = L.marker(\n",
       "                [34.04, -118.27],\n",
       "                {}\n",
       "            ).addTo(map_ad365c133758fdc7093c9b58442d9de4);\n",
       "        \n",
       "    \n",
       "            var marker_f611e8400cad1a6c1bd5399063fc9c5b = L.marker(\n",
       "                [34.04, -118.25],\n",
       "                {}\n",
       "            ).addTo(map_ad365c133758fdc7093c9b58442d9de4);\n",
       "        \n",
       "    \n",
       "            var marker_fb6bc3d4c48a6d3a329dbd15affbbf35 = L.marker(\n",
       "                [34.04, -118.26],\n",
       "                {}\n",
       "            ).addTo(map_ad365c133758fdc7093c9b58442d9de4);\n",
       "        \n",
       "    \n",
       "            var marker_95f1a791e28915ee895d4a49d0bb772c = L.marker(\n",
       "                [34.05, -118.23],\n",
       "                {}\n",
       "            ).addTo(map_ad365c133758fdc7093c9b58442d9de4);\n",
       "        \n",
       "    \n",
       "            var marker_9989b03e00b2d475ee9d52768d769d40 = L.marker(\n",
       "                [34.05, -118.25],\n",
       "                {}\n",
       "            ).addTo(map_ad365c133758fdc7093c9b58442d9de4);\n",
       "        \n",
       "    \n",
       "            var marker_481737101ac3d78a55512ca30e903218 = L.marker(\n",
       "                [34.04, -118.26],\n",
       "                {}\n",
       "            ).addTo(map_ad365c133758fdc7093c9b58442d9de4);\n",
       "        \n",
       "    \n",
       "            var marker_9312bfd5ca89a738886bfa90c8885711 = L.marker(\n",
       "                [34.04, -118.26],\n",
       "                {}\n",
       "            ).addTo(map_ad365c133758fdc7093c9b58442d9de4);\n",
       "        \n",
       "    \n",
       "            var marker_7e69093fb27d59e33cbca57cc339be5d = L.marker(\n",
       "                [34.05, -118.26],\n",
       "                {}\n",
       "            ).addTo(map_ad365c133758fdc7093c9b58442d9de4);\n",
       "        \n",
       "    \n",
       "            var marker_4b3b3053672f2eed80eb800b86fd1316 = L.marker(\n",
       "                [34.05, -118.25],\n",
       "                {}\n",
       "            ).addTo(map_ad365c133758fdc7093c9b58442d9de4);\n",
       "        \n",
       "    \n",
       "            var marker_9100596b744acd5fad10eaf7b73f9e61 = L.marker(\n",
       "                [34.06, -118.23],\n",
       "                {}\n",
       "            ).addTo(map_ad365c133758fdc7093c9b58442d9de4);\n",
       "        \n",
       "    \n",
       "            var marker_b153a68c920ec1755ef9c0554c517d15 = L.marker(\n",
       "                [34.05, -118.44],\n",
       "                {}\n",
       "            ).addTo(map_ad365c133758fdc7093c9b58442d9de4);\n",
       "        \n",
       "    \n",
       "            var marker_44a39bc22a8309db5914a0c62cd0ccaa = L.marker(\n",
       "                [34.09, -118.28],\n",
       "                {}\n",
       "            ).addTo(map_ad365c133758fdc7093c9b58442d9de4);\n",
       "        \n",
       "    \n",
       "            var marker_4f1e1621eecae96edec6560820af0a2b = L.marker(\n",
       "                [34.04, -118.26],\n",
       "                {}\n",
       "            ).addTo(map_ad365c133758fdc7093c9b58442d9de4);\n",
       "        \n",
       "    \n",
       "            var marker_663cc64494fc9f39e962616ffd94ab7b = L.marker(\n",
       "                [34.05, -118.25],\n",
       "                {}\n",
       "            ).addTo(map_ad365c133758fdc7093c9b58442d9de4);\n",
       "        \n",
       "    \n",
       "            var marker_4bc0467ad390b66a8b61bcf190e9be12 = L.marker(\n",
       "                [34.05, -118.23],\n",
       "                {}\n",
       "            ).addTo(map_ad365c133758fdc7093c9b58442d9de4);\n",
       "        \n",
       "    \n",
       "            var marker_dfea0d5588920d4ad572424e547c62b2 = L.marker(\n",
       "                [34.04, -118.26],\n",
       "                {}\n",
       "            ).addTo(map_ad365c133758fdc7093c9b58442d9de4);\n",
       "        \n",
       "    \n",
       "            var marker_dc4c6648164a6ec042b080cb267146a9 = L.marker(\n",
       "                [34.05, -118.24],\n",
       "                {}\n",
       "            ).addTo(map_ad365c133758fdc7093c9b58442d9de4);\n",
       "        \n",
       "    \n",
       "            var marker_70a2d0f25b2acf3b718805c8e0460701 = L.marker(\n",
       "                [33.99, -118.31],\n",
       "                {}\n",
       "            ).addTo(map_ad365c133758fdc7093c9b58442d9de4);\n",
       "        \n",
       "    \n",
       "            var marker_97eae3cf9d648e2b4f6ae006e64afd8b = L.marker(\n",
       "                [34.04, -118.27],\n",
       "                {}\n",
       "            ).addTo(map_ad365c133758fdc7093c9b58442d9de4);\n",
       "        \n",
       "    \n",
       "            var marker_80455c36b02c18172b2445fb99040f93 = L.marker(\n",
       "                [34.06, -118.26],\n",
       "                {}\n",
       "            ).addTo(map_ad365c133758fdc7093c9b58442d9de4);\n",
       "        \n",
       "    \n",
       "            var marker_222957c94320dfa20d7b27b6fab22c44 = L.marker(\n",
       "                [34.05, -118.25],\n",
       "                {}\n",
       "            ).addTo(map_ad365c133758fdc7093c9b58442d9de4);\n",
       "        \n",
       "    \n",
       "            var marker_c34d17822a1772fe1c055e507c13b754 = L.marker(\n",
       "                [34.06, -118.25],\n",
       "                {}\n",
       "            ).addTo(map_ad365c133758fdc7093c9b58442d9de4);\n",
       "        \n",
       "    \n",
       "            var marker_93b79e89b7e9a2054286f3ee7a2d21c3 = L.marker(\n",
       "                [34.04, -118.25],\n",
       "                {}\n",
       "            ).addTo(map_ad365c133758fdc7093c9b58442d9de4);\n",
       "        \n",
       "    \n",
       "            var marker_5672210563c459a239a68bd85760d212 = L.marker(\n",
       "                [34.05, -118.25],\n",
       "                {}\n",
       "            ).addTo(map_ad365c133758fdc7093c9b58442d9de4);\n",
       "        \n",
       "    \n",
       "            var marker_b1abea4282a55536e27ad39ec10e038e = L.marker(\n",
       "                [34.05, -118.25],\n",
       "                {}\n",
       "            ).addTo(map_ad365c133758fdc7093c9b58442d9de4);\n",
       "        \n",
       "    \n",
       "            var marker_5fb382697e809081889eccc95fdc2283 = L.marker(\n",
       "                [34.05, -118.26],\n",
       "                {}\n",
       "            ).addTo(map_ad365c133758fdc7093c9b58442d9de4);\n",
       "        \n",
       "    \n",
       "            var marker_35c6e46091e7f4a964eb714116345268 = L.marker(\n",
       "                [34.05, -118.25],\n",
       "                {}\n",
       "            ).addTo(map_ad365c133758fdc7093c9b58442d9de4);\n",
       "        \n",
       "    \n",
       "            var marker_9329f0771fdde622a33b3d9d22c4b6ce = L.marker(\n",
       "                [34.04, -118.25],\n",
       "                {}\n",
       "            ).addTo(map_ad365c133758fdc7093c9b58442d9de4);\n",
       "        \n",
       "    \n",
       "            var marker_4352cced2ce1244bbcb33d546692a26a = L.marker(\n",
       "                [34.05, -118.26],\n",
       "                {}\n",
       "            ).addTo(map_ad365c133758fdc7093c9b58442d9de4);\n",
       "        \n",
       "    \n",
       "            var marker_a186de3824a5b1c11117ca5ff218fef9 = L.marker(\n",
       "                [34.04, -118.26],\n",
       "                {}\n",
       "            ).addTo(map_ad365c133758fdc7093c9b58442d9de4);\n",
       "        \n",
       "    \n",
       "            var marker_d8671425d1c89e0ac4e9cb2b9e461dcf = L.marker(\n",
       "                [34.04, -118.26],\n",
       "                {}\n",
       "            ).addTo(map_ad365c133758fdc7093c9b58442d9de4);\n",
       "        \n",
       "    \n",
       "            var marker_1e34f7d9c609b89809ecb2ae12b4f896 = L.marker(\n",
       "                [34.05, -118.26],\n",
       "                {}\n",
       "            ).addTo(map_ad365c133758fdc7093c9b58442d9de4);\n",
       "        \n",
       "    \n",
       "            var marker_3664094f940b091cb6de38980b374a67 = L.marker(\n",
       "                [34.05, -118.24],\n",
       "                {}\n",
       "            ).addTo(map_ad365c133758fdc7093c9b58442d9de4);\n",
       "        \n",
       "    \n",
       "            var marker_5bb9c44767d6881a06d9a21a18cf2780 = L.marker(\n",
       "                [34.04, -118.26],\n",
       "                {}\n",
       "            ).addTo(map_ad365c133758fdc7093c9b58442d9de4);\n",
       "        \n",
       "    \n",
       "            var marker_84bcaab72d71d35c7d8826e3d24a8c69 = L.marker(\n",
       "                [33.96, -118.26],\n",
       "                {}\n",
       "            ).addTo(map_ad365c133758fdc7093c9b58442d9de4);\n",
       "        \n",
       "    \n",
       "            var marker_1a2dca9f6276e389fc4ee43d9b68e788 = L.marker(\n",
       "                [34.05, -118.25],\n",
       "                {}\n",
       "            ).addTo(map_ad365c133758fdc7093c9b58442d9de4);\n",
       "        \n",
       "    \n",
       "            var marker_b3115099159d9bf4f8641e5d89539a02 = L.marker(\n",
       "                [34.05, -118.23],\n",
       "                {}\n",
       "            ).addTo(map_ad365c133758fdc7093c9b58442d9de4);\n",
       "        \n",
       "    \n",
       "            var marker_49bb074b09c3b05f7c52c6d2a784babc = L.marker(\n",
       "                [34.05, -118.24],\n",
       "                {}\n",
       "            ).addTo(map_ad365c133758fdc7093c9b58442d9de4);\n",
       "        \n",
       "    \n",
       "            var marker_71c718b7a4a516e27289256ef43d43d3 = L.marker(\n",
       "                [34.05, -118.26],\n",
       "                {}\n",
       "            ).addTo(map_ad365c133758fdc7093c9b58442d9de4);\n",
       "        \n",
       "    \n",
       "            var marker_9c2ae646b91dd9e9b75216191693f9b7 = L.marker(\n",
       "                [34.04, -118.25],\n",
       "                {}\n",
       "            ).addTo(map_ad365c133758fdc7093c9b58442d9de4);\n",
       "        \n",
       "    \n",
       "            var marker_92ec7efae9a38c1941b12ebcc673a777 = L.marker(\n",
       "                [34.06, -118.24],\n",
       "                {}\n",
       "            ).addTo(map_ad365c133758fdc7093c9b58442d9de4);\n",
       "        \n",
       "    \n",
       "            var marker_438286f9af7d23049d96d1c737925450 = L.marker(\n",
       "                [34.05, -118.25],\n",
       "                {}\n",
       "            ).addTo(map_ad365c133758fdc7093c9b58442d9de4);\n",
       "        \n",
       "    \n",
       "            var marker_0a0668b7ab4afc3426ae9f93edcce566 = L.marker(\n",
       "                [34.05, -118.25],\n",
       "                {}\n",
       "            ).addTo(map_ad365c133758fdc7093c9b58442d9de4);\n",
       "        \n",
       "    \n",
       "            var marker_02c5232971692a3c0b8bdbd553112732 = L.marker(\n",
       "                [34.04, -118.25],\n",
       "                {}\n",
       "            ).addTo(map_ad365c133758fdc7093c9b58442d9de4);\n",
       "        \n",
       "    \n",
       "            var marker_94ebc9bb9f96648551200d0719f6e5c7 = L.marker(\n",
       "                [34.05, -118.24],\n",
       "                {}\n",
       "            ).addTo(map_ad365c133758fdc7093c9b58442d9de4);\n",
       "        \n",
       "    \n",
       "            var marker_8146a3188c043ac51a7e73bdca76f8f3 = L.marker(\n",
       "                [34.09, -118.35],\n",
       "                {}\n",
       "            ).addTo(map_ad365c133758fdc7093c9b58442d9de4);\n",
       "        \n",
       "    \n",
       "            var marker_ab0c938dcd4272e85086f9f3c8520361 = L.marker(\n",
       "                [34.13, -118.2],\n",
       "                {}\n",
       "            ).addTo(map_ad365c133758fdc7093c9b58442d9de4);\n",
       "        \n",
       "    \n",
       "            var marker_2c710171c6d4a6297756ed2fc944801f = L.marker(\n",
       "                [34.05, -118.25],\n",
       "                {}\n",
       "            ).addTo(map_ad365c133758fdc7093c9b58442d9de4);\n",
       "        \n",
       "    \n",
       "            var marker_37b5d569eb7731ed60fdcfe7dbbbffee = L.marker(\n",
       "                [34.05, -118.25],\n",
       "                {}\n",
       "            ).addTo(map_ad365c133758fdc7093c9b58442d9de4);\n",
       "        \n",
       "    \n",
       "            var marker_8b0f6cf289bb6f183118fcf15c017bcd = L.marker(\n",
       "                [34.05, -118.25],\n",
       "                {}\n",
       "            ).addTo(map_ad365c133758fdc7093c9b58442d9de4);\n",
       "        \n",
       "    \n",
       "            var marker_91a1cb7ef0d479ab2022cfa1b93d2c2b = L.marker(\n",
       "                [34.04, -118.26],\n",
       "                {}\n",
       "            ).addTo(map_ad365c133758fdc7093c9b58442d9de4);\n",
       "        \n",
       "    \n",
       "            var marker_a7f00449df99c1d22f48fd139d5470de = L.marker(\n",
       "                [34.06, -118.23],\n",
       "                {}\n",
       "            ).addTo(map_ad365c133758fdc7093c9b58442d9de4);\n",
       "        \n",
       "    \n",
       "            var marker_cfa5e157c8cd8797f189340c16e5670e = L.marker(\n",
       "                [34.05, -118.25],\n",
       "                {}\n",
       "            ).addTo(map_ad365c133758fdc7093c9b58442d9de4);\n",
       "        \n",
       "    \n",
       "            var marker_3aa7ff90efbf07ad091aab4e8a97c548 = L.marker(\n",
       "                [34.04, -118.26],\n",
       "                {}\n",
       "            ).addTo(map_ad365c133758fdc7093c9b58442d9de4);\n",
       "        \n",
       "    \n",
       "            var marker_56fd7a5922aa38850c1f36f467b9ab1e = L.marker(\n",
       "                [34.06, -118.24],\n",
       "                {}\n",
       "            ).addTo(map_ad365c133758fdc7093c9b58442d9de4);\n",
       "        \n",
       "    \n",
       "            var marker_27955be670d6dc6d3c8db13374bc3e5b = L.marker(\n",
       "                [34.06, -118.24],\n",
       "                {}\n",
       "            ).addTo(map_ad365c133758fdc7093c9b58442d9de4);\n",
       "        \n",
       "    \n",
       "            var marker_fea418ffcfc68e1ed626ee96089f8e7a = L.marker(\n",
       "                [34.05, -118.26],\n",
       "                {}\n",
       "            ).addTo(map_ad365c133758fdc7093c9b58442d9de4);\n",
       "        \n",
       "    \n",
       "            var marker_43dac9421411c778eb614cb2a19a5a18 = L.marker(\n",
       "                [34.04, -118.25],\n",
       "                {}\n",
       "            ).addTo(map_ad365c133758fdc7093c9b58442d9de4);\n",
       "        \n",
       "    \n",
       "            var marker_b69a42a377c45aa3c7b68670b075a06f = L.marker(\n",
       "                [34.04, -118.27],\n",
       "                {}\n",
       "            ).addTo(map_ad365c133758fdc7093c9b58442d9de4);\n",
       "        \n",
       "    \n",
       "            var marker_3456f04ece1d71792df4d021ca1778e3 = L.marker(\n",
       "                [34.05, -118.23],\n",
       "                {}\n",
       "            ).addTo(map_ad365c133758fdc7093c9b58442d9de4);\n",
       "        \n",
       "    \n",
       "            var marker_e7c853020cd8322dedd0ef9acc383a23 = L.marker(\n",
       "                [33.75, -118.3],\n",
       "                {}\n",
       "            ).addTo(map_ad365c133758fdc7093c9b58442d9de4);\n",
       "        \n",
       "    \n",
       "            var marker_61c85a199d51ecadd8c9ed3b530a57e9 = L.marker(\n",
       "                [34.16, -118.44],\n",
       "                {}\n",
       "            ).addTo(map_ad365c133758fdc7093c9b58442d9de4);\n",
       "        \n",
       "    \n",
       "            var marker_645eaa13de5231a40c80aea415103e02 = L.marker(\n",
       "                [34.05, -118.25],\n",
       "                {}\n",
       "            ).addTo(map_ad365c133758fdc7093c9b58442d9de4);\n",
       "        \n",
       "    \n",
       "            var marker_c7ce369530f2361294d03112bd01f062 = L.marker(\n",
       "                [34.04, -118.25],\n",
       "                {}\n",
       "            ).addTo(map_ad365c133758fdc7093c9b58442d9de4);\n",
       "        \n",
       "    \n",
       "            var marker_2909e4a8d990114359f9cefa9ce3f8a7 = L.marker(\n",
       "                [34.05, -118.24],\n",
       "                {}\n",
       "            ).addTo(map_ad365c133758fdc7093c9b58442d9de4);\n",
       "        \n",
       "    \n",
       "            var marker_fc8f9653e99fed3f0548c4fdce1eeaa7 = L.marker(\n",
       "                [34.06, -118.24],\n",
       "                {}\n",
       "            ).addTo(map_ad365c133758fdc7093c9b58442d9de4);\n",
       "        \n",
       "    \n",
       "            var marker_6a94993db5d190fe9fa54a64c196d389 = L.marker(\n",
       "                [34.05, -118.25],\n",
       "                {}\n",
       "            ).addTo(map_ad365c133758fdc7093c9b58442d9de4);\n",
       "        \n",
       "    \n",
       "            var marker_12617e625654b8cebdff5dbc81df84d6 = L.marker(\n",
       "                [34.05, -118.26],\n",
       "                {}\n",
       "            ).addTo(map_ad365c133758fdc7093c9b58442d9de4);\n",
       "        \n",
       "    \n",
       "            var marker_508d1c3f98c971f4e2628fcffebaa316 = L.marker(\n",
       "                [34.05, -118.25],\n",
       "                {}\n",
       "            ).addTo(map_ad365c133758fdc7093c9b58442d9de4);\n",
       "        \n",
       "    \n",
       "            var marker_7531bc5620947309999bfab8c1d960df = L.marker(\n",
       "                [34.05, -118.26],\n",
       "                {}\n",
       "            ).addTo(map_ad365c133758fdc7093c9b58442d9de4);\n",
       "        \n",
       "    \n",
       "            var marker_8df384515b6cd8bf3b4df926e5776790 = L.marker(\n",
       "                [33.74, -118.29],\n",
       "                {}\n",
       "            ).addTo(map_ad365c133758fdc7093c9b58442d9de4);\n",
       "        \n",
       "    \n",
       "            var marker_8f6bf3a86716c9a17e0ce51391854e20 = L.marker(\n",
       "                [34.05, -118.26],\n",
       "                {}\n",
       "            ).addTo(map_ad365c133758fdc7093c9b58442d9de4);\n",
       "        \n",
       "    \n",
       "            var marker_b2a3380c86883e9a9989ab2a38714c59 = L.marker(\n",
       "                [34.05, -118.25],\n",
       "                {}\n",
       "            ).addTo(map_ad365c133758fdc7093c9b58442d9de4);\n",
       "        \n",
       "    \n",
       "            var marker_0ca1c1b3e656adadeba16b28efbb3285 = L.marker(\n",
       "                [34.06, -118.24],\n",
       "                {}\n",
       "            ).addTo(map_ad365c133758fdc7093c9b58442d9de4);\n",
       "        \n",
       "    \n",
       "            var marker_a308266973f20240732c5e11334e26bc = L.marker(\n",
       "                [33.8, -118.3],\n",
       "                {}\n",
       "            ).addTo(map_ad365c133758fdc7093c9b58442d9de4);\n",
       "        \n",
       "    \n",
       "            var marker_0058e1799fd204e053ac4ae2bb5c5da7 = L.marker(\n",
       "                [34.04, -118.4],\n",
       "                {}\n",
       "            ).addTo(map_ad365c133758fdc7093c9b58442d9de4);\n",
       "        \n",
       "    \n",
       "            var marker_839f7bf7c6eb69950c0d7e3625760c47 = L.marker(\n",
       "                [34.05, -118.26],\n",
       "                {}\n",
       "            ).addTo(map_ad365c133758fdc7093c9b58442d9de4);\n",
       "        \n",
       "    \n",
       "            var marker_494237aa863385e9c6e2837239dcaa1d = L.marker(\n",
       "                [34.04, -118.25],\n",
       "                {}\n",
       "            ).addTo(map_ad365c133758fdc7093c9b58442d9de4);\n",
       "        \n",
       "    \n",
       "            var marker_3267311419924f7a0002559bd33ad02f = L.marker(\n",
       "                [34.06, -118.24],\n",
       "                {}\n",
       "            ).addTo(map_ad365c133758fdc7093c9b58442d9de4);\n",
       "        \n",
       "    \n",
       "            var marker_6615bd3ab4cd2b96c8ca3410c7434466 = L.marker(\n",
       "                [34.04, -118.26],\n",
       "                {}\n",
       "            ).addTo(map_ad365c133758fdc7093c9b58442d9de4);\n",
       "        \n",
       "    \n",
       "            var marker_6224683bac0960dde5b5a1a72e900b95 = L.marker(\n",
       "                [34.07, -118.23],\n",
       "                {}\n",
       "            ).addTo(map_ad365c133758fdc7093c9b58442d9de4);\n",
       "        \n",
       "    \n",
       "            var marker_a384204d6de975e6a3442e0e0ba660e4 = L.marker(\n",
       "                [34.04, -118.26],\n",
       "                {}\n",
       "            ).addTo(map_ad365c133758fdc7093c9b58442d9de4);\n",
       "        \n",
       "    \n",
       "            var marker_52927e7e7c5e4f7372fdb07791364bd5 = L.marker(\n",
       "                [34.04, -118.24],\n",
       "                {}\n",
       "            ).addTo(map_ad365c133758fdc7093c9b58442d9de4);\n",
       "        \n",
       "    \n",
       "            var marker_be677058f5fe7201487f888c4e885e37 = L.marker(\n",
       "                [34.05, -118.26],\n",
       "                {}\n",
       "            ).addTo(map_ad365c133758fdc7093c9b58442d9de4);\n",
       "        \n",
       "    \n",
       "            var marker_4e4b07dde4cebc76e00d20df3b95f8a9 = L.marker(\n",
       "                [34.04, -118.24],\n",
       "                {}\n",
       "            ).addTo(map_ad365c133758fdc7093c9b58442d9de4);\n",
       "        \n",
       "    \n",
       "            var marker_20d743a9884aa2ec8b2885e0966ae41c = L.marker(\n",
       "                [34.04, -118.25],\n",
       "                {}\n",
       "            ).addTo(map_ad365c133758fdc7093c9b58442d9de4);\n",
       "        \n",
       "    \n",
       "            var marker_91a64123f6661d573fca2be0aea2d7fe = L.marker(\n",
       "                [34.04, -118.24],\n",
       "                {}\n",
       "            ).addTo(map_ad365c133758fdc7093c9b58442d9de4);\n",
       "        \n",
       "    \n",
       "            var marker_fe8d3a3df8cbdec0ca953e1a1463055e = L.marker(\n",
       "                [34.04, -118.25],\n",
       "                {}\n",
       "            ).addTo(map_ad365c133758fdc7093c9b58442d9de4);\n",
       "        \n",
       "    \n",
       "            var marker_8201778b970b759181e8370901197b1d = L.marker(\n",
       "                [34.07, -118.37],\n",
       "                {}\n",
       "            ).addTo(map_ad365c133758fdc7093c9b58442d9de4);\n",
       "        \n",
       "    \n",
       "            var marker_92def1de399a3c879b3b01a07718ea4c = L.marker(\n",
       "                [34.07, -118.24],\n",
       "                {}\n",
       "            ).addTo(map_ad365c133758fdc7093c9b58442d9de4);\n",
       "        \n",
       "    \n",
       "            var marker_85764108d09a4ba3ab37f5ac8af4e414 = L.marker(\n",
       "                [34.05, -118.26],\n",
       "                {}\n",
       "            ).addTo(map_ad365c133758fdc7093c9b58442d9de4);\n",
       "        \n",
       "    \n",
       "            var marker_a98caeae21964fc4b2e92715d25f3068 = L.marker(\n",
       "                [34.11, -118.24],\n",
       "                {}\n",
       "            ).addTo(map_ad365c133758fdc7093c9b58442d9de4);\n",
       "        \n",
       "    \n",
       "            var marker_437781dd488ca04ba44ecdc421ea2767 = L.marker(\n",
       "                [34.05, -118.24],\n",
       "                {}\n",
       "            ).addTo(map_ad365c133758fdc7093c9b58442d9de4);\n",
       "        \n",
       "    \n",
       "            var marker_03008e473eac140c305ad9f0ffadb779 = L.marker(\n",
       "                [34.05, -118.26],\n",
       "                {}\n",
       "            ).addTo(map_ad365c133758fdc7093c9b58442d9de4);\n",
       "        \n",
       "    \n",
       "            var marker_9800658e3aa3c8b8000ea1344189f1a0 = L.marker(\n",
       "                [34.05, -118.26],\n",
       "                {}\n",
       "            ).addTo(map_ad365c133758fdc7093c9b58442d9de4);\n",
       "        \n",
       "    \n",
       "            var marker_37f07c85e3278c14922e16c19bd957cf = L.marker(\n",
       "                [34.05, -118.26],\n",
       "                {}\n",
       "            ).addTo(map_ad365c133758fdc7093c9b58442d9de4);\n",
       "        \n",
       "    \n",
       "            var marker_4036ea8d64fca96e6070661c48ca978f = L.marker(\n",
       "                [34.05, -118.26],\n",
       "                {}\n",
       "            ).addTo(map_ad365c133758fdc7093c9b58442d9de4);\n",
       "        \n",
       "    \n",
       "            var marker_955992007582f7ee846a5dd4704709b4 = L.marker(\n",
       "                [34.06, -118.24],\n",
       "                {}\n",
       "            ).addTo(map_ad365c133758fdc7093c9b58442d9de4);\n",
       "        \n",
       "    \n",
       "            var marker_96912e70154dd1a82f7118945f9bd3d2 = L.marker(\n",
       "                [34.05, -118.26],\n",
       "                {}\n",
       "            ).addTo(map_ad365c133758fdc7093c9b58442d9de4);\n",
       "        \n",
       "    \n",
       "            var marker_eb62efa35ece216d0868aa652b58adaa = L.marker(\n",
       "                [34.07, -118.23],\n",
       "                {}\n",
       "            ).addTo(map_ad365c133758fdc7093c9b58442d9de4);\n",
       "        \n",
       "    \n",
       "            var marker_009048480ce8af9c4a2bb22ff9c28d8c = L.marker(\n",
       "                [34.08, -118.35],\n",
       "                {}\n",
       "            ).addTo(map_ad365c133758fdc7093c9b58442d9de4);\n",
       "        \n",
       "    \n",
       "            var marker_f6c9ef156e3c4e781fa2dc57a071b6b2 = L.marker(\n",
       "                [34.1, -118.3],\n",
       "                {}\n",
       "            ).addTo(map_ad365c133758fdc7093c9b58442d9de4);\n",
       "        \n",
       "    \n",
       "            var marker_b4af6b1c6c75718814a82f0f2ab9a2ab = L.marker(\n",
       "                [34.07, -118.23],\n",
       "                {}\n",
       "            ).addTo(map_ad365c133758fdc7093c9b58442d9de4);\n",
       "        \n",
       "    \n",
       "            var marker_cebe8f74ac461c5380fcef2e8d81cfae = L.marker(\n",
       "                [34.05, -118.26],\n",
       "                {}\n",
       "            ).addTo(map_ad365c133758fdc7093c9b58442d9de4);\n",
       "        \n",
       "    \n",
       "            var marker_3038c6c2bb86c7ebc13db322876febc7 = L.marker(\n",
       "                [34.14, -118.23],\n",
       "                {}\n",
       "            ).addTo(map_ad365c133758fdc7093c9b58442d9de4);\n",
       "        \n",
       "    \n",
       "            var marker_630f7f85a6602807014ae6d09a805fea = L.marker(\n",
       "                [34.05, -118.26],\n",
       "                {}\n",
       "            ).addTo(map_ad365c133758fdc7093c9b58442d9de4);\n",
       "        \n",
       "    \n",
       "            var marker_1851910b465cfbef3692f580a2af15c1 = L.marker(\n",
       "                [34.05, -118.26],\n",
       "                {}\n",
       "            ).addTo(map_ad365c133758fdc7093c9b58442d9de4);\n",
       "        \n",
       "    \n",
       "            var marker_12baee68f4fb000f0dad0761cd431808 = L.marker(\n",
       "                [34.04, -118.24],\n",
       "                {}\n",
       "            ).addTo(map_ad365c133758fdc7093c9b58442d9de4);\n",
       "        \n",
       "    \n",
       "            var marker_5ab0c3b841449dafbd543c10f669b604 = L.marker(\n",
       "                [34.06, -118.24],\n",
       "                {}\n",
       "            ).addTo(map_ad365c133758fdc7093c9b58442d9de4);\n",
       "        \n",
       "    \n",
       "            var marker_97b8b8f6574f2661db87c9a9709253e8 = L.marker(\n",
       "                [34.04, -118.24],\n",
       "                {}\n",
       "            ).addTo(map_ad365c133758fdc7093c9b58442d9de4);\n",
       "        \n",
       "    \n",
       "            var marker_05c69b95940e3cee07e0fc54e7c10cdd = L.marker(\n",
       "                [34.05, -118.25],\n",
       "                {}\n",
       "            ).addTo(map_ad365c133758fdc7093c9b58442d9de4);\n",
       "        \n",
       "    \n",
       "            var marker_00f97845a37354e5841b6af7e5708996 = L.marker(\n",
       "                [34.05, -118.26],\n",
       "                {}\n",
       "            ).addTo(map_ad365c133758fdc7093c9b58442d9de4);\n",
       "        \n",
       "    \n",
       "            var marker_8473fca25d3dff17a3328b72986e98ce = L.marker(\n",
       "                [34.05, -118.26],\n",
       "                {}\n",
       "            ).addTo(map_ad365c133758fdc7093c9b58442d9de4);\n",
       "        \n",
       "    \n",
       "            var marker_b48f5f7a9685bfed71e86bc1abc72678 = L.marker(\n",
       "                [34.05, -118.25],\n",
       "                {}\n",
       "            ).addTo(map_ad365c133758fdc7093c9b58442d9de4);\n",
       "        \n",
       "    \n",
       "            var marker_5219a50ba25f298c0ab948199086df6f = L.marker(\n",
       "                [34.05, -118.25],\n",
       "                {}\n",
       "            ).addTo(map_ad365c133758fdc7093c9b58442d9de4);\n",
       "        \n",
       "    \n",
       "            var marker_03040c6b0040bcc0e44bfc73333feab7 = L.marker(\n",
       "                [34.05, -118.24],\n",
       "                {}\n",
       "            ).addTo(map_ad365c133758fdc7093c9b58442d9de4);\n",
       "        \n",
       "&lt;/script&gt;\n",
       "&lt;/html&gt;\" style=\"position:absolute;width:100%;height:100%;left:0;top:0;border:none !important;\" allowfullscreen webkitallowfullscreen mozallowfullscreen></iframe></div></div>"
      ],
      "text/plain": [
       "<folium.folium.Map at 0x163dda467d0>"
      ]
     },
     "execution_count": 9,
     "metadata": {},
     "output_type": "execute_result"
    }
   ],
   "source": [
    "#Spatial Analysis:Visualize crime hotspots on a map\n",
    "data=mysql_queryry_df2\n",
    "\n",
    "m = folium.Map(location=(34.01,-118.3), tiles=\"OpenStreetMap\", zoom_start=2)\n",
    "\n",
    "for i in range(0,len(data)):\n",
    "     folium.Marker(\n",
    "        location=[data.iloc[i]['LAT'], data.iloc[i]['LON']]).add_to(m)\n",
    "m"
   ]
  },
  {
   "cell_type": "markdown",
   "id": "6f6d8c39-5682-4282-8243-6e3837085207",
   "metadata": {},
   "source": [
    "#### Conclusion: From geographical information ,the highest crime were occured in Central Area"
   ]
  },
  {
   "cell_type": "markdown",
   "id": "f31396ce-8c91-4afc-9a55-a36d999910a7",
   "metadata": {},
   "source": [
    "### Victim Demographics"
   ]
  },
  {
   "cell_type": "code",
   "execution_count": 9,
   "id": "3209ad41-27e6-4831-9854-466b5cd5bbc8",
   "metadata": {},
   "outputs": [
    {
     "data": {
      "text/plain": [
       "Text(0.5, 1.0, 'Distribution based upon Victim sex')"
      ]
     },
     "execution_count": 9,
     "metadata": {},
     "output_type": "execute_result"
    },
    {
     "data": {
      "image/png": "[encoded data removed]",
      "text/plain": [
       "<Figure size 640x480 with 1 Axes>"
      ]
     },
     "metadata": {},
     "output_type": "display_data"
    }
   ],
   "source": [
    "# Distribution of crime rate based upon victim gender\n",
    "victim_query=pd.read_sql(\"select count(*)as count ,Vict_Sex from crime_dataset group by Vict_Sex order by count desc\",conn)\n",
    "plt.pie(victim_query[\"count\"], labels=victim_query[\"Vict_Sex\"], autopct='%1.2f%%', startangle=90,\n",
    "        colors=['lightblue', 'lightcoral', 'lightgreen', 'lightyellow'])\n",
    "plt.title(\"Distribution based upon Victim sex\")\n"
   ]
  },
  {
   "cell_type": "code",
   "execution_count": 30,
   "id": "be6b048a-c395-406c-b00f-8eb5438ebae0",
   "metadata": {},
   "outputs": [
    {
     "data": {
      "image/png": "[encoded data removed]",
      "text/plain": [
       "<Figure size 1500x500 with 2 Axes>"
      ]
     },
     "metadata": {},
     "output_type": "display_data"
    }
   ],
   "source": [
    "import seaborn as sns\n",
    "#Victim Demographics\n",
    "fig,axes=plt.subplots(nrows=1,ncols=2,figsize=(15,5))\n",
    "victim_query=pd.read_sql(\"select count(*)as count ,Vict_Sex from crime_dataset group by Vict_Sex order by count desc\",conn)\n",
    "#plot 1\n",
    "\n",
    "#Victim Demographics:\n",
    "sns.histplot(mysql_queryry_df2[\"Vict_Age\"],ax=axes[0])\n",
    "axes[0].set_title(\"Distribution of crime data based upon age\")\n",
    "axes[0].set_xlabel(\"Range of Ages\")\n",
    "\n",
    "#plot2\n",
    "sns.scatterplot(x='DATE_OCC',y='Crm_Cd',data=mysql_queryry_df2,marker='H',color='Red',s=20,facecolor=\"Green\",\n",
    "                edgecolor=\"Blue\",hue=mysql_queryry_df2[\"Vict_Sex\"],ax=axes[1])\n",
    "axes[1].set_xlabel(\"DATE_OCC\")\n",
    "axes[1].set_ylabel(\"Crm_Cd\")\n",
    "axes[1].set_title(\"Relationship between date_occ and crime_code\")\n",
    "\n",
    "#axes[1].set_title(\"Crime rate based upon gender\")\n",
    "\n",
    "#plt.ylabel(\"Frequencies\")\n",
    "plt.grid()\n",
    "plt.show()"
   ]
  },
  {
   "cell_type": "code",
   "execution_count": 16,
   "id": "07f17c0b-9877-423b-9a7f-c496f16023fb",
   "metadata": {},
   "outputs": [
    {
     "name": "stdout",
     "output_type": "stream",
     "text": [
      "    count  Vict_Age\n",
      "0      90         0\n",
      "1      19        26\n",
      "2      17        35\n",
      "3      16        28\n",
      "4      15        23\n",
      "..    ...       ...\n",
      "61      1         8\n",
      "62      1         9\n",
      "63      1        17\n",
      "64      1        70\n",
      "65      1        78\n",
      "\n",
      "[66 rows x 2 columns]\n"
     ]
    }
   ],
   "source": [
    "age_query = pd.read_sql(\"select count(*) as count ,Vict_Age from crime_dataset group by Vict_Age order by count desc\",conn)\n",
    "print(age_query)\n"
   ]
  },
  {
   "cell_type": "code",
   "execution_count": 13,
   "id": "eb26ecbc-5dd0-46c1-bb9d-0914f11d93aa",
   "metadata": {},
   "outputs": [
    {
     "data": {
      "image/png": "[encoded data removed]",
      "text/plain": [
       "<Figure size 1500x600 with 1 Axes>"
      ]
     },
     "metadata": {},
     "output_type": "display_data"
    }
   ],
   "source": [
    "#Victim demographics:Count of crime occur based upon victim age\n",
    "plt.figure(figsize=(15,6))\n",
    "sns.countplot(x=\"Vict_Age\", data=data,hue=\"Vict_Sex\") # x axis is am column.\n",
    "plt.title(\"Count of crime occur based upon age\")\n",
    "plt.xlabel(\"Victim age\")\n",
    "plt.ylabel(\"Frequency\")\n",
    "plt.show()"
   ]
  },
  {
   "cell_type": "markdown",
   "id": "72c99d6b-7aef-4edf-92d8-9dd81c0ca9d3",
   "metadata": {},
   "source": [
    "#### Conclusion: Young and early age adults were became victims in most of the crimes. Out of all victims, Male victims count is highest."
   ]
  },
  {
   "cell_type": "markdown",
   "id": "66201df3-4fce-491c-8b7d-88ea76bdc780",
   "metadata": {},
   "source": [
    "### Crime Code Analysis"
   ]
  },
  {
   "cell_type": "code",
   "execution_count": 18,
   "id": "37da59e0-b273-4da0-8dfe-43c2c70cea33",
   "metadata": {},
   "outputs": [
    {
     "name": "stdout",
     "output_type": "stream",
     "text": [
      "    crm_cd                                        Crm_Cd_Desc\n",
      "0      624                           BATTERY - SIMPLE ASSAULT\n",
      "1      745           VANDALISM - MISDEAMEANOR ($399 OR UNDER)\n",
      "2      740  VANDALISM - FELONY ($400 & OVER, ALL CHURCH VA...\n",
      "3      442           SHOPLIFTING - PETTY THEFT ($950 & UNDER)\n",
      "4      946                          OTHER MISCELLANEOUS CRIME\n",
      "5      341  THEFT-GRAND ($950.01 & OVER)EXCPT,GUNS,FOWL,LI...\n",
      "6      330                              BURGLARY FROM VEHICLE\n",
      "7      930             CRIMINAL THREATS - NO WEAPON DISPLAYED\n",
      "8      648                                              ARSON\n",
      "9      354                                  THEFT OF IDENTITY\n",
      "10     230     ASSAULT WITH DEADLY WEAPON, AGGRAVATED ASSAULT\n",
      "11     761                                    BRANDISH WEAPON\n",
      "12     350                                      THEFT, PERSON\n",
      "13     310                                           BURGLARY\n",
      "14     480                                      BIKE - STOLEN\n",
      "15     623                            BATTERY POLICE (SIMPLE)\n",
      "16     440                 THEFT PLAIN - PETTY ($950 & UNDER)\n",
      "17     510                                   VEHICLE - STOLEN\n",
      "18     210                                            ROBBERY\n",
      "19     900                           VIOLATION OF COURT ORDER\n",
      "20     888                                        TRESPASSING\n",
      "21     420    THEFT FROM MOTOR VEHICLE - PETTY ($950 & UNDER)\n",
      "22     886                               DISTURBING THE PEACE\n",
      "23     421                 THEFT FROM MOTOR VEHICLE - ATTEMPT\n",
      "24     647                  THROWING OBJECT AT MOVING VEHICLE\n",
      "25     940                                          EXTORTION\n",
      "26     662                                 BUNCO, GRAND THEFT\n",
      "27     220                                  ATTEMPTED ROBBERY\n",
      "28     625                                      OTHER ASSAULT\n",
      "29     755                                         BOMB SCARE\n",
      "30     649                   DOCUMENT FORGERY / STOLEN FELONY\n",
      "31     901                     VIOLATION OF RESTRAINING ORDER\n",
      "32     320                                BURGLARY, ATTEMPTED\n",
      "33     890                                   FAILURE TO YIELD\n",
      "34     351                                    PURSE SNATCHING\n",
      "35     956            LETTERS, LEWD  -  TELEPHONE CALLS, LEWD\n",
      "36     820                                    ORAL COPULATION\n",
      "37     812  CRM AGNST CHLD (13 OR UNDER) (14-15 & SUSP 10 ...\n",
      "38     920                         KIDNAPPING - GRAND ATTEMPT\n",
      "39     850                                  INDECENT EXPOSURE\n",
      "40     666                                     BUNCO, ATTEMPT\n",
      "41     343           SHOPLIFTING-GRAND THEFT ($950.01 & OVER)\n"
     ]
    }
   ],
   "source": [
    "#Identifying the distinct crime codes and their descriptions.\n",
    "mysql_query1_df = pd.read_sql(\"select distinct crm_cd,Crm_Cd_Desc from crime_dataset\",conn)\n",
    "print(mysql_query1_df)\n"
   ]
  },
  {
   "cell_type": "code",
   "execution_count": 20,
   "id": "5b38d35f-b1df-46f0-8f10-dacebc12e126",
   "metadata": {},
   "outputs": [
    {
     "name": "stdout",
     "output_type": "stream",
     "text": [
      "     Crm_Cd  Count   Date_Rptd\n",
      "0       624      9  2020-01-11\n",
      "1       330      8  2020-01-12\n",
      "2       624      7  2020-01-02\n",
      "3       330      7  2020-01-04\n",
      "4       330      7  2020-01-06\n",
      "..      ...    ...         ...\n",
      "275     440      1  2020-02-11\n",
      "276     440      1  2020-02-08\n",
      "277     624      1  2020-02-06\n",
      "278     888      1  2020-02-07\n",
      "279     745      1  2020-02-07\n",
      "\n",
      "[280 rows x 3 columns]\n"
     ]
    },
    {
     "data": {
      "image/png": "[encoded data removed]",
      "text/plain": [
       "<Figure size 640x480 with 1 Axes>"
      ]
     },
     "metadata": {},
     "output_type": "display_data"
    }
   ],
   "source": [
    "# Distribution of reported crimes based on Crime Code\n",
    "# #scatter chart\n",
    "sns.scatterplot(x='DATE_OCC',y='Crm_Cd',data=mysql_queryry_df2,marker='H',color='Red',s=20,facecolor=\"Green\",edgecolor=\"Blue\")\n",
    "#hue=mysql_queryry_df2[\"Vict_Sex]\n",
    "plt.xlabel(\"Crime occured\")\n",
    "plt.ylabel(\"Crime Code\")\n",
    "plt.title(\"Relationship between Reported Crimes and Crime Code\")\n",
    "#\n",
    "crime_code_query=pd.read_sql(\"select distinct Crm_Cd,count(*) as Count, Date_Rptd from crime_dataset group by  Crm_Cd,Date_Rptd order by Count desc\",conn)\n",
    "print(crime_code_query)\n"
   ]
  },
  {
   "cell_type": "code",
   "execution_count": 16,
   "id": "74f0d38b-c7d6-4dba-bb23-6a54d69c0cec",
   "metadata": {},
   "outputs": [
    {
     "data": {
      "image/png": "[encoded data removed]",
      "text/plain": [
       "<Figure size 1500x500 with 1 Axes>"
      ]
     },
     "metadata": {},
     "output_type": "display_data"
    }
   ],
   "source": [
    "plt.figure(figsize=(15,5))\n",
    "sns.countplot(x='Crm_Cd', data=data,color='Orange') # x axis is am column.\n",
    "plt.title(\"Figure 1: Count based upon Crime Code\")\n",
    "plt.xlabel(\"Crime Code\")\n",
    "plt.ylabel(\"Crime Frequencies\")\n",
    "plt.show()#Analysis based on crime code :330 code BURGLARY FROM VEHICLE has highest crime total 82"
   ]
  },
  {
   "cell_type": "markdown",
   "id": "d2494371-b04d-447f-9419-e363b7d31e8f",
   "metadata": {},
   "source": [
    "### Conclusion: The highest reported crime code is 330 code which is 'BURGLARY FROM VEHICLE' crime."
   ]
  },
  {
   "cell_type": "markdown",
   "id": "7aaf1394-7973-4f46-ae91-d18f57fedd36",
   "metadata": {},
   "source": [
    "### Location Analysis:"
   ]
  },
  {
   "cell_type": "code",
   "execution_count": 19,
   "id": "3a5f8ee7-6d99-4077-aa21-651ded1e00d4",
   "metadata": {},
   "outputs": [
    {
     "name": "stdout",
     "output_type": "stream",
     "text": [
      "                                     Premis_Desc  count\n",
      "0                                      MINI-MART      1\n",
      "1             ABANDONED BUILDING ABANDONED HOUSE      1\n",
      "2                         OFFICE BUILDING/OFFICE      1\n",
      "3                            BEAUTY SUPPLY STORE      1\n",
      "4                                     LAUNDROMAT      1\n",
      "..                                           ...    ...\n",
      "62                        SINGLE FAMILY DWELLING     25\n",
      "63  MULTI-UNIT DWELLING (APARTMENT, DUPLEX, ETC)     45\n",
      "64                                   PARKING LOT     46\n",
      "65                                      SIDEWALK     62\n",
      "66                                        STREET    105\n",
      "\n",
      "[67 rows x 2 columns]\n"
     ]
    }
   ],
   "source": [
    "premise=pd.read_sql(\"select distinct Premis_Desc,count(*) as count from crime_dataset group by Premis_Desc order by count \",conn)\n",
    "print(premise)"
   ]
  },
  {
   "cell_type": "code",
   "execution_count": 18,
   "id": "34b257f7-1b85-481e-af90-75dd328fc552",
   "metadata": {},
   "outputs": [
    {
     "data": {
      "image/png": "[encoded data removed]",
      "text/plain": [
       "<Figure size 1000x1200 with 1 Axes>"
      ]
     },
     "metadata": {},
     "output_type": "display_data"
    }
   ],
   "source": [
    "plt.figure(figsize=(10,12))\n",
    "plt.barh(premise[\"Premis_Desc\"],premise[\"count\"])\n",
    "\n",
    "plt.xlabel(\"Number of crime\")\n",
    "plt.ylabel(\"Crime Premises\")\n",
    "plt.title(\"Location wise Analysis\")\n",
    "plt.show()"
   ]
  },
  {
   "cell_type": "code",
   "execution_count": 17,
   "id": "2443f78c-e067-488f-97bd-2e7f11bb6af3",
   "metadata": {},
   "outputs": [
    {
     "name": "stdout",
     "output_type": "stream",
     "text": [
      "     count            Location\n",
      "0       14    800 N ALAMEDA ST\n",
      "1       11        700 W 7TH ST\n",
      "2        6                 6TH\n",
      "3        6        300 E 5TH ST\n",
      "4        6  1100 S FIGUEROA ST\n",
      "..     ...                 ...\n",
      "360      1      1400 W 37TH DR\n",
      "361      1   2400 ELLENDALE PL\n",
      "362      1             39TH PL\n",
      "363      1    2500 W VERNON AV\n",
      "364      1  2600 S FIGUEROA ST\n",
      "\n",
      "[365 rows x 2 columns]\n"
     ]
    }
   ],
   "source": [
    "query_location=pd.read_sql(\"select count(*) as count ,Location from crime_dataset group by Location order by count desc\",conn)\n",
    "print(query_location)\n"
   ]
  },
  {
   "cell_type": "markdown",
   "id": "33028d96-9af2-4408-9e41-0bcefe398800",
   "metadata": {},
   "source": [
    "### Conclusion: Based upon the location,area and premises, the highest crime were reported in street premises. Maximum number of crime were taken place at 800 N ALAMEDA ST.\r\n"
   ]
  },
  {
   "cell_type": "code",
   "execution_count": null,
   "id": "92682606-5ba5-4bea-aa47-53455166b93f",
   "metadata": {},
   "outputs": [],
   "source": []
  }
 ],
 "metadata": {
  "kernelspec": {
   "display_name": "Python 3 (ipykernel)",
   "language": "python",
   "name": "python3"
  },
  "language_info": {
   "codemirror_mode": {
    "name": "ipython",
    "version": 3
   },
   "file_extension": ".py",
   "mimetype": "text/x-python",
   "name": "python",
   "nbconvert_exporter": "python",
   "pygments_lexer": "ipython3",
   "version": "3.11.7"
  }
 },
 "nbformat": 4,
 "nbformat_minor": 5
}
